{
 "cells": [
  {
   "cell_type": "code",
   "execution_count": 1,
   "metadata": {},
   "outputs": [],
   "source": [
    "from sklearn import preprocessing\n",
    "import pandas as pd \n",
    "from datetime import datetime\n",
    "df = pd.read_hdf('../data/processed/train/aggr_train_zeros.hdf')\n",
    "\n",
    "threshold = datetime(2015, 9, 1)\n",
    "\n",
    "df['date'] = pd.to_datetime(df['year'].astype(str) + '-' + df['month'].astype(str) + '-1')"
   ]
  },
  {
   "cell_type": "code",
   "execution_count": 2,
   "metadata": {},
   "outputs": [],
   "source": [
    "\n",
    "\n",
    "def X(df):\n",
    "    df['day_of_year'] = df['date'].dt.dayofyear\n",
    "    date_cols = [\n",
    "        'month', 'year',\n",
    "        'fridays', 'day_of_year', 'days_in_a_month'\n",
    "    ]\n",
    "    one_hot_cols = [\n",
    "        'shop_id', 'mall', 'city',\n",
    "        'item_id', 'item_category_id', 'first_big_category', 'last_big_category',\n",
    "    ]\n",
    "    additional = [\n",
    "        'expected_sales'\n",
    "    ]\n",
    "\n",
    "    df_X = df[\n",
    "        [\n",
    "            col for col in df.columns\n",
    "            if col.startswith('count')\n",
    "        ]\n",
    "        + date_cols + one_hot_cols + additional\n",
    "        ]\n",
    "\n",
    "    # df_X = pd.get_dummies(df_X, columns=one_hot_cols)\n",
    "    # df_X = pd.get_dummies(df_X, columns=one_hot_cols + date_cols)\n",
    "    for f in df_X.columns:\n",
    "        if df_X[f].dtype == 'object':\n",
    "            lbl = preprocessing.LabelEncoder()\n",
    "            lbl.fit(list(df_X[f].values))\n",
    "            df_X[f] = lbl.transform(list(df_X[f].values))\n",
    "    return df_X\n",
    "\n",
    "def XY(df):\n",
    "    df_X = X(df)\n",
    "    df_y = df['item_cnt_day']\n",
    "    return df_X, df_y\n"
   ]
  },
  {
   "cell_type": "code",
   "execution_count": 3,
   "metadata": {},
   "outputs": [],
   "source": [
    "\n",
    "df_train = df[df['date'] < threshold]"
   ]
  },
  {
   "cell_type": "code",
   "execution_count": 4,
   "metadata": {},
   "outputs": [
    {
     "name": "stderr",
     "output_type": "stream",
     "text": [
      "/home/piotrek/.local/lib/python3.5/site-packages/ipykernel_launcher.py:4: SettingWithCopyWarning: \n",
      "A value is trying to be set on a copy of a slice from a DataFrame.\n",
      "Try using .loc[row_indexer,col_indexer] = value instead\n",
      "\n",
      "See the caveats in the documentation: http://pandas.pydata.org/pandas-docs/stable/indexing.html#indexing-view-versus-copy\n",
      "  after removing the cwd from sys.path.\n",
      "/home/piotrek/.local/lib/python3.5/site-packages/ipykernel_launcher.py:31: SettingWithCopyWarning: \n",
      "A value is trying to be set on a copy of a slice from a DataFrame.\n",
      "Try using .loc[row_indexer,col_indexer] = value instead\n",
      "\n",
      "See the caveats in the documentation: http://pandas.pydata.org/pandas-docs/stable/indexing.html#indexing-view-versus-copy\n"
     ]
    }
   ],
   "source": [
    "\n",
    "\n",
    "df_X_train, df_y_train = XY(df_train)"
   ]
  },
  {
   "cell_type": "code",
   "execution_count": 6,
   "metadata": {},
   "outputs": [
    {
     "data": {
      "text/plain": [
       "RandomForestRegressor(bootstrap=True, criterion='mse', max_depth=6,\n",
       "           max_features='auto', max_leaf_nodes=None,\n",
       "           min_impurity_decrease=0.0, min_impurity_split=None,\n",
       "           min_samples_leaf=1, min_samples_split=2,\n",
       "           min_weight_fraction_leaf=0.0, n_estimators=30, n_jobs=-1,\n",
       "           oob_score=False, random_state=None, verbose=0, warm_start=False)"
      ]
     },
     "execution_count": 6,
     "metadata": {},
     "output_type": "execute_result"
    }
   ],
   "source": [
    "from sklearn.ensemble import RandomForestRegressor\n",
    "model = RandomForestRegressor(n_estimators=30, n_jobs=-1, max_depth=6)\n",
    "model.fit(df_X_train, df_y_train)"
   ]
  },
  {
   "cell_type": "code",
   "execution_count": 8,
   "metadata": {},
   "outputs": [],
   "source": [
    "model.feature_importances_.sort()"
   ]
  },
  {
   "cell_type": "code",
   "execution_count": 9,
   "metadata": {},
   "outputs": [
    {
     "data": {
      "text/plain": [
       "array([1.09061701e-02, 5.43060581e-03, 6.85420912e-04, 6.05921548e-04,\n",
       "       1.02015909e-03, 7.97713964e-04, 6.66790733e-03, 4.21167197e-04,\n",
       "       8.99308696e-04, 7.93740694e-04, 2.08669723e-03, 1.13477269e-03,\n",
       "       2.25557398e-05, 6.32539114e-03, 4.05399577e-03, 3.41378916e-05,\n",
       "       4.10879458e-05, 3.94938618e-05, 1.67880452e-03, 1.08433370e-04,\n",
       "       8.66138706e-04, 1.17721895e-03, 1.51589972e-04, 5.11243001e-05,\n",
       "       1.05025826e-03, 1.71582596e-03, 6.79581081e-04, 8.12275186e-04,\n",
       "       1.17695509e-03, 9.85749095e-05, 2.46874478e-03, 2.04782375e-03,\n",
       "       1.75422352e-04, 1.55916496e-03, 1.35751338e-03, 5.42959746e-03,\n",
       "       2.75800500e-03, 7.15146961e-04, 1.00230517e-03, 6.25703919e-03,\n",
       "       1.87154760e-03, 1.74974221e-03, 2.34234152e-01, 2.25277317e-01,\n",
       "       5.32889673e-03, 9.21727147e-04, 5.43661495e-02, 1.99395527e-01,\n",
       "       1.79037717e-03, 1.88584208e-03, 8.09431898e-04, 1.15580255e-03,\n",
       "       2.21938343e-04, 2.55348761e-03, 9.68045898e-04, 2.64812005e-04,\n",
       "       1.76457831e-03, 3.60383921e-03, 1.11184096e-03, 7.07217249e-04,\n",
       "       3.37965690e-04, 6.39766146e-04, 3.97983751e-03, 1.75846906e-03,\n",
       "       5.96975091e-04, 1.86283178e-03, 1.12642082e-03, 1.24643065e-02,\n",
       "       3.19262211e-04, 1.88003254e-04, 1.17388942e-03, 5.54789381e-03,\n",
       "       3.30668195e-04, 7.76510760e-04, 2.47927094e-03, 4.20398907e-03,\n",
       "       1.66506238e-04, 4.20732943e-03, 1.09317662e-03, 1.43102325e-04,\n",
       "       6.51814904e-04, 2.58817338e-03, 1.20196185e-03, 6.84268403e-04,\n",
       "       4.89821736e-04, 4.72813408e-04, 1.96659888e-04, 3.20771343e-03,\n",
       "       2.97733844e-03, 1.84773818e-03, 4.86308725e-04, 6.17276768e-03,\n",
       "       1.03643496e-05, 2.04048300e-04, 1.61180243e-03, 2.89301407e-04,\n",
       "       1.87335695e-06, 1.20131804e-02, 6.04789613e-04, 1.98929763e-04,\n",
       "       2.34240054e-04, 1.67462680e-05, 2.85100148e-04, 1.17251519e-03,\n",
       "       3.45757343e-04, 2.25337927e-03, 8.30260682e-04, 1.44345626e-03,\n",
       "       1.89156820e-04, 2.41648597e-05, 1.31774276e-04, 2.92201679e-04,\n",
       "       1.19374680e-04, 0.00000000e+00, 9.61209337e-04, 5.58770497e-04,\n",
       "       2.81104585e-03, 6.76414923e-03, 5.00399175e-03, 2.30803917e-03,\n",
       "       2.56694262e-03, 1.04063125e-02, 1.41421001e-03, 3.93626405e-04,\n",
       "       3.85910669e-04, 1.67073925e-03, 3.47618647e-04, 9.42475672e-04,\n",
       "       1.44726560e-03, 6.89413251e-03, 4.27000401e-03, 7.28774457e-04,\n",
       "       2.95874872e-04, 2.00049941e-02, 7.42231818e-04, 4.26042157e-04,\n",
       "       1.37447029e-02, 0.00000000e+00, 2.92412797e-04, 2.24132047e-04,\n",
       "       8.18617775e-04, 1.24957361e-04, 0.00000000e+00, 4.82810562e-04,\n",
       "       1.10791066e-03, 9.92805919e-03])"
      ]
     },
     "execution_count": 9,
     "metadata": {},
     "output_type": "execute_result"
    }
   ],
   "source": [
    "model.feature_importances_"
   ]
  },
  {
   "cell_type": "code",
   "execution_count": 11,
   "metadata": {},
   "outputs": [
    {
     "data": {
      "text/plain": [
       "array([0.00000000e+00, 0.00000000e+00, 0.00000000e+00, 1.87335695e-06,\n",
       "       1.03643496e-05, 1.67462680e-05, 2.25557398e-05, 2.41648597e-05,\n",
       "       3.41378916e-05, 3.94938618e-05, 4.10879458e-05, 5.11243001e-05,\n",
       "       9.85749095e-05, 1.08433370e-04, 1.19374680e-04, 1.24957361e-04,\n",
       "       1.31774276e-04, 1.43102325e-04, 1.51589972e-04, 1.66506238e-04,\n",
       "       1.75422352e-04, 1.88003254e-04, 1.89156820e-04, 1.96659888e-04,\n",
       "       1.98929763e-04, 2.04048300e-04, 2.21938343e-04, 2.24132047e-04,\n",
       "       2.34240054e-04, 2.64812005e-04, 2.85100148e-04, 2.89301407e-04,\n",
       "       2.92201679e-04, 2.92412797e-04, 2.95874872e-04, 3.19262211e-04,\n",
       "       3.30668195e-04, 3.37965690e-04, 3.45757343e-04, 3.47618647e-04,\n",
       "       3.85910669e-04, 3.93626405e-04, 4.21167197e-04, 4.26042157e-04,\n",
       "       4.72813408e-04, 4.82810562e-04, 4.86308725e-04, 4.89821736e-04,\n",
       "       5.58770497e-04, 5.96975091e-04, 6.04789613e-04, 6.05921548e-04,\n",
       "       6.39766146e-04, 6.51814904e-04, 6.79581081e-04, 6.84268403e-04,\n",
       "       6.85420912e-04, 7.07217249e-04, 7.15146961e-04, 7.28774457e-04,\n",
       "       7.42231818e-04, 7.76510760e-04, 7.93740694e-04, 7.97713964e-04,\n",
       "       8.09431898e-04, 8.12275186e-04, 8.18617775e-04, 8.30260682e-04,\n",
       "       8.66138706e-04, 8.99308696e-04, 9.21727147e-04, 9.42475672e-04,\n",
       "       9.61209337e-04, 9.68045898e-04, 1.00230517e-03, 1.02015909e-03,\n",
       "       1.05025826e-03, 1.09317662e-03, 1.10791066e-03, 1.11184096e-03,\n",
       "       1.12642082e-03, 1.13477269e-03, 1.15580255e-03, 1.17251519e-03,\n",
       "       1.17388942e-03, 1.17695509e-03, 1.17721895e-03, 1.20196185e-03,\n",
       "       1.35751338e-03, 1.41421001e-03, 1.44345626e-03, 1.44726560e-03,\n",
       "       1.55916496e-03, 1.61180243e-03, 1.67073925e-03, 1.67880452e-03,\n",
       "       1.71582596e-03, 1.74974221e-03, 1.75846906e-03, 1.76457831e-03,\n",
       "       1.79037717e-03, 1.84773818e-03, 1.86283178e-03, 1.87154760e-03,\n",
       "       1.88584208e-03, 2.04782375e-03, 2.08669723e-03, 2.25337927e-03,\n",
       "       2.30803917e-03, 2.46874478e-03, 2.47927094e-03, 2.55348761e-03,\n",
       "       2.56694262e-03, 2.58817338e-03, 2.75800500e-03, 2.81104585e-03,\n",
       "       2.97733844e-03, 3.20771343e-03, 3.60383921e-03, 3.97983751e-03,\n",
       "       4.05399577e-03, 4.20398907e-03, 4.20732943e-03, 4.27000401e-03,\n",
       "       5.00399175e-03, 5.32889673e-03, 5.42959746e-03, 5.43060581e-03,\n",
       "       5.54789381e-03, 6.17276768e-03, 6.25703919e-03, 6.32539114e-03,\n",
       "       6.66790733e-03, 6.76414923e-03, 6.89413251e-03, 9.92805919e-03,\n",
       "       1.04063125e-02, 1.09061701e-02, 1.20131804e-02, 1.24643065e-02,\n",
       "       1.37447029e-02, 2.00049941e-02, 5.43661495e-02, 1.99395527e-01,\n",
       "       2.25277317e-01, 2.34234152e-01])"
      ]
     },
     "execution_count": 11,
     "metadata": {},
     "output_type": "execute_result"
    }
   ],
   "source": [
    "feat_ = model.feature_importances_\n",
    "feat_.sort()\n",
    "feat_"
   ]
  },
  {
   "cell_type": "code",
   "execution_count": 16,
   "metadata": {},
   "outputs": [
    {
     "data": {
      "text/html": [
       "<div>\n",
       "<style scoped>\n",
       "    .dataframe tbody tr th:only-of-type {\n",
       "        vertical-align: middle;\n",
       "    }\n",
       "\n",
       "    .dataframe tbody tr th {\n",
       "        vertical-align: top;\n",
       "    }\n",
       "\n",
       "    .dataframe thead th {\n",
       "        text-align: right;\n",
       "    }\n",
       "</style>\n",
       "<table border=\"1\" class=\"dataframe\">\n",
       "  <thead>\n",
       "    <tr style=\"text-align: right;\">\n",
       "      <th></th>\n",
       "      <th>feat</th>\n",
       "      <th>import</th>\n",
       "    </tr>\n",
       "  </thead>\n",
       "  <tbody>\n",
       "    <tr>\n",
       "      <th>0</th>\n",
       "      <td>count_aggr_1_month_shop_id</td>\n",
       "      <td>0.010906170083130658</td>\n",
       "    </tr>\n",
       "    <tr>\n",
       "      <th>1</th>\n",
       "      <td>count_aggr_year_shop_id</td>\n",
       "      <td>0.005430605810376044</td>\n",
       "    </tr>\n",
       "    <tr>\n",
       "      <th>2</th>\n",
       "      <td>count_aggr_2_quartals_ago_shop_id</td>\n",
       "      <td>0.0006854209118008463</td>\n",
       "    </tr>\n",
       "    <tr>\n",
       "      <th>3</th>\n",
       "      <td>count_aggr_1_month_ago_shop_id</td>\n",
       "      <td>0.0006059215480858566</td>\n",
       "    </tr>\n",
       "    <tr>\n",
       "      <th>4</th>\n",
       "      <td>count_aggr_3_months_shop_id</td>\n",
       "      <td>0.0010201590938653268</td>\n",
       "    </tr>\n",
       "  </tbody>\n",
       "</table>\n",
       "</div>"
      ],
      "text/plain": [
       "                                feat                 import\n",
       "0         count_aggr_1_month_shop_id   0.010906170083130658\n",
       "1            count_aggr_year_shop_id   0.005430605810376044\n",
       "2  count_aggr_2_quartals_ago_shop_id  0.0006854209118008463\n",
       "3     count_aggr_1_month_ago_shop_id  0.0006059215480858566\n",
       "4        count_aggr_3_months_shop_id  0.0010201590938653268"
      ]
     },
     "execution_count": 16,
     "metadata": {},
     "output_type": "execute_result"
    }
   ],
   "source": [
    "import numpy as np \n",
    "feat = pd.DataFrame(np.vstack(zip(df_X_train.columns, model.feature_importances_)),columns=['feat', 'import'])\n",
    "feat.head()"
   ]
  },
  {
   "cell_type": "code",
   "execution_count": 27,
   "metadata": {},
   "outputs": [
    {
     "data": {
      "text/html": [
       "<div>\n",
       "<style scoped>\n",
       "    .dataframe tbody tr th:only-of-type {\n",
       "        vertical-align: middle;\n",
       "    }\n",
       "\n",
       "    .dataframe tbody tr th {\n",
       "        vertical-align: top;\n",
       "    }\n",
       "\n",
       "    .dataframe thead th {\n",
       "        text-align: right;\n",
       "    }\n",
       "</style>\n",
       "<table border=\"1\" class=\"dataframe\">\n",
       "  <thead>\n",
       "    <tr style=\"text-align: right;\">\n",
       "      <th></th>\n",
       "      <th>feat</th>\n",
       "      <th>import</th>\n",
       "    </tr>\n",
       "  </thead>\n",
       "  <tbody>\n",
       "    <tr>\n",
       "      <th>42</th>\n",
       "      <td>count_aggr_1_month_shop_id_item_id</td>\n",
       "      <td>0.234234</td>\n",
       "    </tr>\n",
       "    <tr>\n",
       "      <th>43</th>\n",
       "      <td>count_aggr_year_shop_id_item_id</td>\n",
       "      <td>0.225277</td>\n",
       "    </tr>\n",
       "    <tr>\n",
       "      <th>47</th>\n",
       "      <td>count_aggr_6_months_shop_id_item_id</td>\n",
       "      <td>0.199396</td>\n",
       "    </tr>\n",
       "    <tr>\n",
       "      <th>46</th>\n",
       "      <td>count_aggr_3_months_shop_id_item_id</td>\n",
       "      <td>0.054366</td>\n",
       "    </tr>\n",
       "    <tr>\n",
       "      <th>133</th>\n",
       "      <td>month</td>\n",
       "      <td>0.020005</td>\n",
       "    </tr>\n",
       "  </tbody>\n",
       "</table>\n",
       "</div>"
      ],
      "text/plain": [
       "                                    feat    import\n",
       "42    count_aggr_1_month_shop_id_item_id  0.234234\n",
       "43       count_aggr_year_shop_id_item_id  0.225277\n",
       "47   count_aggr_6_months_shop_id_item_id  0.199396\n",
       "46   count_aggr_3_months_shop_id_item_id  0.054366\n",
       "133                                month  0.020005"
      ]
     },
     "execution_count": 27,
     "metadata": {},
     "output_type": "execute_result"
    }
   ],
   "source": [
    "feat = feat.sort_values(by='import', ascending=False)\n",
    "feat.head()"
   ]
  },
  {
   "cell_type": "code",
   "execution_count": 28,
   "metadata": {},
   "outputs": [
    {
     "data": {
      "image/png": "[encoded data removed]",
      "text/plain": [
       "<Figure size 432x288 with 1 Axes>"
      ]
     },
     "metadata": {},
     "output_type": "display_data"
    }
   ],
   "source": [
    "feat['import'] = feat['import'].astype(float)\n",
    "feat['import'].plot()\n",
    "plt.show()"
   ]
  },
  {
   "cell_type": "code",
   "execution_count": 31,
   "metadata": {},
   "outputs": [
    {
     "data": {
      "image/png": "[encoded data removed]",
      "text/plain": [
       "<Figure size 432x288 with 1 Axes>"
      ]
     },
     "metadata": {},
     "output_type": "display_data"
    }
   ],
   "source": [
    "plt.scatter(feat.reset_index()['import'].index, feat['import'].values)\n",
    "plt.show()"
   ]
  },
  {
   "cell_type": "code",
   "execution_count": 20,
   "metadata": {},
   "outputs": [],
   "source": [
    "import matplotlib.pyplot as plt\n",
    "plt.show()"
   ]
  },
  {
   "cell_type": "code",
   "execution_count": 29,
   "metadata": {},
   "outputs": [
    {
     "data": {
      "text/html": [
       "<div>\n",
       "<style scoped>\n",
       "    .dataframe tbody tr th:only-of-type {\n",
       "        vertical-align: middle;\n",
       "    }\n",
       "\n",
       "    .dataframe tbody tr th {\n",
       "        vertical-align: top;\n",
       "    }\n",
       "\n",
       "    .dataframe thead th {\n",
       "        text-align: right;\n",
       "    }\n",
       "</style>\n",
       "<table border=\"1\" class=\"dataframe\">\n",
       "  <thead>\n",
       "    <tr style=\"text-align: right;\">\n",
       "      <th></th>\n",
       "      <th>feat</th>\n",
       "      <th>import</th>\n",
       "    </tr>\n",
       "  </thead>\n",
       "  <tbody>\n",
       "    <tr>\n",
       "      <th>42</th>\n",
       "      <td>count_aggr_1_month_shop_id_item_id</td>\n",
       "      <td>0.234234</td>\n",
       "    </tr>\n",
       "    <tr>\n",
       "      <th>43</th>\n",
       "      <td>count_aggr_year_shop_id_item_id</td>\n",
       "      <td>0.225277</td>\n",
       "    </tr>\n",
       "    <tr>\n",
       "      <th>47</th>\n",
       "      <td>count_aggr_6_months_shop_id_item_id</td>\n",
       "      <td>0.199396</td>\n",
       "    </tr>\n",
       "    <tr>\n",
       "      <th>46</th>\n",
       "      <td>count_aggr_3_months_shop_id_item_id</td>\n",
       "      <td>0.054366</td>\n",
       "    </tr>\n",
       "    <tr>\n",
       "      <th>133</th>\n",
       "      <td>month</td>\n",
       "      <td>0.020005</td>\n",
       "    </tr>\n",
       "  </tbody>\n",
       "</table>\n",
       "</div>"
      ],
      "text/plain": [
       "                                    feat    import\n",
       "42    count_aggr_1_month_shop_id_item_id  0.234234\n",
       "43       count_aggr_year_shop_id_item_id  0.225277\n",
       "47   count_aggr_6_months_shop_id_item_id  0.199396\n",
       "46   count_aggr_3_months_shop_id_item_id  0.054366\n",
       "133                                month  0.020005"
      ]
     },
     "execution_count": 29,
     "metadata": {},
     "output_type": "execute_result"
    }
   ],
   "source": [
    "feat.head()"
   ]
  },
  {
   "cell_type": "code",
   "execution_count": 32,
   "metadata": {},
   "outputs": [
    {
     "data": {
      "text/html": [
       "<div>\n",
       "<style scoped>\n",
       "    .dataframe tbody tr th:only-of-type {\n",
       "        vertical-align: middle;\n",
       "    }\n",
       "\n",
       "    .dataframe tbody tr th {\n",
       "        vertical-align: top;\n",
       "    }\n",
       "\n",
       "    .dataframe thead th {\n",
       "        text-align: right;\n",
       "    }\n",
       "</style>\n",
       "<table border=\"1\" class=\"dataframe\">\n",
       "  <thead>\n",
       "    <tr style=\"text-align: right;\">\n",
       "      <th></th>\n",
       "      <th>feat</th>\n",
       "      <th>import</th>\n",
       "    </tr>\n",
       "  </thead>\n",
       "  <tbody>\n",
       "    <tr>\n",
       "      <th>42</th>\n",
       "      <td>count_aggr_1_month_shop_id_item_id</td>\n",
       "      <td>0.234234</td>\n",
       "    </tr>\n",
       "    <tr>\n",
       "      <th>43</th>\n",
       "      <td>count_aggr_year_shop_id_item_id</td>\n",
       "      <td>0.225277</td>\n",
       "    </tr>\n",
       "    <tr>\n",
       "      <th>47</th>\n",
       "      <td>count_aggr_6_months_shop_id_item_id</td>\n",
       "      <td>0.199396</td>\n",
       "    </tr>\n",
       "    <tr>\n",
       "      <th>46</th>\n",
       "      <td>count_aggr_3_months_shop_id_item_id</td>\n",
       "      <td>0.054366</td>\n",
       "    </tr>\n",
       "    <tr>\n",
       "      <th>133</th>\n",
       "      <td>month</td>\n",
       "      <td>0.020005</td>\n",
       "    </tr>\n",
       "    <tr>\n",
       "      <th>136</th>\n",
       "      <td>day_of_year</td>\n",
       "      <td>0.013745</td>\n",
       "    </tr>\n",
       "    <tr>\n",
       "      <th>67</th>\n",
       "      <td>count_aggr_year_mall_item_id</td>\n",
       "      <td>0.012464</td>\n",
       "    </tr>\n",
       "    <tr>\n",
       "      <th>97</th>\n",
       "      <td>count_aggr_year_city_item_category_id</td>\n",
       "      <td>0.012013</td>\n",
       "    </tr>\n",
       "    <tr>\n",
       "      <th>0</th>\n",
       "      <td>count_aggr_1_month_shop_id</td>\n",
       "      <td>0.010906</td>\n",
       "    </tr>\n",
       "    <tr>\n",
       "      <th>121</th>\n",
       "      <td>count_last_week_shop_id_item_id</td>\n",
       "      <td>0.010406</td>\n",
       "    </tr>\n",
       "    <tr>\n",
       "      <th>145</th>\n",
       "      <td>expected_sales</td>\n",
       "      <td>0.009928</td>\n",
       "    </tr>\n",
       "    <tr>\n",
       "      <th>129</th>\n",
       "      <td>count_last_week_city_item_id</td>\n",
       "      <td>0.006894</td>\n",
       "    </tr>\n",
       "    <tr>\n",
       "      <th>117</th>\n",
       "      <td>count_last_week_item_id</td>\n",
       "      <td>0.006764</td>\n",
       "    </tr>\n",
       "    <tr>\n",
       "      <th>6</th>\n",
       "      <td>count_aggr_1_month_mall</td>\n",
       "      <td>0.006668</td>\n",
       "    </tr>\n",
       "    <tr>\n",
       "      <th>13</th>\n",
       "      <td>count_aggr_year_city</td>\n",
       "      <td>0.006325</td>\n",
       "    </tr>\n",
       "    <tr>\n",
       "      <th>39</th>\n",
       "      <td>count_aggr_1_month_ago_last_big_category</td>\n",
       "      <td>0.006257</td>\n",
       "    </tr>\n",
       "    <tr>\n",
       "      <th>91</th>\n",
       "      <td>count_aggr_year_city_item_id</td>\n",
       "      <td>0.006173</td>\n",
       "    </tr>\n",
       "    <tr>\n",
       "      <th>71</th>\n",
       "      <td>count_aggr_6_months_mall_item_id</td>\n",
       "      <td>0.005548</td>\n",
       "    </tr>\n",
       "    <tr>\n",
       "      <th>1</th>\n",
       "      <td>count_aggr_year_shop_id</td>\n",
       "      <td>0.005431</td>\n",
       "    </tr>\n",
       "    <tr>\n",
       "      <th>35</th>\n",
       "      <td>count_aggr_6_months_first_big_category</td>\n",
       "      <td>0.005430</td>\n",
       "    </tr>\n",
       "  </tbody>\n",
       "</table>\n",
       "</div>"
      ],
      "text/plain": [
       "                                         feat    import\n",
       "42         count_aggr_1_month_shop_id_item_id  0.234234\n",
       "43            count_aggr_year_shop_id_item_id  0.225277\n",
       "47        count_aggr_6_months_shop_id_item_id  0.199396\n",
       "46        count_aggr_3_months_shop_id_item_id  0.054366\n",
       "133                                     month  0.020005\n",
       "136                               day_of_year  0.013745\n",
       "67               count_aggr_year_mall_item_id  0.012464\n",
       "97      count_aggr_year_city_item_category_id  0.012013\n",
       "0                  count_aggr_1_month_shop_id  0.010906\n",
       "121           count_last_week_shop_id_item_id  0.010406\n",
       "145                            expected_sales  0.009928\n",
       "129              count_last_week_city_item_id  0.006894\n",
       "117                   count_last_week_item_id  0.006764\n",
       "6                     count_aggr_1_month_mall  0.006668\n",
       "13                       count_aggr_year_city  0.006325\n",
       "39   count_aggr_1_month_ago_last_big_category  0.006257\n",
       "91               count_aggr_year_city_item_id  0.006173\n",
       "71           count_aggr_6_months_mall_item_id  0.005548\n",
       "1                     count_aggr_year_shop_id  0.005431\n",
       "35     count_aggr_6_months_first_big_category  0.005430"
      ]
     },
     "execution_count": 32,
     "metadata": {},
     "output_type": "execute_result"
    }
   ],
   "source": [
    "feat.head(20)"
   ]
  },
  {
   "cell_type": "code",
   "execution_count": 33,
   "metadata": {},
   "outputs": [],
   "source": [
    "feat.to_csv('../reports/feature_importances.csv', index=False)"
   ]
  },
  {
   "cell_type": "code",
   "execution_count": null,
   "metadata": {},
   "outputs": [],
   "source": []
  }
 ],
 "metadata": {
  "kernelspec": {
   "display_name": "Python 3",
   "language": "python",
   "name": "python3"
  },
  "language_info": {
   "codemirror_mode": {
    "name": "ipython",
    "version": 3
   },
   "file_extension": ".py",
   "mimetype": "text/x-python",
   "name": "python",
   "nbconvert_exporter": "python",
   "pygments_lexer": "ipython3",
   "version": "3.5.2"
  }
 },
 "nbformat": 4,
 "nbformat_minor": 2
}
