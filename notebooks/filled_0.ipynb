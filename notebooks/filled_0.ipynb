{
 "cells": [
  {
   "cell_type": "code",
   "execution_count": 1,
   "metadata": {},
   "outputs": [
    {
     "data": {
      "text/html": [
       "<div>\n",
       "<style scoped>\n",
       "    .dataframe tbody tr th:only-of-type {\n",
       "        vertical-align: middle;\n",
       "    }\n",
       "\n",
       "    .dataframe tbody tr th {\n",
       "        vertical-align: top;\n",
       "    }\n",
       "\n",
       "    .dataframe thead th {\n",
       "        text-align: right;\n",
       "    }\n",
       "</style>\n",
       "<table border=\"1\" class=\"dataframe\">\n",
       "  <thead>\n",
       "    <tr style=\"text-align: right;\">\n",
       "      <th></th>\n",
       "      <th>date</th>\n",
       "      <th>date_block_num</th>\n",
       "      <th>shop_id</th>\n",
       "      <th>item_id</th>\n",
       "      <th>item_price</th>\n",
       "      <th>item_cnt_day</th>\n",
       "      <th>day</th>\n",
       "      <th>month</th>\n",
       "      <th>year</th>\n",
       "      <th>weekday</th>\n",
       "      <th>...</th>\n",
       "      <th>to_new_year_days</th>\n",
       "      <th>is_feb_special_time</th>\n",
       "      <th>feb_special_gaussian</th>\n",
       "      <th>from_feb_special_days</th>\n",
       "      <th>to_feb_special_days</th>\n",
       "      <th>is_nov_special_time</th>\n",
       "      <th>nov_special_gaussian</th>\n",
       "      <th>from_nov_special_days</th>\n",
       "      <th>to_nov_special_days</th>\n",
       "      <th>is_holiday</th>\n",
       "    </tr>\n",
       "  </thead>\n",
       "  <tbody>\n",
       "    <tr>\n",
       "      <th>2882335</th>\n",
       "      <td>2015-10-23</td>\n",
       "      <td>33</td>\n",
       "      <td>45</td>\n",
       "      <td>13315</td>\n",
       "      <td>649.0</td>\n",
       "      <td>1.0</td>\n",
       "      <td>23</td>\n",
       "      <td>10</td>\n",
       "      <td>2015</td>\n",
       "      <td>4</td>\n",
       "      <td>...</td>\n",
       "      <td>69</td>\n",
       "      <td>False</td>\n",
       "      <td>0.0</td>\n",
       "      <td>243</td>\n",
       "      <td>122</td>\n",
       "      <td>False</td>\n",
       "      <td>1.755688e-63</td>\n",
       "      <td>17</td>\n",
       "      <td>348</td>\n",
       "      <td>False</td>\n",
       "    </tr>\n",
       "    <tr>\n",
       "      <th>2882336</th>\n",
       "      <td>2015-10-05</td>\n",
       "      <td>33</td>\n",
       "      <td>45</td>\n",
       "      <td>13880</td>\n",
       "      <td>229.0</td>\n",
       "      <td>1.0</td>\n",
       "      <td>5</td>\n",
       "      <td>10</td>\n",
       "      <td>2015</td>\n",
       "      <td>0</td>\n",
       "      <td>...</td>\n",
       "      <td>87</td>\n",
       "      <td>False</td>\n",
       "      <td>0.0</td>\n",
       "      <td>225</td>\n",
       "      <td>140</td>\n",
       "      <td>True</td>\n",
       "      <td>0.000000e+00</td>\n",
       "      <td>364</td>\n",
       "      <td>1</td>\n",
       "      <td>False</td>\n",
       "    </tr>\n",
       "    <tr>\n",
       "      <th>2882337</th>\n",
       "      <td>2015-10-02</td>\n",
       "      <td>33</td>\n",
       "      <td>45</td>\n",
       "      <td>13881</td>\n",
       "      <td>659.0</td>\n",
       "      <td>1.0</td>\n",
       "      <td>2</td>\n",
       "      <td>10</td>\n",
       "      <td>2015</td>\n",
       "      <td>4</td>\n",
       "      <td>...</td>\n",
       "      <td>90</td>\n",
       "      <td>False</td>\n",
       "      <td>0.0</td>\n",
       "      <td>222</td>\n",
       "      <td>143</td>\n",
       "      <td>False</td>\n",
       "      <td>0.000000e+00</td>\n",
       "      <td>361</td>\n",
       "      <td>4</td>\n",
       "      <td>False</td>\n",
       "    </tr>\n",
       "    <tr>\n",
       "      <th>2882338</th>\n",
       "      <td>2015-10-12</td>\n",
       "      <td>33</td>\n",
       "      <td>45</td>\n",
       "      <td>13881</td>\n",
       "      <td>659.0</td>\n",
       "      <td>1.0</td>\n",
       "      <td>12</td>\n",
       "      <td>10</td>\n",
       "      <td>2015</td>\n",
       "      <td>0</td>\n",
       "      <td>...</td>\n",
       "      <td>80</td>\n",
       "      <td>False</td>\n",
       "      <td>0.0</td>\n",
       "      <td>232</td>\n",
       "      <td>133</td>\n",
       "      <td>False</td>\n",
       "      <td>1.522998e-08</td>\n",
       "      <td>6</td>\n",
       "      <td>359</td>\n",
       "      <td>False</td>\n",
       "    </tr>\n",
       "    <tr>\n",
       "      <th>2882339</th>\n",
       "      <td>2015-10-04</td>\n",
       "      <td>33</td>\n",
       "      <td>45</td>\n",
       "      <td>13923</td>\n",
       "      <td>169.0</td>\n",
       "      <td>1.0</td>\n",
       "      <td>4</td>\n",
       "      <td>10</td>\n",
       "      <td>2015</td>\n",
       "      <td>6</td>\n",
       "      <td>...</td>\n",
       "      <td>88</td>\n",
       "      <td>False</td>\n",
       "      <td>0.0</td>\n",
       "      <td>224</td>\n",
       "      <td>141</td>\n",
       "      <td>True</td>\n",
       "      <td>0.000000e+00</td>\n",
       "      <td>363</td>\n",
       "      <td>2</td>\n",
       "      <td>False</td>\n",
       "    </tr>\n",
       "  </tbody>\n",
       "</table>\n",
       "<p>5 rows × 24 columns</p>\n",
       "</div>"
      ],
      "text/plain": [
       "              date  date_block_num  shop_id  item_id  item_price  \\\n",
       "2882335 2015-10-23              33       45    13315       649.0   \n",
       "2882336 2015-10-05              33       45    13880       229.0   \n",
       "2882337 2015-10-02              33       45    13881       659.0   \n",
       "2882338 2015-10-12              33       45    13881       659.0   \n",
       "2882339 2015-10-04              33       45    13923       169.0   \n",
       "\n",
       "         item_cnt_day  day  month  year  weekday     ...      \\\n",
       "2882335           1.0   23     10  2015        4     ...       \n",
       "2882336           1.0    5     10  2015        0     ...       \n",
       "2882337           1.0    2     10  2015        4     ...       \n",
       "2882338           1.0   12     10  2015        0     ...       \n",
       "2882339           1.0    4     10  2015        6     ...       \n",
       "\n",
       "         to_new_year_days  is_feb_special_time  feb_special_gaussian  \\\n",
       "2882335                69                False                   0.0   \n",
       "2882336                87                False                   0.0   \n",
       "2882337                90                False                   0.0   \n",
       "2882338                80                False                   0.0   \n",
       "2882339                88                False                   0.0   \n",
       "\n",
       "         from_feb_special_days  to_feb_special_days  is_nov_special_time  \\\n",
       "2882335                    243                  122                False   \n",
       "2882336                    225                  140                 True   \n",
       "2882337                    222                  143                False   \n",
       "2882338                    232                  133                False   \n",
       "2882339                    224                  141                 True   \n",
       "\n",
       "         nov_special_gaussian  from_nov_special_days  to_nov_special_days  \\\n",
       "2882335          1.755688e-63                     17                  348   \n",
       "2882336          0.000000e+00                    364                    1   \n",
       "2882337          0.000000e+00                    361                    4   \n",
       "2882338          1.522998e-08                      6                  359   \n",
       "2882339          0.000000e+00                    363                    2   \n",
       "\n",
       "         is_holiday  \n",
       "2882335       False  \n",
       "2882336       False  \n",
       "2882337       False  \n",
       "2882338       False  \n",
       "2882339       False  \n",
       "\n",
       "[5 rows x 24 columns]"
      ]
     },
     "execution_count": 1,
     "metadata": {},
     "output_type": "execute_result"
    }
   ],
   "source": [
    "import pandas as pd\n",
    "df_total = pd.read_hdf('../data/processed/train/total.hdf')\n",
    "df_total.head()"
   ]
  },
  {
   "cell_type": "code",
   "execution_count": 2,
   "metadata": {},
   "outputs": [
    {
     "data": {
      "text/plain": [
       "21807"
      ]
     },
     "execution_count": 2,
     "metadata": {},
     "output_type": "execute_result"
    }
   ],
   "source": [
    "df_total['item_id'].nunique()"
   ]
  },
  {
   "cell_type": "code",
   "execution_count": 3,
   "metadata": {},
   "outputs": [
    {
     "data": {
      "text/plain": [
       "5100"
      ]
     },
     "execution_count": 3,
     "metadata": {},
     "output_type": "execute_result"
    }
   ],
   "source": [
    "df_test = pd.read_csv('../data/raw/test.csv')\n",
    "df_test['item_id'].nunique()"
   ]
  },
  {
   "cell_type": "code",
   "execution_count": 4,
   "metadata": {},
   "outputs": [
    {
     "data": {
      "text/html": [
       "<div>\n",
       "<style scoped>\n",
       "    .dataframe tbody tr th:only-of-type {\n",
       "        vertical-align: middle;\n",
       "    }\n",
       "\n",
       "    .dataframe tbody tr th {\n",
       "        vertical-align: top;\n",
       "    }\n",
       "\n",
       "    .dataframe thead th {\n",
       "        text-align: right;\n",
       "    }\n",
       "</style>\n",
       "<table border=\"1\" class=\"dataframe\">\n",
       "  <thead>\n",
       "    <tr style=\"text-align: right;\">\n",
       "      <th></th>\n",
       "      <th>ID</th>\n",
       "      <th>shop_id</th>\n",
       "      <th>item_id</th>\n",
       "      <th>year</th>\n",
       "      <th>month</th>\n",
       "    </tr>\n",
       "  </thead>\n",
       "  <tbody>\n",
       "    <tr>\n",
       "      <th>0</th>\n",
       "      <td>0</td>\n",
       "      <td>5</td>\n",
       "      <td>5037</td>\n",
       "      <td>2015</td>\n",
       "      <td>10</td>\n",
       "    </tr>\n",
       "    <tr>\n",
       "      <th>1</th>\n",
       "      <td>1</td>\n",
       "      <td>5</td>\n",
       "      <td>5320</td>\n",
       "      <td>2015</td>\n",
       "      <td>10</td>\n",
       "    </tr>\n",
       "    <tr>\n",
       "      <th>2</th>\n",
       "      <td>2</td>\n",
       "      <td>5</td>\n",
       "      <td>5233</td>\n",
       "      <td>2015</td>\n",
       "      <td>10</td>\n",
       "    </tr>\n",
       "    <tr>\n",
       "      <th>3</th>\n",
       "      <td>3</td>\n",
       "      <td>5</td>\n",
       "      <td>5232</td>\n",
       "      <td>2015</td>\n",
       "      <td>10</td>\n",
       "    </tr>\n",
       "    <tr>\n",
       "      <th>4</th>\n",
       "      <td>4</td>\n",
       "      <td>5</td>\n",
       "      <td>5268</td>\n",
       "      <td>2015</td>\n",
       "      <td>10</td>\n",
       "    </tr>\n",
       "  </tbody>\n",
       "</table>\n",
       "</div>"
      ],
      "text/plain": [
       "   ID  shop_id  item_id  year  month\n",
       "0   0        5     5037  2015     10\n",
       "1   1        5     5320  2015     10\n",
       "2   2        5     5233  2015     10\n",
       "3   3        5     5232  2015     10\n",
       "4   4        5     5268  2015     10"
      ]
     },
     "execution_count": 4,
     "metadata": {},
     "output_type": "execute_result"
    }
   ],
   "source": [
    "df_valid = pd.read_hdf('../data/processed/validation/valid.hdf')\n",
    "df_valid.head()"
   ]
  },
  {
   "cell_type": "code",
   "execution_count": 7,
   "metadata": {},
   "outputs": [
    {
     "data": {
      "text/plain": [
       "DatetimeIndex(['2014-10-01', '2014-11-01', '2014-12-01', '2015-01-01',\n",
       "               '2015-02-01', '2015-03-01', '2015-04-01', '2015-05-01',\n",
       "               '2015-06-01', '2015-07-01', '2015-08-01', '2015-09-01',\n",
       "               '2015-10-01'],\n",
       "              dtype='datetime64[ns]', freq='MS')"
      ]
     },
     "execution_count": 7,
     "metadata": {},
     "output_type": "execute_result"
    }
   ],
   "source": [
    "from datetime import datetime\n",
    "pd.date_range(datetime(2014, 9, 1), datetime(2015, 10, 1), freq='M') + pd.DateOffset(days=1)"
   ]
  },
  {
   "cell_type": "code",
   "execution_count": 21,
   "metadata": {},
   "outputs": [],
   "source": [
    "def get_new_valid_df(date):\n",
    "    df_t = df_valid.copy()\n",
    "    df_t['year'] = date.year\n",
    "    df_t['month'] = date.month\n",
    "    return df_t\n",
    "df_train_new = pd.concat([\n",
    "    get_new_valid_df(date) for date in\n",
    "    (pd.date_range(datetime(2014, 9, 1), datetime(2015, 10, 1), freq='M') + pd.DateOffset(days=1))\n",
    "])"
   ]
  },
  {
   "cell_type": "code",
   "execution_count": 10,
   "metadata": {},
   "outputs": [
    {
     "data": {
      "text/plain": [
       "DatetimeIndex(['2015-08-01', '2015-09-01', '2015-10-01'], dtype='datetime64[ns]', freq='MS')"
      ]
     },
     "execution_count": 10,
     "metadata": {},
     "output_type": "execute_result"
    }
   ],
   "source": [
    "(pd.date_range(datetime(2015, 7, 1), datetime(2015, 10, 1), freq='M') + pd.DateOffset(days=1))"
   ]
  },
  {
   "cell_type": "code",
   "execution_count": 14,
   "metadata": {},
   "outputs": [
    {
     "data": {
      "text/plain": [
       "(642600, 5)"
      ]
     },
     "execution_count": 14,
     "metadata": {},
     "output_type": "execute_result"
    }
   ],
   "source": [
    "df_valid_new.shape"
   ]
  },
  {
   "cell_type": "code",
   "execution_count": 15,
   "metadata": {},
   "outputs": [
    {
     "data": {
      "text/html": [
       "<div>\n",
       "<style scoped>\n",
       "    .dataframe tbody tr th:only-of-type {\n",
       "        vertical-align: middle;\n",
       "    }\n",
       "\n",
       "    .dataframe tbody tr th {\n",
       "        vertical-align: top;\n",
       "    }\n",
       "\n",
       "    .dataframe thead th {\n",
       "        text-align: right;\n",
       "    }\n",
       "</style>\n",
       "<table border=\"1\" class=\"dataframe\">\n",
       "  <thead>\n",
       "    <tr style=\"text-align: right;\">\n",
       "      <th></th>\n",
       "      <th>shop_id</th>\n",
       "      <th>item_id</th>\n",
       "    </tr>\n",
       "    <tr>\n",
       "      <th>month</th>\n",
       "      <th></th>\n",
       "      <th></th>\n",
       "    </tr>\n",
       "  </thead>\n",
       "  <tbody>\n",
       "    <tr>\n",
       "      <th>8</th>\n",
       "      <td>42</td>\n",
       "      <td>5100</td>\n",
       "    </tr>\n",
       "    <tr>\n",
       "      <th>9</th>\n",
       "      <td>42</td>\n",
       "      <td>5100</td>\n",
       "    </tr>\n",
       "    <tr>\n",
       "      <th>10</th>\n",
       "      <td>42</td>\n",
       "      <td>5100</td>\n",
       "    </tr>\n",
       "  </tbody>\n",
       "</table>\n",
       "</div>"
      ],
      "text/plain": [
       "       shop_id  item_id\n",
       "month                  \n",
       "8           42     5100\n",
       "9           42     5100\n",
       "10          42     5100"
      ]
     },
     "execution_count": 15,
     "metadata": {},
     "output_type": "execute_result"
    }
   ],
   "source": [
    "df_valid_new.groupby('month')[['shop_id', 'item_id']].nunique()"
   ]
  },
  {
   "cell_type": "code",
   "execution_count": 16,
   "metadata": {},
   "outputs": [
    {
     "name": "stderr",
     "output_type": "stream",
     "text": [
      "/usr/lib/python3/dist-packages/tables/path.py:100: NaturalNameWarning: object name is not a valid Python identifier: '3'; it does not match the pattern ``^[a-zA-Z_][a-zA-Z0-9_]*$``; you will not be able to use natural naming to access this object; using ``getattr()`` will still work, though\n",
      "  NaturalNameWarning)\n"
     ]
    }
   ],
   "source": [
    "df_valid_new.to_hdf('../data/processed/validation/valid3.hdf', '3', mode='w')"
   ]
  },
  {
   "cell_type": "code",
   "execution_count": 18,
   "metadata": {},
   "outputs": [
    {
     "data": {
      "text/plain": [
       "21807"
      ]
     },
     "execution_count": 18,
     "metadata": {},
     "output_type": "execute_result"
    }
   ],
   "source": [
    "df_total['item_id'].nunique()"
   ]
  },
  {
   "cell_type": "code",
   "execution_count": 19,
   "metadata": {},
   "outputs": [
    {
     "data": {
      "text/plain": [
       "14400000"
      ]
     },
     "execution_count": 19,
     "metadata": {},
     "output_type": "execute_result"
    }
   ],
   "source": [
    "60 * 20000 * 12"
   ]
  },
  {
   "cell_type": "code",
   "execution_count": 20,
   "metadata": {},
   "outputs": [
    {
     "data": {
      "text/plain": [
       "(642600, 5)"
      ]
     },
     "execution_count": 20,
     "metadata": {},
     "output_type": "execute_result"
    }
   ],
   "source": [
    "df_valid_new.shape"
   ]
  },
  {
   "cell_type": "code",
   "execution_count": 22,
   "metadata": {},
   "outputs": [
    {
     "data": {
      "text/plain": [
       "(2784600, 5)"
      ]
     },
     "execution_count": 22,
     "metadata": {},
     "output_type": "execute_result"
    }
   ],
   "source": [
    "df_train_new.shape"
   ]
  },
  {
   "cell_type": "code",
   "execution_count": 23,
   "metadata": {},
   "outputs": [],
   "source": [
    "df_train_new.to_hdf('../data/processed/train/with_zeros.hdf', 'zeros', mode='w')"
   ]
  },
  {
   "cell_type": "code",
   "execution_count": null,
   "metadata": {},
   "outputs": [],
   "source": []
  }
 ],
 "metadata": {
  "kernelspec": {
   "display_name": "Python 3",
   "language": "python",
   "name": "python3"
  },
  "language_info": {
   "codemirror_mode": {
    "name": "ipython",
    "version": 3
   },
   "file_extension": ".py",
   "mimetype": "text/x-python",
   "name": "python",
   "nbconvert_exporter": "python",
   "pygments_lexer": "ipython3",
   "version": "3.5.2"
  }
 },
 "nbformat": 4,
 "nbformat_minor": 2
}
