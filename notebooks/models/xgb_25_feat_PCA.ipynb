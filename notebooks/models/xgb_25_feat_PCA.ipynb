{
 "cells": [
  {
   "cell_type": "code",
   "execution_count": 2,
   "metadata": {},
   "outputs": [],
   "source": [
    "import pickle \n",
    "import pandas as pd \n",
    "from datetime import datetime\n",
    "df = pd.read_hdf('../../data/processed/train/aggr_train_zeros_25feat.hdf')\n",
    "df_train_pca = pd.read_hdf('../../data/processed/train/pca.hdf')\n",
    "threshold = datetime(2015, 9, 1)\n",
    "\n",
    "df['date'] = pd.to_datetime(df['year'].astype(str) + '-' + df['month'].astype(str) + '-1')\n",
    "pca_cols = ['pca_{}'.format(i) for i in range(4)]\n",
    "df[pca_cols]= df_train_pca[pca_cols]"
   ]
  },
  {
   "cell_type": "code",
   "execution_count": 3,
   "metadata": {},
   "outputs": [],
   "source": [
    "pca_cols = ['pca_{}'.format(i) for i in range(4)]"
   ]
  },
  {
   "cell_type": "code",
   "execution_count": 12,
   "metadata": {},
   "outputs": [],
   "source": [
    "df_train = df[df['date'] < threshold]\n",
    "#df_train = df\n",
    "df_X_train, df_y_train = df_train.drop(['item_cnt_day', 'date'], axis=1), df_train['item_cnt_day']"
   ]
  },
  {
   "cell_type": "code",
   "execution_count": 13,
   "metadata": {},
   "outputs": [],
   "source": [
    "import xgboost as xgb\n",
    "params = {'max_depth': 13, 'eta': 0.05, 'silent': 1}\n",
    "num_round = 230\n",
    "dtrain = xgb.DMatrix(df_X_train, df_y_train.clip(0, 20))\n",
    "model = xgb.train(params, dtrain, num_round)"
   ]
  },
  {
   "cell_type": "code",
   "execution_count": null,
   "metadata": {},
   "outputs": [],
   "source": []
  },
  {
   "cell_type": "code",
   "execution_count": 1,
   "metadata": {},
   "outputs": [],
   "source": [
    "import pickle \n",
    "import pandas as pd \n",
    "from datetime import datetime"
   ]
  },
  {
   "cell_type": "code",
   "execution_count": 2,
   "metadata": {},
   "outputs": [],
   "source": [
    "model = pickle.load(open('../../models/model_xgb_25_feat_11_PCA.pck', 'rb'))"
   ]
  },
  {
   "cell_type": "code",
   "execution_count": 10,
   "metadata": {},
   "outputs": [],
   "source": [
    "from sklearn.metrics import r2_score, mean_squared_error\n",
    "import xgboost as xgb\n",
    "from math import sqrt\n",
    "def get_preds_trained_on_all(model, df_X):\n",
    "    return model.predict(xgb.DMatrix(df_X)).clip(0, 20)\n",
    "\n",
    "\n",
    "def previous_value_preds(df_X):\n",
    "    df_X = df_X.reindex(columns=df_X_train.columns, fill_value=0)\n",
    "    return df_X['count_aggr_1_month_ago_shop_id_item_id'].clip(0, 20)\n",
    "\n",
    "\n",
    "def validate(model, df_y_valid, df_X_valid):\n",
    "    df_y_valid = df_y_valid.copy().clip(0, 20)\n",
    "    df_y_valid_preds = get_preds_trained_on_all(model, df_X_valid)\n",
    "    # df_y_valid_preds = previous_value_preds(df_X_valid)\n",
    "    print('r2 score: ', r2_score(df_y_valid, df_y_valid_preds))\n",
    "    print('RMSE: ', sqrt(mean_squared_error(df_y_valid, df_y_valid_preds)))"
   ]
  },
  {
   "cell_type": "code",
   "execution_count": 6,
   "metadata": {},
   "outputs": [],
   "source": [
    "df_test = pd.read_hdf('../../data/processed/test/aggr_test_25feat.hdf')\n",
    "df_test_pca = pd.read_hdf('../../data/processed/test/pca.hdf')\n",
    "df_test[pca_cols] = df_test_pca[pca_cols]\n",
    "df_X_test = df_test.drop(['ID'], axis=1)\n",
    "df_test['xgb_pca_preds'] = get_preds_trained_on_all(model, df_X_test)\n",
    "df_test[['ID', 'xgb_pca_preds']].to_hdf('../../data/processed/model_valid/xgb_25_feat_11_PCA_test.hdf', 'xgb_pca_test')"
   ]
  },
  {
   "cell_type": "code",
   "execution_count": 14,
   "metadata": {},
   "outputs": [],
   "source": [
    "df_valid = df[df['date'] >= threshold]"
   ]
  },
  {
   "cell_type": "code",
   "execution_count": 16,
   "metadata": {},
   "outputs": [
    {
     "name": "stdout",
     "output_type": "stream",
     "text": [
      "r2 score:  0.36302502378252866\n",
      "RMSE:  0.8802481645924013\n"
     ]
    }
   ],
   "source": [
    "df_X_valid, df_y_valid = df_valid.drop(['item_cnt_day', 'date'], axis=1), df_valid['item_cnt_day']\n",
    "validate(model, df_y_valid, df_X_valid)"
   ]
  },
  {
   "cell_type": "code",
   "execution_count": 13,
   "metadata": {},
   "outputs": [],
   "source": [
    "df_X_valid['preds'] = get_preds_trained_on_all(model, df_X_valid)\n",
    "a = df_X_valid['preds']\n",
    "a.to_hdf('../../data/processed/model_valid/xgb_25_feat_11_PCA_valid.hdf', 'xgb_25_feat_PCA')"
   ]
  },
  {
   "cell_type": "code",
   "execution_count": 17,
   "metadata": {},
   "outputs": [],
   "source": [
    "df_X_valid['preds'] = get_preds_trained_on_all(model, df_X_valid)\n",
    "a = df_X_valid['preds']\n",
    "a.to_hdf('../../data/processed/model_valid/pre_valid_train_clip/xgb_25_feat_11_PCA_valid.hdf', 'xgb_25_feat_PCA')"
   ]
  },
  {
   "cell_type": "code",
   "execution_count": 11,
   "metadata": {},
   "outputs": [],
   "source": [
    "df_test = pd.read_hdf('../../data/processed/test/aggr_test_25feat.hdf')\n",
    "df_test_pca = pd.read_hdf('../../data/processed/test/pca.hdf')\n",
    "df_test[pca_cols] = df_test_pca[pca_cols]\n",
    "df_X_test = df_test.drop(['ID'], axis=1)\n",
    "df_test['xgb_pca_preds'] = get_preds_trained_on_all(model, df_X_test)\n",
    "df_test[['ID', 'xgb_pca_preds']].to_hdf('../../data/processed/model_valid/all_train_clip/xgb_25_feat_11_PCA_test.hdf', 'xgb_pca_test')"
   ]
  },
  {
   "cell_type": "code",
   "execution_count": null,
   "metadata": {},
   "outputs": [],
   "source": []
  }
 ],
 "metadata": {
  "kernelspec": {
   "display_name": "Python 3",
   "language": "python",
   "name": "python3"
  },
  "language_info": {
   "codemirror_mode": {
    "name": "ipython",
    "version": 3
   },
   "file_extension": ".py",
   "mimetype": "text/x-python",
   "name": "python",
   "nbconvert_exporter": "python",
   "pygments_lexer": "ipython3",
   "version": "3.5.2"
  }
 },
 "nbformat": 4,
 "nbformat_minor": 2
}
