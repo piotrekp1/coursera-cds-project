{
 "cells": [
  {
   "cell_type": "code",
   "execution_count": 23,
   "metadata": {},
   "outputs": [],
   "source": [
    "train_data_path = '../../data/processed/model_valid/pre_valid_train'\n",
    "test_data_path = '../../data/processed/model_valid/all_train'\n",
    "train_data = {\n",
    "    'knn10': 'KNN_10.hdf',\n",
    "    'knn3': 'KNN_3.hdf',\n",
    "    'linreg': 'linreg.hdf',\n",
    "    'xgb_25': 'xgb_25_feat_11_PCA_valid.hdf',\n",
    "    'xgb_all': 'xgb_all.hdf'\n",
    "}\n",
    "test_data = {\n",
    "    'knn10': 'knn10_test.hdf',\n",
    "    'knn3': 'KNN_3_test.hdf',\n",
    "    'linreg': 'linreg_test.hdf',\n",
    "    'xgb_25': 'xgb_25_feat_11_PCA_test.hdf',\n",
    "    'xgb_all': 'xgb_all_test.hdf'\n",
    "}"
   ]
  },
  {
   "cell_type": "code",
   "execution_count": 24,
   "metadata": {},
   "outputs": [],
   "source": [
    "import pandas as pd \n",
    "import os \n",
    "def renamed_series_train(name, path):\n",
    "    s = pd.read_hdf(os.path.join(train_data_path, path))\n",
    "    s.name = name \n",
    "    return s \n",
    "def renamed_series_test(name, path):\n",
    "    s = pd.read_hdf(os.path.join(test_data_path, path))\n",
    "    col_name = s.columns[1]\n",
    "    s.set_index('ID', inplace=True)\n",
    "    s = s[col_name]\n",
    "    s.name = name \n",
    "    return s "
   ]
  },
  {
   "cell_type": "code",
   "execution_count": 25,
   "metadata": {},
   "outputs": [],
   "source": [
    "df_train = pd.DataFrame(data={\n",
    "    name: renamed_series_train(name, path) for name, path in train_data.items()\n",
    "})\n",
    "df_test = pd.DataFrame(data={\n",
    "    name: renamed_series_test(name, path) for name, path in test_data.items()\n",
    "})\n",
    "df_valid_true = pd.read_hdf('../../data/processed/model_valid/pre_valid_train/true.hdf')\n",
    "df_valid_true = df_valid_true.clip(0, 20)"
   ]
  },
  {
   "cell_type": "code",
   "execution_count": 26,
   "metadata": {},
   "outputs": [
    {
     "data": {
      "text/html": [
       "<div>\n",
       "<style scoped>\n",
       "    .dataframe tbody tr th:only-of-type {\n",
       "        vertical-align: middle;\n",
       "    }\n",
       "\n",
       "    .dataframe tbody tr th {\n",
       "        vertical-align: top;\n",
       "    }\n",
       "\n",
       "    .dataframe thead th {\n",
       "        text-align: right;\n",
       "    }\n",
       "</style>\n",
       "<table border=\"1\" class=\"dataframe\">\n",
       "  <thead>\n",
       "    <tr style=\"text-align: right;\">\n",
       "      <th></th>\n",
       "      <th>knn10</th>\n",
       "      <th>knn3</th>\n",
       "      <th>linreg</th>\n",
       "      <th>xgb_25</th>\n",
       "      <th>xgb_all</th>\n",
       "    </tr>\n",
       "  </thead>\n",
       "  <tbody>\n",
       "    <tr>\n",
       "      <th>2356200</th>\n",
       "      <td>0.9</td>\n",
       "      <td>3.333333</td>\n",
       "      <td>1.314807</td>\n",
       "      <td>2.890960</td>\n",
       "      <td>2.739996</td>\n",
       "    </tr>\n",
       "    <tr>\n",
       "      <th>2356201</th>\n",
       "      <td>0.2</td>\n",
       "      <td>3.333333</td>\n",
       "      <td>0.712276</td>\n",
       "      <td>2.718085</td>\n",
       "      <td>2.961049</td>\n",
       "    </tr>\n",
       "    <tr>\n",
       "      <th>2356202</th>\n",
       "      <td>1.8</td>\n",
       "      <td>0.000000</td>\n",
       "      <td>2.548201</td>\n",
       "      <td>1.616810</td>\n",
       "      <td>1.201391</td>\n",
       "    </tr>\n",
       "    <tr>\n",
       "      <th>2356203</th>\n",
       "      <td>0.1</td>\n",
       "      <td>0.000000</td>\n",
       "      <td>0.000000</td>\n",
       "      <td>0.089291</td>\n",
       "      <td>0.130663</td>\n",
       "    </tr>\n",
       "    <tr>\n",
       "      <th>2356204</th>\n",
       "      <td>1.0</td>\n",
       "      <td>0.000000</td>\n",
       "      <td>1.502367</td>\n",
       "      <td>1.360490</td>\n",
       "      <td>1.253611</td>\n",
       "    </tr>\n",
       "  </tbody>\n",
       "</table>\n",
       "</div>"
      ],
      "text/plain": [
       "         knn10      knn3    linreg    xgb_25   xgb_all\n",
       "2356200    0.9  3.333333  1.314807  2.890960  2.739996\n",
       "2356201    0.2  3.333333  0.712276  2.718085  2.961049\n",
       "2356202    1.8  0.000000  2.548201  1.616810  1.201391\n",
       "2356203    0.1  0.000000  0.000000  0.089291  0.130663\n",
       "2356204    1.0  0.000000  1.502367  1.360490  1.253611"
      ]
     },
     "execution_count": 26,
     "metadata": {},
     "output_type": "execute_result"
    }
   ],
   "source": [
    "df_train.head()"
   ]
  },
  {
   "cell_type": "code",
   "execution_count": 45,
   "metadata": {},
   "outputs": [],
   "source": [
    "def second_order_df(df):\n",
    "    df_2o = pd.DataFrame(data={\n",
    "        '{}_{}'.format(fst_col, snd_col): df[fst_col] * df[snd_col] \n",
    "        for fst_col in df.columns\n",
    "        for snd_col in df.columns\n",
    "        if fst_col <= snd_col\n",
    "    })\n",
    "    df_2o[df.columns] = df\n",
    "    return df_2o"
   ]
  },
  {
   "cell_type": "code",
   "execution_count": 46,
   "metadata": {},
   "outputs": [],
   "source": [
    "from itertools import product\n",
    "def third_order_df(df):\n",
    "    df_3o = pd.DataFrame(data={\n",
    "        '{}_{}_{}'.format(fst_col, snd_col,thrd_col): df[fst_col] * df[snd_col] * df[thrd_col]\n",
    "        for fst_col in df.columns\n",
    "        for snd_col in df.columns\n",
    "        for thrd_col in df.columns\n",
    "        if fst_col <= snd_col\n",
    "        and snd_col <= thrd_col \n",
    "    })\n",
    "    df_2o = second_order_df(df)\n",
    "    df_3o[df_2o.columns] = df_2o\n",
    "    df_3o[df.columns] = df\n",
    "    return df_2o\n",
    "        "
   ]
  },
  {
   "cell_type": "code",
   "execution_count": 54,
   "metadata": {},
   "outputs": [],
   "source": [
    "df_train_2o = second_order_df(df_train)"
   ]
  },
  {
   "cell_type": "code",
   "execution_count": 29,
   "metadata": {
    "scrolled": true
   },
   "outputs": [
    {
     "name": "stdout",
     "output_type": "stream",
     "text": [
      "1st orrder\n",
      "r2_score:  0.38441198366041485\n",
      "mean_squared_error:  0.7488210459690807\n",
      "2nd order\n",
      "r2_score:  0.38630125250933545\n",
      "mean_squared_error:  0.746522878626614\n"
     ]
    }
   ],
   "source": [
    "from sklearn.linear_model import LinearRegression\n",
    "from sklearn.model_selection import cross_val_predict\n",
    "from sklearn.metrics import r2_score, mean_squared_error\n",
    "def evaluate(preds):\n",
    "    print('r2_score: ', r2_score(df_valid_true, preds))\n",
    "    print('mean_squared_error: ', mean_squared_error(df_valid_true, preds))\n",
    "    \n",
    "model = LinearRegression()\n",
    "preds_1st_order = cross_val_predict(model, df_train, df_valid_true).clip(0, 20)\n",
    "preds_2nd_order = cross_val_predict(model, df_train_2o, df_valid_true).clip(0, 20)\n",
    "\n",
    "print('1st orrder')\n",
    "evaluate(preds_1st_order)\n",
    "print('2nd order')\n",
    "evaluate(preds_2nd_order)"
   ]
  },
  {
   "cell_type": "code",
   "execution_count": 50,
   "metadata": {},
   "outputs": [
    {
     "name": "stdout",
     "output_type": "stream",
     "text": [
      "3rd order\n",
      "r2_score:  0.3863144063727556\n",
      "mean_squared_error:  0.7465068778444295\n"
     ]
    }
   ],
   "source": [
    "model = LinearRegression()\n",
    "df_train_3o = third_order_df(df_train)\n",
    "\n",
    "preds_3rd_order = cross_val_predict(model, df_train_3o, df_valid_true).clip(0, 20)\n",
    "print('3rd order')\n",
    "evaluate(preds_3rd_order)"
   ]
  },
  {
   "cell_type": "code",
   "execution_count": 32,
   "metadata": {},
   "outputs": [],
   "source": [
    "from sklearn.ensemble import RandomForestRegressor\n",
    "model = RandomForestRegressor(n_estimators=10, max_depth=4, n_jobs=-1)\n",
    "preds_rf_2o = cross_val_predict(model, df_train_2o, df_valid_true).clip(0, 20)"
   ]
  },
  {
   "cell_type": "code",
   "execution_count": 34,
   "metadata": {},
   "outputs": [
    {
     "name": "stdout",
     "output_type": "stream",
     "text": [
      "r2_score:  0.38605070346042614\n",
      "mean_squared_error:  0.7468276545414968\n"
     ]
    }
   ],
   "source": [
    "evaluate((preds_rf_2o + preds_2nd_order)/2)"
   ]
  },
  {
   "cell_type": "code",
   "execution_count": 35,
   "metadata": {},
   "outputs": [
    {
     "name": "stdout",
     "output_type": "stream",
     "text": [
      "r2_score:  0.38062854881284414\n",
      "mean_squared_error:  0.7534233377043229\n"
     ]
    }
   ],
   "source": [
    "from xgboost import XGBRegressor\n",
    "model = XGBRegressor(max_depth=5, num_round=100)\n",
    "preds_xgb_2o = cross_val_predict(model, df_train_2o, df_valid_true).clip(0, 20)\n",
    "evaluate(preds_xgb_2o)"
   ]
  },
  {
   "cell_type": "code",
   "execution_count": 36,
   "metadata": {},
   "outputs": [
    {
     "name": "stdout",
     "output_type": "stream",
     "text": [
      "r2_score:  0.3869204132484314\n",
      "mean_squared_error:  0.7457697116058689\n"
     ]
    }
   ],
   "source": [
    "evaluate((preds_xgb_2o + preds_2nd_order)/2)"
   ]
  },
  {
   "cell_type": "code",
   "execution_count": 51,
   "metadata": {},
   "outputs": [
    {
     "name": "stdout",
     "output_type": "stream",
     "text": [
      "r2_score:  0.38691643820586175\n",
      "mean_squared_error:  0.7457745469753949\n"
     ]
    }
   ],
   "source": [
    "evaluate((preds_xgb_2o + preds_3rd_order)/2)"
   ]
  },
  {
   "cell_type": "code",
   "execution_count": 55,
   "metadata": {},
   "outputs": [
    {
     "data": {
      "text/plain": [
       "XGBRegressor(base_score=0.5, booster='gbtree', colsample_bylevel=1,\n",
       "       colsample_bytree=1, gamma=0, learning_rate=0.1, max_delta_step=0,\n",
       "       max_depth=5, min_child_weight=1, missing=None, n_estimators=100,\n",
       "       n_jobs=1, nthread=None, num_round=100, objective='reg:linear',\n",
       "       random_state=0, reg_alpha=0, reg_lambda=1, scale_pos_weight=1,\n",
       "       seed=None, silent=True, subsample=1)"
      ]
     },
     "execution_count": 55,
     "metadata": {},
     "output_type": "execute_result"
    }
   ],
   "source": [
    "model_xgb = XGBRegressor(max_depth=5, num_round=100)\n",
    "model_xgb.fit(df_train_2o, df_valid_true)"
   ]
  },
  {
   "cell_type": "code",
   "execution_count": 56,
   "metadata": {},
   "outputs": [
    {
     "data": {
      "text/plain": [
       "LinearRegression(copy_X=True, fit_intercept=True, n_jobs=1, normalize=False)"
      ]
     },
     "execution_count": 56,
     "metadata": {},
     "output_type": "execute_result"
    }
   ],
   "source": [
    "model_linreg = LinearRegression()\n",
    "model_linreg.fit(df_train_2o, df_valid_true)"
   ]
  },
  {
   "cell_type": "code",
   "execution_count": null,
   "metadata": {},
   "outputs": [],
   "source": [
    "df_train_2o"
   ]
  },
  {
   "cell_type": "code",
   "execution_count": 60,
   "metadata": {},
   "outputs": [
    {
     "data": {
      "text/html": [
       "<div>\n",
       "<style scoped>\n",
       "    .dataframe tbody tr th:only-of-type {\n",
       "        vertical-align: middle;\n",
       "    }\n",
       "\n",
       "    .dataframe tbody tr th {\n",
       "        vertical-align: top;\n",
       "    }\n",
       "\n",
       "    .dataframe thead th {\n",
       "        text-align: right;\n",
       "    }\n",
       "</style>\n",
       "<table border=\"1\" class=\"dataframe\">\n",
       "  <thead>\n",
       "    <tr style=\"text-align: right;\">\n",
       "      <th></th>\n",
       "      <th>knn10</th>\n",
       "      <th>knn3</th>\n",
       "      <th>linreg</th>\n",
       "      <th>xgb_25</th>\n",
       "      <th>xgb_all</th>\n",
       "      <th>pred</th>\n",
       "    </tr>\n",
       "    <tr>\n",
       "      <th>ID</th>\n",
       "      <th></th>\n",
       "      <th></th>\n",
       "      <th></th>\n",
       "      <th></th>\n",
       "      <th></th>\n",
       "      <th></th>\n",
       "    </tr>\n",
       "  </thead>\n",
       "  <tbody>\n",
       "    <tr>\n",
       "      <th>0</th>\n",
       "      <td>0.4</td>\n",
       "      <td>0.666667</td>\n",
       "      <td>0.823794</td>\n",
       "      <td>0.590379</td>\n",
       "      <td>0.516350</td>\n",
       "      <td>0.485136</td>\n",
       "    </tr>\n",
       "    <tr>\n",
       "      <th>2</th>\n",
       "      <td>0.2</td>\n",
       "      <td>0.333333</td>\n",
       "      <td>0.822782</td>\n",
       "      <td>1.113075</td>\n",
       "      <td>1.065165</td>\n",
       "      <td>0.931830</td>\n",
       "    </tr>\n",
       "    <tr>\n",
       "      <th>15</th>\n",
       "      <td>1.3</td>\n",
       "      <td>0.333333</td>\n",
       "      <td>4.382483</td>\n",
       "      <td>1.851596</td>\n",
       "      <td>1.720403</td>\n",
       "      <td>1.569660</td>\n",
       "    </tr>\n",
       "    <tr>\n",
       "      <th>21</th>\n",
       "      <td>0.0</td>\n",
       "      <td>0.000000</td>\n",
       "      <td>0.027899</td>\n",
       "      <td>0.451284</td>\n",
       "      <td>0.377604</td>\n",
       "      <td>0.380837</td>\n",
       "    </tr>\n",
       "    <tr>\n",
       "      <th>23</th>\n",
       "      <td>0.3</td>\n",
       "      <td>0.333333</td>\n",
       "      <td>1.164632</td>\n",
       "      <td>0.693333</td>\n",
       "      <td>0.605296</td>\n",
       "      <td>0.575454</td>\n",
       "    </tr>\n",
       "  </tbody>\n",
       "</table>\n",
       "</div>"
      ],
      "text/plain": [
       "    knn10      knn3    linreg    xgb_25   xgb_all      pred\n",
       "ID                                                         \n",
       "0     0.4  0.666667  0.823794  0.590379  0.516350  0.485136\n",
       "2     0.2  0.333333  0.822782  1.113075  1.065165  0.931830\n",
       "15    1.3  0.333333  4.382483  1.851596  1.720403  1.569660\n",
       "21    0.0  0.000000  0.027899  0.451284  0.377604  0.380837\n",
       "23    0.3  0.333333  1.164632  0.693333  0.605296  0.575454"
      ]
     },
     "execution_count": 60,
     "metadata": {},
     "output_type": "execute_result"
    }
   ],
   "source": [
    "df_test.drop('item_cnt_month', axis=1, inplace=True)\n",
    "df_test['pred'] = (\n",
    "    (model_xgb.predict(second_order_df(df_test)) + model_linreg.predict(second_order_df(df_test)))/2\n",
    ").clip(0, 20)\n",
    "df_test.head()"
   ]
  },
  {
   "cell_type": "code",
   "execution_count": 63,
   "metadata": {},
   "outputs": [],
   "source": [
    "df_test.rename(columns={'pred': 'item_cnt_month'}, inplace=True)\n",
    "df_test['item_cnt_month'].to_csv('../../data/submissions/2nd_order_bagged.csv', header=True)"
   ]
  },
  {
   "cell_type": "code",
   "execution_count": 64,
   "metadata": {},
   "outputs": [
    {
     "data": {
      "text/html": [
       "<div>\n",
       "<style scoped>\n",
       "    .dataframe tbody tr th:only-of-type {\n",
       "        vertical-align: middle;\n",
       "    }\n",
       "\n",
       "    .dataframe tbody tr th {\n",
       "        vertical-align: top;\n",
       "    }\n",
       "\n",
       "    .dataframe thead th {\n",
       "        text-align: right;\n",
       "    }\n",
       "</style>\n",
       "<table border=\"1\" class=\"dataframe\">\n",
       "  <thead>\n",
       "    <tr style=\"text-align: right;\">\n",
       "      <th></th>\n",
       "      <th>knn10</th>\n",
       "      <th>knn3</th>\n",
       "      <th>linreg</th>\n",
       "      <th>xgb_25</th>\n",
       "      <th>xgb_all</th>\n",
       "      <th>item_cnt_month</th>\n",
       "    </tr>\n",
       "    <tr>\n",
       "      <th>ID</th>\n",
       "      <th></th>\n",
       "      <th></th>\n",
       "      <th></th>\n",
       "      <th></th>\n",
       "      <th></th>\n",
       "      <th></th>\n",
       "    </tr>\n",
       "  </thead>\n",
       "  <tbody>\n",
       "    <tr>\n",
       "      <th>0</th>\n",
       "      <td>0.4</td>\n",
       "      <td>0.666667</td>\n",
       "      <td>0.823794</td>\n",
       "      <td>0.590379</td>\n",
       "      <td>0.516350</td>\n",
       "      <td>0.485136</td>\n",
       "    </tr>\n",
       "    <tr>\n",
       "      <th>2</th>\n",
       "      <td>0.2</td>\n",
       "      <td>0.333333</td>\n",
       "      <td>0.822782</td>\n",
       "      <td>1.113075</td>\n",
       "      <td>1.065165</td>\n",
       "      <td>0.931830</td>\n",
       "    </tr>\n",
       "    <tr>\n",
       "      <th>15</th>\n",
       "      <td>1.3</td>\n",
       "      <td>0.333333</td>\n",
       "      <td>4.382483</td>\n",
       "      <td>1.851596</td>\n",
       "      <td>1.720403</td>\n",
       "      <td>1.569660</td>\n",
       "    </tr>\n",
       "    <tr>\n",
       "      <th>21</th>\n",
       "      <td>0.0</td>\n",
       "      <td>0.000000</td>\n",
       "      <td>0.027899</td>\n",
       "      <td>0.451284</td>\n",
       "      <td>0.377604</td>\n",
       "      <td>0.380837</td>\n",
       "    </tr>\n",
       "    <tr>\n",
       "      <th>23</th>\n",
       "      <td>0.3</td>\n",
       "      <td>0.333333</td>\n",
       "      <td>1.164632</td>\n",
       "      <td>0.693333</td>\n",
       "      <td>0.605296</td>\n",
       "      <td>0.575454</td>\n",
       "    </tr>\n",
       "  </tbody>\n",
       "</table>\n",
       "</div>"
      ],
      "text/plain": [
       "    knn10      knn3    linreg    xgb_25   xgb_all  item_cnt_month\n",
       "ID                                                               \n",
       "0     0.4  0.666667  0.823794  0.590379  0.516350        0.485136\n",
       "2     0.2  0.333333  0.822782  1.113075  1.065165        0.931830\n",
       "15    1.3  0.333333  4.382483  1.851596  1.720403        1.569660\n",
       "21    0.0  0.000000  0.027899  0.451284  0.377604        0.380837\n",
       "23    0.3  0.333333  1.164632  0.693333  0.605296        0.575454"
      ]
     },
     "execution_count": 64,
     "metadata": {},
     "output_type": "execute_result"
    }
   ],
   "source": [
    "df_test.head()"
   ]
  },
  {
   "cell_type": "code",
   "execution_count": null,
   "metadata": {},
   "outputs": [],
   "source": []
  }
 ],
 "metadata": {
  "kernelspec": {
   "display_name": "Python 3",
   "language": "python",
   "name": "python3"
  },
  "language_info": {
   "codemirror_mode": {
    "name": "ipython",
    "version": 3
   },
   "file_extension": ".py",
   "mimetype": "text/x-python",
   "name": "python",
   "nbconvert_exporter": "python",
   "pygments_lexer": "ipython3",
   "version": "3.5.2"
  }
 },
 "nbformat": 4,
 "nbformat_minor": 2
}
