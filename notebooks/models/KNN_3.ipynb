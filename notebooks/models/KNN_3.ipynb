{
 "cells": [
  {
   "cell_type": "code",
   "execution_count": 1,
   "metadata": {},
   "outputs": [],
   "source": [
    "import pickle \n",
    "import pandas as pd \n",
    "from datetime import datetime\n",
    "df = pd.read_hdf('../../data/processed/train/aggr_train_zeros_25feat.hdf')\n",
    "df_train_pca = pd.read_hdf('../../data/processed/train/pca.hdf')\n",
    "threshold = datetime(2015, 9, 1)\n",
    "\n",
    "df['date'] = pd.to_datetime(df['year'].astype(str) + '-' + df['month'].astype(str) + '-1')\n",
    "pca_cols = ['pca_{}'.format(i) for i in range(4)]\n",
    "df[pca_cols]= df_train_pca[pca_cols]"
   ]
  },
  {
   "cell_type": "code",
   "execution_count": 2,
   "metadata": {},
   "outputs": [],
   "source": [
    "from sklearn.metrics import r2_score, mean_squared_error\n",
    "import xgboost as xgb\n",
    "from math import sqrt\n",
    "def get_preds_trained_on_all(model, df_X):\n",
    "    return model.predict(df_X).clip(0, 20)\n",
    "\n",
    "\n",
    "def previous_value_preds(df_X):\n",
    "    df_X = df_X.reindex(columns=df_X_train.columns, fill_value=0)\n",
    "    return df_X['count_aggr_1_month_ago_shop_id_item_id'].clip(0, 20)\n",
    "\n",
    "\n",
    "def validate(model, df_y_valid, df_X_valid):\n",
    "    df_y_valid = df_y_valid.copy().clip(0, 20)\n",
    "    df_y_valid_preds = get_preds_trained_on_all(model, df_X_valid)\n",
    "    # df_y_valid_preds = previous_value_preds(df_X_valid)\n",
    "    print('r2 score: ', r2_score(df_y_valid, df_y_valid_preds))\n",
    "    print('RMSE: ', sqrt(mean_squared_error(df_y_valid, df_y_valid_preds)))"
   ]
  },
  {
   "cell_type": "code",
   "execution_count": 7,
   "metadata": {},
   "outputs": [
    {
     "data": {
      "text/plain": [
       "KNeighborsRegressor(algorithm='auto', leaf_size=30, metric='minkowski',\n",
       "          metric_params=None, n_jobs=-1, n_neighbors=3, p=2,\n",
       "          weights='uniform')"
      ]
     },
     "execution_count": 7,
     "metadata": {},
     "output_type": "execute_result"
    }
   ],
   "source": [
    "from sklearn.neighbors import KNeighborsRegressor\n",
    "df_train = df[df['date'] < threshold]\n",
    "#df_train = df\n",
    "df_X_train, df_y_train = df_train.drop(['date', 'item_cnt_day'], axis=1), df_train['item_cnt_day'].clip(0, 20)\n",
    "model = KNeighborsRegressor(n_neighbors=3, n_jobs=-1)\n",
    "model.fit(df_X_train, df_y_train)"
   ]
  },
  {
   "cell_type": "code",
   "execution_count": 9,
   "metadata": {},
   "outputs": [
    {
     "name": "stdout",
     "output_type": "stream",
     "text": [
      "r2 score:  -5.727450836645142\n",
      "RMSE:  2.8606795337747952\n"
     ]
    }
   ],
   "source": [
    "df_valid = df[df['date'] >= threshold]\n",
    "\n",
    "df_X_valid, df_y_valid = df_valid.drop(['date', 'item_cnt_day'], axis=1), df_valid['item_cnt_day']\n",
    "validate(model, df_y_valid, df_X_valid)"
   ]
  },
  {
   "cell_type": "code",
   "execution_count": 15,
   "metadata": {},
   "outputs": [
    {
     "name": "stdout",
     "output_type": "stream",
     "text": [
      "r2 score:  -7.499413355042682\n",
      "RMSE:  3.215425251370679\n"
     ]
    }
   ],
   "source": [
    "df_valid = df[df['date'] >= threshold]\n",
    "\n",
    "df_X_valid, df_y_valid = df_valid.drop(['date', 'item_cnt_day'], axis=1), df_valid['item_cnt_day']\n",
    "validate(model, df_y_valid, df_X_valid)"
   ]
  },
  {
   "cell_type": "code",
   "execution_count": 10,
   "metadata": {},
   "outputs": [],
   "source": [
    "df_valid = df[df['date'] >= threshold]\n",
    "df_X_valid['preds'] = get_preds_trained_on_all(model, df_X_valid)\n",
    "a = df_X_valid['preds']\n",
    "a.to_hdf('../../data/processed/model_valid/pre_valid_train_clip/KNN_3.hdf', 'KNN_3')"
   ]
  },
  {
   "cell_type": "code",
   "execution_count": 26,
   "metadata": {},
   "outputs": [],
   "source": [
    "df_test = pd.read_hdf('../../data/processed/test/aggr_test_25feat.hdf')\n",
    "df_test_pca = pd.read_hdf('../../data/processed/test/pca.hdf')\n",
    "df_test[pca_cols] = df_test_pca[pca_cols]\n",
    "df_X_test = df_test.drop(['ID'], axis=1)\n",
    "df_test['KNN_3_preds'] = get_preds_trained_on_all(model, df_X_test)\n",
    "df_test[['ID', 'KNN_3_preds']].to_hdf('../../data/processed/model_valid/KNN_3_test.hdf', 'KNN3_test')"
   ]
  },
  {
   "cell_type": "code",
   "execution_count": 4,
   "metadata": {},
   "outputs": [],
   "source": [
    "df_test = pd.read_hdf('../../data/processed/test/aggr_test_25feat.hdf')\n",
    "df_test_pca = pd.read_hdf('../../data/processed/test/pca.hdf')\n",
    "df_test[pca_cols] = df_test_pca[pca_cols]\n",
    "df_X_test = df_test.drop(['ID'], axis=1)\n",
    "df_test['KNN_3_preds'] = get_preds_trained_on_all(model, df_X_test)\n",
    "df_test[['ID', 'KNN_3_preds']].to_hdf('../../data/processed/model_valid/all_train/KNN_3_test.hdf', 'KNN3_test')"
   ]
  },
  {
   "cell_type": "code",
   "execution_count": 6,
   "metadata": {},
   "outputs": [],
   "source": [
    "df_test = pd.read_hdf('../../data/processed/test/aggr_test_25feat.hdf')\n",
    "df_test_pca = pd.read_hdf('../../data/processed/test/pca.hdf')\n",
    "df_test[pca_cols] = df_test_pca[pca_cols]\n",
    "df_X_test = df_test.drop(['ID'], axis=1)\n",
    "df_test['KNN_3_preds'] = get_preds_trained_on_all(model, df_X_test)\n",
    "df_test[['ID', 'KNN_3_preds']].to_hdf('../../data/processed/model_valid/all_train_clip/KNN_3_test.hdf', 'KNN3_test')"
   ]
  },
  {
   "cell_type": "code",
   "execution_count": 23,
   "metadata": {},
   "outputs": [
    {
     "data": {
      "text/plain": [
       "Index(['count_aggr_1_month_shop_id_item_id', 'count_aggr_year_shop_id_item_id',\n",
       "       'count_aggr_6_months_shop_id_item_id',\n",
       "       'count_aggr_3_months_shop_id_item_id', 'month', 'day_of_year',\n",
       "       'count_aggr_year_mall_item_id', 'count_aggr_year_city_item_category_id',\n",
       "       'count_aggr_1_month_shop_id', 'count_last_week_shop_id_item_id',\n",
       "       'expected_sales', 'count_last_week_city_item_id',\n",
       "       'count_last_week_item_id', 'count_aggr_1_month_mall',\n",
       "       'count_aggr_year_city', 'count_aggr_1_month_ago_last_big_category',\n",
       "       'count_aggr_year_city_item_id', 'count_aggr_6_months_mall_item_id',\n",
       "       'count_aggr_year_shop_id', 'count_aggr_6_months_first_big_category',\n",
       "       'count_aggr_2_quartals_ago_shop_id_item_id',\n",
       "       'count_last_week_item_category_id',\n",
       "       'count_last_week_city_item_category_id',\n",
       "       'count_aggr_6_months_mall_item_category_id',\n",
       "       'count_aggr_1_month_ago_mall_item_category_id', 'year', 'pca_0',\n",
       "       'pca_1', 'pca_2', 'pca_3', 'preds'],\n",
       "      dtype='object')"
      ]
     },
     "execution_count": 23,
     "metadata": {},
     "output_type": "execute_result"
    }
   ],
   "source": [
    "df_X_valid.columns"
   ]
  },
  {
   "cell_type": "code",
   "execution_count": 22,
   "metadata": {},
   "outputs": [
    {
     "data": {
      "text/plain": [
       "(214200, 26)"
      ]
     },
     "execution_count": 22,
     "metadata": {},
     "output_type": "execute_result"
    }
   ],
   "source": [
    "df_X_test.shape"
   ]
  },
  {
   "cell_type": "code",
   "execution_count": null,
   "metadata": {},
   "outputs": [],
   "source": []
  }
 ],
 "metadata": {
  "kernelspec": {
   "display_name": "Python 3",
   "language": "python",
   "name": "python3"
  },
  "language_info": {
   "codemirror_mode": {
    "name": "ipython",
    "version": 3
   },
   "file_extension": ".py",
   "mimetype": "text/x-python",
   "name": "python",
   "nbconvert_exporter": "python",
   "pygments_lexer": "ipython3",
   "version": "3.5.2"
  }
 },
 "nbformat": 4,
 "nbformat_minor": 2
}
