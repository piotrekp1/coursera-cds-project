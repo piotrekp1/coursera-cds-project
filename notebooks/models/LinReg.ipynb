{
 "cells": [
  {
   "cell_type": "code",
   "execution_count": 1,
   "metadata": {},
   "outputs": [],
   "source": [
    "from sklearn import preprocessing\n",
    "import pandas as pd \n",
    "from datetime import datetime\n",
    "import xgboost as xgb\n",
    "df = pd.read_hdf('../../data/processed/train/aggr_train_zeros.hdf')\n",
    "\n",
    "threshold = datetime(2015, 9, 1)\n",
    "\n",
    "df['date'] = pd.to_datetime(df['year'].astype(str) + '-' + df['month'].astype(str) + '-1')"
   ]
  },
  {
   "cell_type": "code",
   "execution_count": 2,
   "metadata": {},
   "outputs": [],
   "source": [
    "from sklearn import preprocessing\n",
    "def X(df):\n",
    "    df['day_of_year'] = df['date'].dt.dayofyear\n",
    "    date_cols = [\n",
    "        'month', 'year',\n",
    "        'fridays', 'day_of_year', 'days_in_a_month'\n",
    "    ]\n",
    "    one_hot_cols = [\n",
    "        'shop_id', 'mall', 'city',\n",
    "        'item_id', 'item_category_id', 'first_big_category', 'last_big_category',\n",
    "    ]\n",
    "    additional = [\n",
    "        'expected_sales'\n",
    "    ]\n",
    "\n",
    "    df_X = df[\n",
    "        [\n",
    "            col for col in df.columns\n",
    "            if col.startswith('count')\n",
    "        ]\n",
    "        + date_cols + one_hot_cols + additional\n",
    "        ]\n",
    "\n",
    "    # df_X = pd.get_dummies(df_X, columns=one_hot_cols)\n",
    "    # df_X = pd.get_dummies(df_X, columns=one_hot_cols + date_cols)\n",
    "    for f in df_X.columns:\n",
    "        if df_X[f].dtype == 'object':\n",
    "            lbl = preprocessing.LabelEncoder()\n",
    "            lbl.fit(list(df_X[f].values))\n",
    "            df_X[f] = lbl.transform(list(df_X[f].values))\n",
    "    return df_X\n",
    "\n",
    "def XY(df):\n",
    "    df_X = X(df)\n",
    "    df_y = df['item_cnt_day']\n",
    "    return df_X, df_y"
   ]
  },
  {
   "cell_type": "code",
   "execution_count": 3,
   "metadata": {},
   "outputs": [],
   "source": [
    "from sklearn.metrics import r2_score, mean_squared_error\n",
    "import xgboost as xgb\n",
    "from math import sqrt\n",
    "def get_preds_trained_on_all(model, df_X):\n",
    "    return model.predict(df_X).clip(0, 20)\n",
    "\n",
    "\n",
    "def previous_value_preds(df_X):\n",
    "    df_X = df_X.reindex(columns=df_X_train.columns, fill_value=0)\n",
    "    return df_X['count_aggr_1_month_ago_shop_id_item_id'].clip(0, 20)\n",
    "\n",
    "\n",
    "def validate(model, df_y_valid, df_X_valid):\n",
    "    df_y_valid = df_y_valid.copy().clip(0, 20)\n",
    "    df_y_valid_preds = get_preds_trained_on_all(model, df_X_valid)\n",
    "    # df_y_valid_preds = previous_value_preds(df_X_valid)\n",
    "    print('r2 score: ', r2_score(df_y_valid, df_y_valid_preds))\n",
    "    print('RMSE: ', sqrt(mean_squared_error(df_y_valid, df_y_valid_preds)))"
   ]
  },
  {
   "cell_type": "code",
   "execution_count": 4,
   "metadata": {},
   "outputs": [
    {
     "name": "stderr",
     "output_type": "stream",
     "text": [
      "/home/piotrek/.local/lib/python3.5/site-packages/ipykernel_launcher.py:3: SettingWithCopyWarning: \n",
      "A value is trying to be set on a copy of a slice from a DataFrame.\n",
      "Try using .loc[row_indexer,col_indexer] = value instead\n",
      "\n",
      "See the caveats in the documentation: http://pandas.pydata.org/pandas-docs/stable/indexing.html#indexing-view-versus-copy\n",
      "  This is separate from the ipykernel package so we can avoid doing imports until\n",
      "/home/piotrek/.local/lib/python3.5/site-packages/ipykernel_launcher.py:30: SettingWithCopyWarning: \n",
      "A value is trying to be set on a copy of a slice from a DataFrame.\n",
      "Try using .loc[row_indexer,col_indexer] = value instead\n",
      "\n",
      "See the caveats in the documentation: http://pandas.pydata.org/pandas-docs/stable/indexing.html#indexing-view-versus-copy\n"
     ]
    }
   ],
   "source": [
    "df_train = df[df['date'] < threshold]\n",
    "#df_train = df\n",
    "df_X_train, df_y_train = XY(df_train)"
   ]
  },
  {
   "cell_type": "code",
   "execution_count": 5,
   "metadata": {},
   "outputs": [
    {
     "data": {
      "text/plain": [
       "LinearRegression(copy_X=True, fit_intercept=True, n_jobs=1, normalize=False)"
      ]
     },
     "execution_count": 5,
     "metadata": {},
     "output_type": "execute_result"
    }
   ],
   "source": [
    "from sklearn.linear_model import LinearRegression\n",
    "model = LinearRegression()\n",
    "model.fit(df_X_train, df_y_train.clip(0, 20))"
   ]
  },
  {
   "cell_type": "code",
   "execution_count": 6,
   "metadata": {
    "scrolled": true
   },
   "outputs": [
    {
     "name": "stderr",
     "output_type": "stream",
     "text": [
      "/home/piotrek/.local/lib/python3.5/site-packages/ipykernel_launcher.py:3: SettingWithCopyWarning: \n",
      "A value is trying to be set on a copy of a slice from a DataFrame.\n",
      "Try using .loc[row_indexer,col_indexer] = value instead\n",
      "\n",
      "See the caveats in the documentation: http://pandas.pydata.org/pandas-docs/stable/indexing.html#indexing-view-versus-copy\n",
      "  This is separate from the ipykernel package so we can avoid doing imports until\n",
      "/home/piotrek/.local/lib/python3.5/site-packages/ipykernel_launcher.py:30: SettingWithCopyWarning: \n",
      "A value is trying to be set on a copy of a slice from a DataFrame.\n",
      "Try using .loc[row_indexer,col_indexer] = value instead\n",
      "\n",
      "See the caveats in the documentation: http://pandas.pydata.org/pandas-docs/stable/indexing.html#indexing-view-versus-copy\n"
     ]
    },
    {
     "name": "stdout",
     "output_type": "stream",
     "text": [
      "r2 score:  0.19437078037523248\n",
      "RMSE:  0.98994609596661\n"
     ]
    }
   ],
   "source": [
    "df_valid = df[df['date'] >= threshold]\n",
    "\n",
    "df_X_valid, df_y_valid = XY(df_valid)\n",
    "validate(model, df_y_valid, df_X_valid)"
   ]
  },
  {
   "cell_type": "code",
   "execution_count": 8,
   "metadata": {},
   "outputs": [
    {
     "name": "stderr",
     "output_type": "stream",
     "text": [
      "/home/piotrek/.local/lib/python3.5/site-packages/ipykernel_launcher.py:1: SettingWithCopyWarning: \n",
      "A value is trying to be set on a copy of a slice from a DataFrame.\n",
      "Try using .loc[row_indexer,col_indexer] = value instead\n",
      "\n",
      "See the caveats in the documentation: http://pandas.pydata.org/pandas-docs/stable/indexing.html#indexing-view-versus-copy\n",
      "  \"\"\"Entry point for launching an IPython kernel.\n"
     ]
    }
   ],
   "source": [
    "df_X_valid['preds'] = get_preds_trained_on_all(model, df_X_valid)\n",
    "a = df_X_valid['preds']\n",
    "a.to_hdf('../../data/processed/model_valid/linreg.hdf', 'linreg')"
   ]
  },
  {
   "cell_type": "code",
   "execution_count": 7,
   "metadata": {},
   "outputs": [
    {
     "name": "stderr",
     "output_type": "stream",
     "text": [
      "/home/piotrek/.local/lib/python3.5/site-packages/ipykernel_launcher.py:1: SettingWithCopyWarning: \n",
      "A value is trying to be set on a copy of a slice from a DataFrame.\n",
      "Try using .loc[row_indexer,col_indexer] = value instead\n",
      "\n",
      "See the caveats in the documentation: http://pandas.pydata.org/pandas-docs/stable/indexing.html#indexing-view-versus-copy\n",
      "  \"\"\"Entry point for launching an IPython kernel.\n"
     ]
    }
   ],
   "source": [
    "df_X_valid['preds'] = get_preds_trained_on_all(model, df_X_valid)\n",
    "a = df_X_valid['preds']\n",
    "a.to_hdf('../../data/processed/model_valid/pre_valid_train_clip/linreg.hdf', 'linreg')"
   ]
  },
  {
   "cell_type": "code",
   "execution_count": 10,
   "metadata": {},
   "outputs": [
    {
     "name": "stderr",
     "output_type": "stream",
     "text": [
      "/home/piotrek/.local/lib/python3.5/site-packages/ipykernel_launcher.py:30: SettingWithCopyWarning: \n",
      "A value is trying to be set on a copy of a slice from a DataFrame.\n",
      "Try using .loc[row_indexer,col_indexer] = value instead\n",
      "\n",
      "See the caveats in the documentation: http://pandas.pydata.org/pandas-docs/stable/indexing.html#indexing-view-versus-copy\n"
     ]
    }
   ],
   "source": [
    "df_test = pd.read_hdf('../../data/processed/test/aggr_test.hdf')\n",
    "df_test_X = X(df_test)"
   ]
  },
  {
   "cell_type": "code",
   "execution_count": 10,
   "metadata": {},
   "outputs": [],
   "source": [
    "df_test['linreg_preds'] = get_preds_trained_on_all(model, df_test_X)\n",
    "df_test[['ID', 'linreg_preds']].to_hdf('../../data/processed/model_valid/linreg_test.hdf', 'linreg_test')"
   ]
  },
  {
   "cell_type": "code",
   "execution_count": 16,
   "metadata": {},
   "outputs": [],
   "source": [
    "df_test['linreg_preds'] = get_preds_trained_on_all(model, df_test_X)\n",
    "df_test[['ID', 'linreg_preds']].to_hdf('../../data/processed/model_valid/pre_valid_train_clip/linreg_test.hdf', 'linreg_test')"
   ]
  },
  {
   "cell_type": "code",
   "execution_count": null,
   "metadata": {},
   "outputs": [],
   "source": []
  }
 ],
 "metadata": {
  "kernelspec": {
   "display_name": "Python 3",
   "language": "python",
   "name": "python3"
  },
  "language_info": {
   "codemirror_mode": {
    "name": "ipython",
    "version": 3
   },
   "file_extension": ".py",
   "mimetype": "text/x-python",
   "name": "python",
   "nbconvert_exporter": "python",
   "pygments_lexer": "ipython3",
   "version": "3.5.2"
  }
 },
 "nbformat": 4,
 "nbformat_minor": 2
}
