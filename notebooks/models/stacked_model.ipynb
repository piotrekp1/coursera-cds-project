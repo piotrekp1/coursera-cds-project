{
 "cells": [
  {
   "cell_type": "code",
   "execution_count": 1,
   "metadata": {},
   "outputs": [
    {
     "data": {
      "text/plain": [
       "2356200    0.9\n",
       "2356201    0.2\n",
       "2356202    1.8\n",
       "2356203    0.1\n",
       "2356204    1.0\n",
       "Name: preds, dtype: float64"
      ]
     },
     "execution_count": 1,
     "metadata": {},
     "output_type": "execute_result"
    }
   ],
   "source": [
    "import pandas as pd \n",
    "df_KNN = pd.read_hdf('../../data/processed/model_valid/KNN_10.hdf')\n",
    "df_KNN.head()"
   ]
  },
  {
   "cell_type": "code",
   "execution_count": 3,
   "metadata": {},
   "outputs": [
    {
     "data": {
      "text/plain": [
       "2356200    0.9\n",
       "2356201    0.2\n",
       "2356202    1.8\n",
       "2356203    0.1\n",
       "2356204    1.0\n",
       "Name: knn10_preds, dtype: float64"
      ]
     },
     "execution_count": 3,
     "metadata": {},
     "output_type": "execute_result"
    }
   ],
   "source": [
    "df_KNN.name = 'knn10_preds'\n",
    "df_KNN.head()"
   ]
  },
  {
   "cell_type": "code",
   "execution_count": 40,
   "metadata": {},
   "outputs": [],
   "source": [
    "import os \n",
    "data_path = '../../data/processed/model_valid'\n",
    "def renamed_series(name, path):\n",
    "    s = pd.read_hdf(os.path.join(data_path, path))\n",
    "    col_name = s.columns[1]\n",
    "    s.set_index('ID', inplace=True)\n",
    "    s = s[col_name]\n",
    "    s.name = name \n",
    "    return s "
   ]
  },
  {
   "cell_type": "code",
   "execution_count": 7,
   "metadata": {},
   "outputs": [],
   "source": [
    "\n",
    "train_data = {\n",
    "    'knn10': 'KNN_10.hdf',\n",
    "    'knn3': 'KNN_3.hdf',\n",
    "    'linreg': 'linreg.hdf',\n",
    "    'xgb_25': 'xgb_25_feat_11_PCA_valid.hdf',\n",
    "    'xgb_all': 'xgb_all.hdf',\n",
    "    'true': 'true.hdf'\n",
    "}"
   ]
  },
  {
   "cell_type": "code",
   "execution_count": 8,
   "metadata": {},
   "outputs": [],
   "source": [
    "df_train = pd.DataFrame(data={\n",
    "    name: renamed_series(name, path) for name, path in train_data.items()\n",
    "})"
   ]
  },
  {
   "cell_type": "code",
   "execution_count": 9,
   "metadata": {},
   "outputs": [
    {
     "data": {
      "text/html": [
       "<div>\n",
       "<style scoped>\n",
       "    .dataframe tbody tr th:only-of-type {\n",
       "        vertical-align: middle;\n",
       "    }\n",
       "\n",
       "    .dataframe tbody tr th {\n",
       "        vertical-align: top;\n",
       "    }\n",
       "\n",
       "    .dataframe thead th {\n",
       "        text-align: right;\n",
       "    }\n",
       "</style>\n",
       "<table border=\"1\" class=\"dataframe\">\n",
       "  <thead>\n",
       "    <tr style=\"text-align: right;\">\n",
       "      <th></th>\n",
       "      <th>knn10</th>\n",
       "      <th>knn3</th>\n",
       "      <th>linreg</th>\n",
       "      <th>true</th>\n",
       "      <th>xgb_25</th>\n",
       "      <th>xgb_all</th>\n",
       "    </tr>\n",
       "  </thead>\n",
       "  <tbody>\n",
       "    <tr>\n",
       "      <th>2356200</th>\n",
       "      <td>0.9</td>\n",
       "      <td>3.333333</td>\n",
       "      <td>1.314807</td>\n",
       "      <td>1.0</td>\n",
       "      <td>2.890960</td>\n",
       "      <td>2.739996</td>\n",
       "    </tr>\n",
       "    <tr>\n",
       "      <th>2356201</th>\n",
       "      <td>0.2</td>\n",
       "      <td>3.333333</td>\n",
       "      <td>0.712276</td>\n",
       "      <td>3.0</td>\n",
       "      <td>2.718085</td>\n",
       "      <td>2.961049</td>\n",
       "    </tr>\n",
       "    <tr>\n",
       "      <th>2356202</th>\n",
       "      <td>1.8</td>\n",
       "      <td>0.000000</td>\n",
       "      <td>2.548201</td>\n",
       "      <td>1.0</td>\n",
       "      <td>1.616810</td>\n",
       "      <td>1.201391</td>\n",
       "    </tr>\n",
       "    <tr>\n",
       "      <th>2356203</th>\n",
       "      <td>0.1</td>\n",
       "      <td>0.000000</td>\n",
       "      <td>0.000000</td>\n",
       "      <td>0.0</td>\n",
       "      <td>0.089291</td>\n",
       "      <td>0.130663</td>\n",
       "    </tr>\n",
       "    <tr>\n",
       "      <th>2356204</th>\n",
       "      <td>1.0</td>\n",
       "      <td>0.000000</td>\n",
       "      <td>1.502367</td>\n",
       "      <td>1.0</td>\n",
       "      <td>1.360490</td>\n",
       "      <td>1.253611</td>\n",
       "    </tr>\n",
       "  </tbody>\n",
       "</table>\n",
       "</div>"
      ],
      "text/plain": [
       "         knn10      knn3    linreg  true    xgb_25   xgb_all\n",
       "2356200    0.9  3.333333  1.314807   1.0  2.890960  2.739996\n",
       "2356201    0.2  3.333333  0.712276   3.0  2.718085  2.961049\n",
       "2356202    1.8  0.000000  2.548201   1.0  1.616810  1.201391\n",
       "2356203    0.1  0.000000  0.000000   0.0  0.089291  0.130663\n",
       "2356204    1.0  0.000000  1.502367   1.0  1.360490  1.253611"
      ]
     },
     "execution_count": 9,
     "metadata": {},
     "output_type": "execute_result"
    }
   ],
   "source": [
    "df_train.head()"
   ]
  },
  {
   "cell_type": "code",
   "execution_count": 24,
   "metadata": {},
   "outputs": [],
   "source": [
    "df_train['linreg_error'] = df_train['linreg'] - df_train['true'].clip(0, 20)"
   ]
  },
  {
   "cell_type": "code",
   "execution_count": 11,
   "metadata": {},
   "outputs": [
    {
     "ename": "AttributeError",
     "evalue": "'DataFrame' object has no attribute 'scatter'",
     "output_type": "error",
     "traceback": [
      "\u001b[0;31m---------------------------------------------------------------------------\u001b[0m",
      "\u001b[0;31mAttributeError\u001b[0m                            Traceback (most recent call last)",
      "\u001b[0;32m<ipython-input-11-9bc6d10fe33e>\u001b[0m in \u001b[0;36m<module>\u001b[0;34m()\u001b[0m\n\u001b[0;32m----> 1\u001b[0;31m \u001b[0mdf_train\u001b[0m\u001b[0;34m.\u001b[0m\u001b[0mscatter\u001b[0m\u001b[0;34m(\u001b[0m\u001b[0;34m'true'\u001b[0m\u001b[0;34m,\u001b[0m \u001b[0;34m'linreg_error'\u001b[0m\u001b[0;34m)\u001b[0m\u001b[0;34m\u001b[0m\u001b[0m\n\u001b[0m\u001b[1;32m      2\u001b[0m \u001b[0;32mimport\u001b[0m \u001b[0mmatplotlib\u001b[0m\u001b[0;34m.\u001b[0m\u001b[0mpyplot\u001b[0m \u001b[0;32mas\u001b[0m \u001b[0mplt\u001b[0m\u001b[0;34m\u001b[0m\u001b[0m\n\u001b[1;32m      3\u001b[0m \u001b[0mplt\u001b[0m\u001b[0;34m.\u001b[0m\u001b[0mshow\u001b[0m\u001b[0;34m(\u001b[0m\u001b[0;34m)\u001b[0m\u001b[0;34m\u001b[0m\u001b[0m\n",
      "\u001b[0;32m~/.local/lib/python3.5/site-packages/pandas/core/generic.py\u001b[0m in \u001b[0;36m__getattr__\u001b[0;34m(self, name)\u001b[0m\n\u001b[1;32m   3612\u001b[0m             \u001b[0;32mif\u001b[0m \u001b[0mname\u001b[0m \u001b[0;32min\u001b[0m \u001b[0mself\u001b[0m\u001b[0;34m.\u001b[0m\u001b[0m_info_axis\u001b[0m\u001b[0;34m:\u001b[0m\u001b[0;34m\u001b[0m\u001b[0m\n\u001b[1;32m   3613\u001b[0m                 \u001b[0;32mreturn\u001b[0m \u001b[0mself\u001b[0m\u001b[0;34m[\u001b[0m\u001b[0mname\u001b[0m\u001b[0;34m]\u001b[0m\u001b[0;34m\u001b[0m\u001b[0m\n\u001b[0;32m-> 3614\u001b[0;31m             \u001b[0;32mreturn\u001b[0m \u001b[0mobject\u001b[0m\u001b[0;34m.\u001b[0m\u001b[0m__getattribute__\u001b[0m\u001b[0;34m(\u001b[0m\u001b[0mself\u001b[0m\u001b[0;34m,\u001b[0m \u001b[0mname\u001b[0m\u001b[0;34m)\u001b[0m\u001b[0;34m\u001b[0m\u001b[0m\n\u001b[0m\u001b[1;32m   3615\u001b[0m \u001b[0;34m\u001b[0m\u001b[0m\n\u001b[1;32m   3616\u001b[0m     \u001b[0;32mdef\u001b[0m \u001b[0m__setattr__\u001b[0m\u001b[0;34m(\u001b[0m\u001b[0mself\u001b[0m\u001b[0;34m,\u001b[0m \u001b[0mname\u001b[0m\u001b[0;34m,\u001b[0m \u001b[0mvalue\u001b[0m\u001b[0;34m)\u001b[0m\u001b[0;34m:\u001b[0m\u001b[0;34m\u001b[0m\u001b[0m\n",
      "\u001b[0;31mAttributeError\u001b[0m: 'DataFrame' object has no attribute 'scatter'"
     ]
    }
   ],
   "source": [
    "df_train.scatter('true', 'linreg_error')\n",
    "import matplotlib.pyplot as plt\n",
    "plt.show()"
   ]
  },
  {
   "cell_type": "code",
   "execution_count": 26,
   "metadata": {},
   "outputs": [],
   "source": [
    "df_train['true_clipped'] = df_train['true'].clip(0, 20)"
   ]
  },
  {
   "cell_type": "code",
   "execution_count": 27,
   "metadata": {},
   "outputs": [
    {
     "data": {
      "text/html": [
       "<div>\n",
       "<style scoped>\n",
       "    .dataframe tbody tr th:only-of-type {\n",
       "        vertical-align: middle;\n",
       "    }\n",
       "\n",
       "    .dataframe tbody tr th {\n",
       "        vertical-align: top;\n",
       "    }\n",
       "\n",
       "    .dataframe thead th {\n",
       "        text-align: right;\n",
       "    }\n",
       "</style>\n",
       "<table border=\"1\" class=\"dataframe\">\n",
       "  <thead>\n",
       "    <tr style=\"text-align: right;\">\n",
       "      <th></th>\n",
       "      <th>knn10</th>\n",
       "      <th>knn3</th>\n",
       "      <th>linreg</th>\n",
       "      <th>true</th>\n",
       "      <th>xgb_25</th>\n",
       "      <th>xgb_all</th>\n",
       "      <th>linreg_error</th>\n",
       "      <th>true_clipped</th>\n",
       "    </tr>\n",
       "  </thead>\n",
       "  <tbody>\n",
       "    <tr>\n",
       "      <th>2356200</th>\n",
       "      <td>0.9</td>\n",
       "      <td>3.333333</td>\n",
       "      <td>1.314807</td>\n",
       "      <td>1.0</td>\n",
       "      <td>2.890960</td>\n",
       "      <td>2.739996</td>\n",
       "      <td>0.314807</td>\n",
       "      <td>1.0</td>\n",
       "    </tr>\n",
       "    <tr>\n",
       "      <th>2356201</th>\n",
       "      <td>0.2</td>\n",
       "      <td>3.333333</td>\n",
       "      <td>0.712276</td>\n",
       "      <td>3.0</td>\n",
       "      <td>2.718085</td>\n",
       "      <td>2.961049</td>\n",
       "      <td>-2.287724</td>\n",
       "      <td>3.0</td>\n",
       "    </tr>\n",
       "    <tr>\n",
       "      <th>2356202</th>\n",
       "      <td>1.8</td>\n",
       "      <td>0.000000</td>\n",
       "      <td>2.548201</td>\n",
       "      <td>1.0</td>\n",
       "      <td>1.616810</td>\n",
       "      <td>1.201391</td>\n",
       "      <td>1.548201</td>\n",
       "      <td>1.0</td>\n",
       "    </tr>\n",
       "    <tr>\n",
       "      <th>2356203</th>\n",
       "      <td>0.1</td>\n",
       "      <td>0.000000</td>\n",
       "      <td>0.000000</td>\n",
       "      <td>0.0</td>\n",
       "      <td>0.089291</td>\n",
       "      <td>0.130663</td>\n",
       "      <td>0.000000</td>\n",
       "      <td>0.0</td>\n",
       "    </tr>\n",
       "    <tr>\n",
       "      <th>2356204</th>\n",
       "      <td>1.0</td>\n",
       "      <td>0.000000</td>\n",
       "      <td>1.502367</td>\n",
       "      <td>1.0</td>\n",
       "      <td>1.360490</td>\n",
       "      <td>1.253611</td>\n",
       "      <td>0.502367</td>\n",
       "      <td>1.0</td>\n",
       "    </tr>\n",
       "  </tbody>\n",
       "</table>\n",
       "</div>"
      ],
      "text/plain": [
       "         knn10      knn3    linreg  true    xgb_25   xgb_all  linreg_error  \\\n",
       "2356200    0.9  3.333333  1.314807   1.0  2.890960  2.739996      0.314807   \n",
       "2356201    0.2  3.333333  0.712276   3.0  2.718085  2.961049     -2.287724   \n",
       "2356202    1.8  0.000000  2.548201   1.0  1.616810  1.201391      1.548201   \n",
       "2356203    0.1  0.000000  0.000000   0.0  0.089291  0.130663      0.000000   \n",
       "2356204    1.0  0.000000  1.502367   1.0  1.360490  1.253611      0.502367   \n",
       "\n",
       "         true_clipped  \n",
       "2356200           1.0  \n",
       "2356201           3.0  \n",
       "2356202           1.0  \n",
       "2356203           0.0  \n",
       "2356204           1.0  "
      ]
     },
     "execution_count": 27,
     "metadata": {},
     "output_type": "execute_result"
    }
   ],
   "source": [
    "df_train.head()"
   ]
  },
  {
   "cell_type": "code",
   "execution_count": 33,
   "metadata": {},
   "outputs": [],
   "source": [
    "x_cols = ['knn10', 'knn3', 'linreg', 'xgb_25', 'xgb_all']\n",
    "from sklearn.ensemble import RandomForestClassifier\n",
    "from sklearn.model_selection import cross_val_predict\n",
    "from sklearn.linear_model import LinearRegression\n",
    "model = RandomForestClassifier(n_estimators=20, n_jobs=-1)\n",
    "model = LinearRegression()\n",
    "preds = cross_val_predict(model, df_train[x_cols], df_train['true_clipped'])"
   ]
  },
  {
   "cell_type": "code",
   "execution_count": 54,
   "metadata": {},
   "outputs": [
    {
     "data": {
      "text/plain": [
       "LinearRegression(copy_X=True, fit_intercept=True, n_jobs=1, normalize=False)"
      ]
     },
     "execution_count": 54,
     "metadata": {},
     "output_type": "execute_result"
    }
   ],
   "source": [
    "model.fit(df_train[x_cols], df_train['true_clipped'])"
   ]
  },
  {
   "cell_type": "code",
   "execution_count": 34,
   "metadata": {},
   "outputs": [
    {
     "name": "stdout",
     "output_type": "stream",
     "text": [
      "r2_score:  0.38441198366041485\n",
      "mean_squared_error:  0.7488210459690807\n"
     ]
    }
   ],
   "source": [
    "from sklearn.metrics import r2_score, mean_squared_error\n",
    "from math import sqrt\n",
    "print('r2_score: ', r2_score(df_train['true_clipped'], preds.clip(0, 20)))\n",
    "print('mean_squared_error: ', mean_squared_error(df_train['true_clipped'], preds.clip(0, 20)))"
   ]
  },
  {
   "cell_type": "code",
   "execution_count": 31,
   "metadata": {},
   "outputs": [
    {
     "name": "stdout",
     "output_type": "stream",
     "text": [
      "knn10\n",
      "r2_score:  0.202110613383488\n",
      "mean_squared_error:  0.9705782913165268\n",
      "knn3\n",
      "r2_score:  -8.091188780521993\n",
      "mean_squared_error:  11.058814192343604\n",
      "linreg\n",
      "r2_score:  0.19391697251358753\n",
      "mean_squared_error:  0.9805452993862701\n",
      "xgb_25\n",
      "r2_score:  0.3609760703133814\n",
      "mean_squared_error:  0.7773292441145192\n",
      "xgb_all\n",
      "r2_score:  0.35850566191878996\n",
      "mean_squared_error:  0.7803343282761777\n"
     ]
    }
   ],
   "source": [
    "def evaluate(preds):\n",
    "    print('r2_score: ', r2_score(df_train['true_clipped'], preds))\n",
    "    print('mean_squared_error: ', mean_squared_error(df_train['true_clipped'], preds))\n",
    "for col in x_cols:\n",
    "    print(col)\n",
    "    evaluate(df_train[col])"
   ]
  },
  {
   "cell_type": "code",
   "execution_count": 41,
   "metadata": {},
   "outputs": [],
   "source": [
    "\n",
    "test_data = {\n",
    "    'knn10': 'knn10_test.hdf',\n",
    "    'knn3': 'KNN_3_test.hdf',\n",
    "    'linreg': 'linreg_test.hdf',\n",
    "    'xgb_25': 'xgb_25_feat_11_PCA_test.hdf',\n",
    "    'xgb_all': 'xgb_all_test.hdf'\n",
    "}\n",
    "df_test = pd.DataFrame(data={\n",
    "    name: renamed_series(name, path) for name, path in test_data.items()\n",
    "})"
   ]
  },
  {
   "cell_type": "code",
   "execution_count": 44,
   "metadata": {},
   "outputs": [],
   "source": [
    "df_test.reset_index(inplace=True)"
   ]
  },
  {
   "cell_type": "code",
   "execution_count": 64,
   "metadata": {},
   "outputs": [],
   "source": [
    "df_test['item_cnt_month'] = model.predict(df_test[x_cols])"
   ]
  },
  {
   "cell_type": "code",
   "execution_count": 65,
   "metadata": {},
   "outputs": [
    {
     "data": {
      "text/html": [
       "<div>\n",
       "<style scoped>\n",
       "    .dataframe tbody tr th:only-of-type {\n",
       "        vertical-align: middle;\n",
       "    }\n",
       "\n",
       "    .dataframe tbody tr th {\n",
       "        vertical-align: top;\n",
       "    }\n",
       "\n",
       "    .dataframe thead th {\n",
       "        text-align: right;\n",
       "    }\n",
       "</style>\n",
       "<table border=\"1\" class=\"dataframe\">\n",
       "  <thead>\n",
       "    <tr style=\"text-align: right;\">\n",
       "      <th></th>\n",
       "      <th>ID</th>\n",
       "      <th>knn10</th>\n",
       "      <th>knn3</th>\n",
       "      <th>linreg</th>\n",
       "      <th>xgb_25</th>\n",
       "      <th>xgb_all</th>\n",
       "      <th>item_cnt_month</th>\n",
       "    </tr>\n",
       "  </thead>\n",
       "  <tbody>\n",
       "    <tr>\n",
       "      <th>3</th>\n",
       "      <td>21</td>\n",
       "      <td>0.0</td>\n",
       "      <td>0.000000</td>\n",
       "      <td>0.106596</td>\n",
       "      <td>0.292600</td>\n",
       "      <td>0.454868</td>\n",
       "      <td>0.315010</td>\n",
       "    </tr>\n",
       "    <tr>\n",
       "      <th>7</th>\n",
       "      <td>62</td>\n",
       "      <td>0.0</td>\n",
       "      <td>0.333333</td>\n",
       "      <td>0.402045</td>\n",
       "      <td>0.308566</td>\n",
       "      <td>0.144193</td>\n",
       "      <td>0.207867</td>\n",
       "    </tr>\n",
       "    <tr>\n",
       "      <th>8</th>\n",
       "      <td>69</td>\n",
       "      <td>0.0</td>\n",
       "      <td>0.000000</td>\n",
       "      <td>0.548883</td>\n",
       "      <td>0.095776</td>\n",
       "      <td>0.247778</td>\n",
       "      <td>0.142577</td>\n",
       "    </tr>\n",
       "    <tr>\n",
       "      <th>13</th>\n",
       "      <td>114</td>\n",
       "      <td>0.0</td>\n",
       "      <td>0.000000</td>\n",
       "      <td>0.466653</td>\n",
       "      <td>0.228959</td>\n",
       "      <td>0.182046</td>\n",
       "      <td>0.182398</td>\n",
       "    </tr>\n",
       "    <tr>\n",
       "      <th>14</th>\n",
       "      <td>193</td>\n",
       "      <td>0.0</td>\n",
       "      <td>0.000000</td>\n",
       "      <td>0.253667</td>\n",
       "      <td>0.281387</td>\n",
       "      <td>0.317101</td>\n",
       "      <td>0.258416</td>\n",
       "    </tr>\n",
       "  </tbody>\n",
       "</table>\n",
       "</div>"
      ],
      "text/plain": [
       "     ID  knn10      knn3    linreg    xgb_25   xgb_all  item_cnt_month\n",
       "3    21    0.0  0.000000  0.106596  0.292600  0.454868        0.315010\n",
       "7    62    0.0  0.333333  0.402045  0.308566  0.144193        0.207867\n",
       "8    69    0.0  0.000000  0.548883  0.095776  0.247778        0.142577\n",
       "13  114    0.0  0.000000  0.466653  0.228959  0.182046        0.182398\n",
       "14  193    0.0  0.000000  0.253667  0.281387  0.317101        0.258416"
      ]
     },
     "execution_count": 65,
     "metadata": {},
     "output_type": "execute_result"
    }
   ],
   "source": [
    "df_test[((df_test['item_cnt_month'] > 0.0) & (df_test['item_cnt_month'] < 0.5))].head()"
   ]
  },
  {
   "cell_type": "code",
   "execution_count": 62,
   "metadata": {},
   "outputs": [
    {
     "data": {
      "text/html": [
       "<div>\n",
       "<style scoped>\n",
       "    .dataframe tbody tr th:only-of-type {\n",
       "        vertical-align: middle;\n",
       "    }\n",
       "\n",
       "    .dataframe tbody tr th {\n",
       "        vertical-align: top;\n",
       "    }\n",
       "\n",
       "    .dataframe thead th {\n",
       "        text-align: right;\n",
       "    }\n",
       "</style>\n",
       "<table border=\"1\" class=\"dataframe\">\n",
       "  <thead>\n",
       "    <tr style=\"text-align: right;\">\n",
       "      <th></th>\n",
       "      <th>ID</th>\n",
       "      <th>knn10</th>\n",
       "      <th>knn3</th>\n",
       "      <th>linreg</th>\n",
       "      <th>xgb_25</th>\n",
       "      <th>xgb_all</th>\n",
       "      <th>item_cnt_month</th>\n",
       "    </tr>\n",
       "  </thead>\n",
       "  <tbody>\n",
       "    <tr>\n",
       "      <th>0</th>\n",
       "      <td>0</td>\n",
       "      <td>0.0</td>\n",
       "      <td>0.666667</td>\n",
       "      <td>0.915902</td>\n",
       "      <td>0.889613</td>\n",
       "      <td>0.646006</td>\n",
       "      <td>0.889613</td>\n",
       "    </tr>\n",
       "    <tr>\n",
       "      <th>1</th>\n",
       "      <td>2</td>\n",
       "      <td>0.0</td>\n",
       "      <td>0.333333</td>\n",
       "      <td>0.947179</td>\n",
       "      <td>1.633402</td>\n",
       "      <td>1.284492</td>\n",
       "      <td>1.633402</td>\n",
       "    </tr>\n",
       "    <tr>\n",
       "      <th>2</th>\n",
       "      <td>15</td>\n",
       "      <td>0.0</td>\n",
       "      <td>0.333333</td>\n",
       "      <td>4.331489</td>\n",
       "      <td>2.740176</td>\n",
       "      <td>2.557366</td>\n",
       "      <td>2.740176</td>\n",
       "    </tr>\n",
       "    <tr>\n",
       "      <th>3</th>\n",
       "      <td>21</td>\n",
       "      <td>0.0</td>\n",
       "      <td>0.000000</td>\n",
       "      <td>0.106596</td>\n",
       "      <td>0.292600</td>\n",
       "      <td>0.454868</td>\n",
       "      <td>0.000000</td>\n",
       "    </tr>\n",
       "    <tr>\n",
       "      <th>4</th>\n",
       "      <td>23</td>\n",
       "      <td>0.0</td>\n",
       "      <td>0.333333</td>\n",
       "      <td>1.115873</td>\n",
       "      <td>1.172831</td>\n",
       "      <td>0.729194</td>\n",
       "      <td>1.172831</td>\n",
       "    </tr>\n",
       "  </tbody>\n",
       "</table>\n",
       "</div>"
      ],
      "text/plain": [
       "   ID  knn10      knn3    linreg    xgb_25   xgb_all  item_cnt_month\n",
       "0   0    0.0  0.666667  0.915902  0.889613  0.646006        0.889613\n",
       "1   2    0.0  0.333333  0.947179  1.633402  1.284492        1.633402\n",
       "2  15    0.0  0.333333  4.331489  2.740176  2.557366        2.740176\n",
       "3  21    0.0  0.000000  0.106596  0.292600  0.454868        0.000000\n",
       "4  23    0.0  0.333333  1.115873  1.172831  0.729194        1.172831"
      ]
     },
     "execution_count": 62,
     "metadata": {},
     "output_type": "execute_result"
    }
   ],
   "source": [
    "df_test[['ID', 'item_cnt_month']].to_csv"
   ]
  },
  {
   "cell_type": "code",
   "execution_count": null,
   "metadata": {},
   "outputs": [],
   "source": [
    "df+"
   ]
  },
  {
   "cell_type": "code",
   "execution_count": 48,
   "metadata": {},
   "outputs": [
    {
     "data": {
      "text/plain": [
       "0.7854948646125117"
      ]
     },
     "execution_count": 48,
     "metadata": {},
     "output_type": "execute_result"
    }
   ],
   "source": [
    "((df_test['xgb_25'] > 0.0) & (df_test['xgb_25'] < 0.5)).mean()"
   ]
  },
  {
   "cell_type": "code",
   "execution_count": 50,
   "metadata": {},
   "outputs": [],
   "source": [
    "df_test['item_cnt_month'] = df_test['item_cnt_month'] * (df_test['item_cnt_month'] > 0.5)"
   ]
  },
  {
   "cell_type": "code",
   "execution_count": 66,
   "metadata": {},
   "outputs": [],
   "source": [
    "df_test[['ID', 'item_cnt_month']].to_csv('../../data/submissions/stacked_model_not_cut.csv', index=False)"
   ]
  },
  {
   "cell_type": "code",
   "execution_count": 61,
   "metadata": {},
   "outputs": [],
   "source": [
    "df_test2 = df_test\n",
    "df_test2['item_cnt_month'] = df_test['xgb_25'] * (df_test['xgb_25'] > 0.5)\n",
    "df_test2[['ID', 'item_cnt_month']].to_csv('../../data/submissions/xgb_25_cut_under_half.csv', index=False)"
   ]
  },
  {
   "cell_type": "code",
   "execution_count": null,
   "metadata": {},
   "outputs": [],
   "source": []
  }
 ],
 "metadata": {
  "kernelspec": {
   "display_name": "Python 3",
   "language": "python",
   "name": "python3"
  },
  "language_info": {
   "codemirror_mode": {
    "name": "ipython",
    "version": 3
   },
   "file_extension": ".py",
   "mimetype": "text/x-python",
   "name": "python",
   "nbconvert_exporter": "python",
   "pygments_lexer": "ipython3",
   "version": "3.5.2"
  }
 },
 "nbformat": 4,
 "nbformat_minor": 2
}
