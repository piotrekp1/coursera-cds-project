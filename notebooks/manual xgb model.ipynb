{
 "cells": [
  {
   "cell_type": "code",
   "execution_count": 1,
   "metadata": {},
   "outputs": [],
   "source": [
    "from sklearn import preprocessing\n",
    "import pandas as pd \n",
    "from datetime import datetime\n",
    "import xgboost as xgb\n",
    "df = pd.read_hdf('../data/processed/train/aggr_train_zeros_25feat.hdf')\n",
    "\n",
    "threshold = datetime(2015, 9, 1)\n",
    "\n",
    "df['date'] = pd.to_datetime(df['year'].astype(str) + '-' + df['month'].astype(str) + '-1')"
   ]
  },
  {
   "cell_type": "code",
   "execution_count": 4,
   "metadata": {},
   "outputs": [],
   "source": [
    "\n",
    "\n",
    "def X(df):\n",
    "    df['day_of_year'] = df['date'].dt.dayofyear\n",
    "    date_cols = [\n",
    "        'month', 'year',\n",
    "        'fridays', 'day_of_year', 'days_in_a_month'\n",
    "    ]\n",
    "    one_hot_cols = [\n",
    "        'shop_id', 'mall', 'city',\n",
    "        'item_id', 'item_category_id', 'first_big_category', 'last_big_category',\n",
    "    ]\n",
    "    additional = [\n",
    "        'expected_sales'\n",
    "    ]\n",
    "\n",
    "    df_X = df[\n",
    "        [\n",
    "            col for col in df.columns\n",
    "            if col.startswith('count')\n",
    "        ]\n",
    "        + date_cols + one_hot_cols + additional\n",
    "        ]\n",
    "\n",
    "    # df_X = pd.get_dummies(df_X, columns=one_hot_cols)\n",
    "    # df_X = pd.get_dummies(df_X, columns=one_hot_cols + date_cols)\n",
    "    for f in df_X.columns:\n",
    "        if df_X[f].dtype == 'object':\n",
    "            lbl = preprocessing.LabelEncoder()\n",
    "            lbl.fit(list(df_X[f].values))\n",
    "            df_X[f] = lbl.transform(list(df_X[f].values))\n",
    "    return df_X\n",
    "\n",
    "def XY(df):\n",
    "    df_X = X(df)\n",
    "    df_y = df['item_cnt_day']\n",
    "    return df_X, df_y\n"
   ]
  },
  {
   "cell_type": "code",
   "execution_count": 4,
   "metadata": {},
   "outputs": [
    {
     "data": {
      "text/html": [
       "<div>\n",
       "<style scoped>\n",
       "    .dataframe tbody tr th:only-of-type {\n",
       "        vertical-align: middle;\n",
       "    }\n",
       "\n",
       "    .dataframe tbody tr th {\n",
       "        vertical-align: top;\n",
       "    }\n",
       "\n",
       "    .dataframe thead th {\n",
       "        text-align: right;\n",
       "    }\n",
       "</style>\n",
       "<table border=\"1\" class=\"dataframe\">\n",
       "  <thead>\n",
       "    <tr style=\"text-align: right;\">\n",
       "      <th></th>\n",
       "      <th>ID</th>\n",
       "      <th>pca_0</th>\n",
       "      <th>pca_1</th>\n",
       "      <th>pca_2</th>\n",
       "      <th>pca_3</th>\n",
       "    </tr>\n",
       "  </thead>\n",
       "  <tbody>\n",
       "    <tr>\n",
       "      <th>0</th>\n",
       "      <td>0</td>\n",
       "      <td>-35840.121448</td>\n",
       "      <td>-311164.411766</td>\n",
       "      <td>-19230.753314</td>\n",
       "      <td>-45744.622350</td>\n",
       "    </tr>\n",
       "    <tr>\n",
       "      <th>1</th>\n",
       "      <td>2</td>\n",
       "      <td>-35840.146211</td>\n",
       "      <td>-311164.281054</td>\n",
       "      <td>-19230.841393</td>\n",
       "      <td>-45744.618013</td>\n",
       "    </tr>\n",
       "    <tr>\n",
       "      <th>2</th>\n",
       "      <td>15</td>\n",
       "      <td>-35839.950060</td>\n",
       "      <td>-311165.302030</td>\n",
       "      <td>-19230.138928</td>\n",
       "      <td>-45744.653964</td>\n",
       "    </tr>\n",
       "    <tr>\n",
       "      <th>3</th>\n",
       "      <td>21</td>\n",
       "      <td>-35840.146211</td>\n",
       "      <td>-311164.281055</td>\n",
       "      <td>-19230.841393</td>\n",
       "      <td>-45744.618013</td>\n",
       "    </tr>\n",
       "    <tr>\n",
       "      <th>4</th>\n",
       "      <td>23</td>\n",
       "      <td>-35840.124500</td>\n",
       "      <td>-311164.388240</td>\n",
       "      <td>-19230.768880</td>\n",
       "      <td>-45744.620433</td>\n",
       "    </tr>\n",
       "  </tbody>\n",
       "</table>\n",
       "</div>"
      ],
      "text/plain": [
       "   ID         pca_0          pca_1         pca_2         pca_3\n",
       "0   0 -35840.121448 -311164.411766 -19230.753314 -45744.622350\n",
       "1   2 -35840.146211 -311164.281054 -19230.841393 -45744.618013\n",
       "2  15 -35839.950060 -311165.302030 -19230.138928 -45744.653964\n",
       "3  21 -35840.146211 -311164.281055 -19230.841393 -45744.618013\n",
       "4  23 -35840.124500 -311164.388240 -19230.768880 -45744.620433"
      ]
     },
     "execution_count": 4,
     "metadata": {},
     "output_type": "execute_result"
    }
   ],
   "source": [
    "df_train_pca = pd.read_hdf('../data/processed/train/pca.hdf')\n",
    "df_train_pca.head()"
   ]
  },
  {
   "cell_type": "code",
   "execution_count": 9,
   "metadata": {},
   "outputs": [],
   "source": [
    "pca_cols = ['pca_{}'.format(i) for i in range(4)]\n",
    "df[pca_cols]= df_train_pca[pca_cols]"
   ]
  },
  {
   "cell_type": "code",
   "execution_count": 7,
   "metadata": {},
   "outputs": [
    {
     "data": {
      "text/plain": [
       "(2784600, 5)"
      ]
     },
     "execution_count": 7,
     "metadata": {},
     "output_type": "execute_result"
    }
   ],
   "source": [
    "df_train_pca.shape"
   ]
  },
  {
   "cell_type": "code",
   "execution_count": 10,
   "metadata": {},
   "outputs": [],
   "source": [
    "\n",
    "df_train = df[df['date'] < threshold]"
   ]
  },
  {
   "cell_type": "code",
   "execution_count": 11,
   "metadata": {},
   "outputs": [],
   "source": [
    "\n",
    "\n",
    "df_X_train, df_y_train = df_train.drop(['item_cnt_day', 'date'], axis=1), df_train['item_cnt_day']"
   ]
  },
  {
   "cell_type": "code",
   "execution_count": 29,
   "metadata": {},
   "outputs": [],
   "source": [
    "\n",
    "\n",
    "\n",
    "params = {'max_depth': 15, 'eta': 0.05, 'silent': 1}\n",
    "num_round = 230\n",
    "dtrain = xgb.DMatrix(df_X_train, df_y_train)"
   ]
  },
  {
   "cell_type": "code",
   "execution_count": 31,
   "metadata": {},
   "outputs": [],
   "source": [
    "model = xgb.train(params, dtrain, num_round)"
   ]
  },
  {
   "cell_type": "code",
   "execution_count": 33,
   "metadata": {},
   "outputs": [],
   "source": [
    "model = pickle.load(open('../models/model_xgb_25_feat_13_PCA.pck', 'rb'))"
   ]
  },
  {
   "cell_type": "code",
   "execution_count": 30,
   "metadata": {},
   "outputs": [],
   "source": [
    "import pickle\n",
    "pickle.dump(model, open('../models/model_xgb_25_feat_13_PCA.pck', 'wb'))\n"
   ]
  },
  {
   "cell_type": "code",
   "execution_count": 16,
   "metadata": {},
   "outputs": [],
   "source": [
    "from sklearn.metrics import r2_score, mean_squared_error\n",
    "from math import sqrt\n",
    "def get_preds_trained_on_all(model, df_X):\n",
    "    return model.predict(xgb.DMatrix(df_X)).clip(0, 20)\n",
    "\n",
    "\n",
    "def previous_value_preds(df_X):\n",
    "    df_X = df_X.reindex(columns=df_X_train.columns, fill_value=0)\n",
    "    return df_X['count_aggr_1_month_ago_shop_id_item_id'].clip(0, 20)\n",
    "\n",
    "\n",
    "def validate(model, df_y_valid, df_X_valid):\n",
    "    df_y_valid = df_y_valid.copy().clip(0, 20)\n",
    "    df_y_valid_preds = get_preds_trained_on_all(model, df_X_valid)\n",
    "    # df_y_valid_preds = previous_value_preds(df_X_valid)\n",
    "    print('r2 score: ', r2_score(df_y_valid, df_y_valid_preds))\n",
    "    print('RMSE: ', sqrt(mean_squared_error(df_y_valid, df_y_valid_preds)))"
   ]
  },
  {
   "cell_type": "code",
   "execution_count": 17,
   "metadata": {},
   "outputs": [],
   "source": [
    "df_valid = df[df['date'] >= threshold]"
   ]
  },
  {
   "cell_type": "code",
   "execution_count": 18,
   "metadata": {},
   "outputs": [
    {
     "name": "stdout",
     "output_type": "stream",
     "text": [
      "r2 score:  0.3592850171848767\n",
      "RMSE:  0.882828576499819\n"
     ]
    }
   ],
   "source": [
    "# depth: 10 \n",
    "# PCA \n",
    "# 25 features\n",
    "# 100 rounds, 0.1\n",
    "df_X_valid, df_y_valid = df_valid.drop(['item_cnt_day', 'date'], axis=1), df_valid['item_cnt_day']\n",
    "validate(model, df_y_valid, df_X_valid)"
   ]
  },
  {
   "cell_type": "code",
   "execution_count": 21,
   "metadata": {},
   "outputs": [
    {
     "name": "stdout",
     "output_type": "stream",
     "text": [
      "r2 score:  0.3609760703133814\n",
      "RMSE:  0.8816627723310763\n"
     ]
    }
   ],
   "source": [
    "# depth: 11\n",
    "# PCA \n",
    "# 25 features\n",
    "# 230 rounds, 0.05\n",
    "df_X_valid, df_y_valid = df_valid.drop(['item_cnt_day', 'date'], axis=1), df_valid['item_cnt_day']\n",
    "validate(model, df_y_valid, df_X_valid)"
   ]
  },
  {
   "cell_type": "code",
   "execution_count": 34,
   "metadata": {},
   "outputs": [
    {
     "name": "stdout",
     "output_type": "stream",
     "text": [
      "r2 score:  0.3688473720512039\n",
      "RMSE:  0.8762159207204084\n"
     ]
    }
   ],
   "source": [
    "# depth: 13\n",
    "# PCA \n",
    "# 25 features\n",
    "# 230 rounds, 0.05\n",
    "df_X_valid, df_y_valid = df_valid.drop(['item_cnt_day', 'date'], axis=1), df_valid['item_cnt_day']\n",
    "validate(model, df_y_valid, df_X_valid)"
   ]
  },
  {
   "cell_type": "code",
   "execution_count": 32,
   "metadata": {},
   "outputs": [
    {
     "name": "stdout",
     "output_type": "stream",
     "text": [
      "r2 score:  0.3622632429519045\n",
      "RMSE:  0.8807743672199442\n"
     ]
    }
   ],
   "source": [
    "# depth: 15\n",
    "# PCA \n",
    "# 25 features\n",
    "# 230 rounds, 0.05\n",
    "df_X_valid, df_y_valid = df_valid.drop(['item_cnt_day', 'date'], axis=1), df_valid['item_cnt_day']\n",
    "validate(model, df_y_valid, df_X_valid)"
   ]
  },
  {
   "cell_type": "code",
   "execution_count": 35,
   "metadata": {},
   "outputs": [
    {
     "name": "stdout",
     "output_type": "stream",
     "text": [
      "linreg RMSE:  1.3027673459701847\n",
      "rf RMSE:  2.099549456906779\n"
     ]
    }
   ],
   "source": [
    "df_test = pd.read_hdf('../data/processed/test/aggr_test_25feat.hdf')\n",
    "df_test_pca = pd.read_hdf('../data/processed/test/pca.hdf')\n",
    "df_test[pca_cols] = df_test_pca[pca_cols]\n",
    "df_test['item_cnt_month'] = get_preds_trained_on_all(model, df_test.drop('ID', axis=1))\n",
    "df_test[['ID', 'item_cnt_month']].to_csv('../data/submissions/submission_trained_on_year_xgb_13_25feat.csv', index=False)\n",
    "\n",
    "linreg_test = pd.read_csv('../data/submissions/if_sells_submission_linreg.csv')\n",
    "print('linreg RMSE: ', sqrt(mean_squared_error(linreg_test['item_cnt_month'], df_test['item_cnt_month'])))\n",
    "rf_test = pd.read_csv('../data/submissions/if_sells_submission_rf.csv')\n",
    "print('rf RMSE: ', sqrt(mean_squared_error(rf_test['item_cnt_month'], df_test['item_cnt_month'])))"
   ]
  },
  {
   "cell_type": "code",
   "execution_count": null,
   "metadata": {},
   "outputs": [],
   "source": []
  }
 ],
 "metadata": {
  "kernelspec": {
   "display_name": "Python 3",
   "language": "python",
   "name": "python3"
  },
  "language_info": {
   "codemirror_mode": {
    "name": "ipython",
    "version": 3
   },
   "file_extension": ".py",
   "mimetype": "text/x-python",
   "name": "python",
   "nbconvert_exporter": "python",
   "pygments_lexer": "ipython3",
   "version": "3.5.2"
  }
 },
 "nbformat": 4,
 "nbformat_minor": 2
}
