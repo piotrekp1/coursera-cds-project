{
 "cells": [
  {
   "cell_type": "code",
   "execution_count": 3,
   "metadata": {},
   "outputs": [
    {
     "data": {
      "text/html": [
       "<div>\n",
       "<style scoped>\n",
       "    .dataframe tbody tr th:only-of-type {\n",
       "        vertical-align: middle;\n",
       "    }\n",
       "\n",
       "    .dataframe tbody tr th {\n",
       "        vertical-align: top;\n",
       "    }\n",
       "\n",
       "    .dataframe thead th {\n",
       "        text-align: right;\n",
       "    }\n",
       "</style>\n",
       "<table border=\"1\" class=\"dataframe\">\n",
       "  <thead>\n",
       "    <tr style=\"text-align: right;\">\n",
       "      <th></th>\n",
       "      <th>date</th>\n",
       "      <th>date_block_num</th>\n",
       "      <th>shop_id</th>\n",
       "      <th>item_id</th>\n",
       "      <th>item_price</th>\n",
       "      <th>item_cnt_day</th>\n",
       "      <th>day</th>\n",
       "      <th>month</th>\n",
       "      <th>year</th>\n",
       "      <th>weekday</th>\n",
       "      <th>...</th>\n",
       "      <th>to_new_year_days</th>\n",
       "      <th>is_feb_special_time</th>\n",
       "      <th>feb_special_gaussian</th>\n",
       "      <th>from_feb_special_days</th>\n",
       "      <th>to_feb_special_days</th>\n",
       "      <th>is_nov_special_time</th>\n",
       "      <th>nov_special_gaussian</th>\n",
       "      <th>from_nov_special_days</th>\n",
       "      <th>to_nov_special_days</th>\n",
       "      <th>is_holiday</th>\n",
       "    </tr>\n",
       "  </thead>\n",
       "  <tbody>\n",
       "    <tr>\n",
       "      <th>0</th>\n",
       "      <td>2013-01-02</td>\n",
       "      <td>0</td>\n",
       "      <td>59</td>\n",
       "      <td>22154</td>\n",
       "      <td>999.00</td>\n",
       "      <td>1.0</td>\n",
       "      <td>2</td>\n",
       "      <td>1</td>\n",
       "      <td>2013</td>\n",
       "      <td>2</td>\n",
       "      <td>...</td>\n",
       "      <td>363</td>\n",
       "      <td>False</td>\n",
       "      <td>0.0</td>\n",
       "      <td>314</td>\n",
       "      <td>51</td>\n",
       "      <td>False</td>\n",
       "      <td>0.0</td>\n",
       "      <td>88</td>\n",
       "      <td>277</td>\n",
       "      <td>False</td>\n",
       "    </tr>\n",
       "    <tr>\n",
       "      <th>1</th>\n",
       "      <td>2013-01-03</td>\n",
       "      <td>0</td>\n",
       "      <td>25</td>\n",
       "      <td>2552</td>\n",
       "      <td>899.00</td>\n",
       "      <td>1.0</td>\n",
       "      <td>3</td>\n",
       "      <td>1</td>\n",
       "      <td>2013</td>\n",
       "      <td>3</td>\n",
       "      <td>...</td>\n",
       "      <td>362</td>\n",
       "      <td>False</td>\n",
       "      <td>0.0</td>\n",
       "      <td>315</td>\n",
       "      <td>50</td>\n",
       "      <td>False</td>\n",
       "      <td>0.0</td>\n",
       "      <td>89</td>\n",
       "      <td>276</td>\n",
       "      <td>False</td>\n",
       "    </tr>\n",
       "    <tr>\n",
       "      <th>2</th>\n",
       "      <td>2013-01-05</td>\n",
       "      <td>0</td>\n",
       "      <td>25</td>\n",
       "      <td>2552</td>\n",
       "      <td>899.00</td>\n",
       "      <td>-1.0</td>\n",
       "      <td>5</td>\n",
       "      <td>1</td>\n",
       "      <td>2013</td>\n",
       "      <td>5</td>\n",
       "      <td>...</td>\n",
       "      <td>360</td>\n",
       "      <td>False</td>\n",
       "      <td>0.0</td>\n",
       "      <td>317</td>\n",
       "      <td>48</td>\n",
       "      <td>False</td>\n",
       "      <td>0.0</td>\n",
       "      <td>91</td>\n",
       "      <td>274</td>\n",
       "      <td>False</td>\n",
       "    </tr>\n",
       "    <tr>\n",
       "      <th>3</th>\n",
       "      <td>2013-01-06</td>\n",
       "      <td>0</td>\n",
       "      <td>25</td>\n",
       "      <td>2554</td>\n",
       "      <td>1709.05</td>\n",
       "      <td>1.0</td>\n",
       "      <td>6</td>\n",
       "      <td>1</td>\n",
       "      <td>2013</td>\n",
       "      <td>6</td>\n",
       "      <td>...</td>\n",
       "      <td>359</td>\n",
       "      <td>False</td>\n",
       "      <td>0.0</td>\n",
       "      <td>318</td>\n",
       "      <td>47</td>\n",
       "      <td>False</td>\n",
       "      <td>0.0</td>\n",
       "      <td>92</td>\n",
       "      <td>273</td>\n",
       "      <td>False</td>\n",
       "    </tr>\n",
       "    <tr>\n",
       "      <th>4</th>\n",
       "      <td>2013-01-15</td>\n",
       "      <td>0</td>\n",
       "      <td>25</td>\n",
       "      <td>2555</td>\n",
       "      <td>1099.00</td>\n",
       "      <td>1.0</td>\n",
       "      <td>15</td>\n",
       "      <td>1</td>\n",
       "      <td>2013</td>\n",
       "      <td>1</td>\n",
       "      <td>...</td>\n",
       "      <td>350</td>\n",
       "      <td>False</td>\n",
       "      <td>0.0</td>\n",
       "      <td>327</td>\n",
       "      <td>38</td>\n",
       "      <td>False</td>\n",
       "      <td>0.0</td>\n",
       "      <td>101</td>\n",
       "      <td>264</td>\n",
       "      <td>False</td>\n",
       "    </tr>\n",
       "  </tbody>\n",
       "</table>\n",
       "<p>5 rows × 24 columns</p>\n",
       "</div>"
      ],
      "text/plain": [
       "        date  date_block_num  shop_id  item_id  item_price  item_cnt_day  day  \\\n",
       "0 2013-01-02               0       59    22154      999.00           1.0    2   \n",
       "1 2013-01-03               0       25     2552      899.00           1.0    3   \n",
       "2 2013-01-05               0       25     2552      899.00          -1.0    5   \n",
       "3 2013-01-06               0       25     2554     1709.05           1.0    6   \n",
       "4 2013-01-15               0       25     2555     1099.00           1.0   15   \n",
       "\n",
       "   month  year  weekday     ...      to_new_year_days  is_feb_special_time  \\\n",
       "0      1  2013        2     ...                   363                False   \n",
       "1      1  2013        3     ...                   362                False   \n",
       "2      1  2013        5     ...                   360                False   \n",
       "3      1  2013        6     ...                   359                False   \n",
       "4      1  2013        1     ...                   350                False   \n",
       "\n",
       "   feb_special_gaussian  from_feb_special_days  to_feb_special_days  \\\n",
       "0                   0.0                    314                   51   \n",
       "1                   0.0                    315                   50   \n",
       "2                   0.0                    317                   48   \n",
       "3                   0.0                    318                   47   \n",
       "4                   0.0                    327                   38   \n",
       "\n",
       "   is_nov_special_time  nov_special_gaussian  from_nov_special_days  \\\n",
       "0                False                   0.0                     88   \n",
       "1                False                   0.0                     89   \n",
       "2                False                   0.0                     91   \n",
       "3                False                   0.0                     92   \n",
       "4                False                   0.0                    101   \n",
       "\n",
       "   to_nov_special_days  is_holiday  \n",
       "0                  277       False  \n",
       "1                  276       False  \n",
       "2                  274       False  \n",
       "3                  273       False  \n",
       "4                  264       False  \n",
       "\n",
       "[5 rows x 24 columns]"
      ]
     },
     "execution_count": 3,
     "metadata": {},
     "output_type": "execute_result"
    }
   ],
   "source": [
    "import pandas as pd\n",
    "df_train = pd.read_hdf('../data/processed/train/train_case1.hdf')\n",
    "df_valid = pd.read_hdf('../data/processed/validation/valid_case1.hdf')\n",
    "df_train.head()"
   ]
  },
  {
   "cell_type": "markdown",
   "metadata": {},
   "source": [
    "###  Aggregates:\n",
    "\n",
    "Periods:\n",
    "  * last month\n",
    "  * last but one month\n",
    "  * last 3 months\n",
    "  * last 6 months\n",
    "  * last 15 days\n",
    "  \n",
    "Sets:\n",
    "  * Item\n",
    "  * Shop\n",
    "  * Item x Shop\n",
    "  * Cluster Shops and items\n",
    "  * Item Category\n",
    " \n",
    "Features:\n",
    "  * Average (per day) number of items sold \n",
    "  * variance of items sold\n",
    "  * average number of items sold on weekend day"
   ]
  },
  {
   "cell_type": "markdown",
   "metadata": {},
   "source": [
    "### Additional Features\n",
    "\n",
    "Month based:\n",
    "  * Number of fridays in a month\n",
    "  * Number of sundays in a month"
   ]
  },
  {
   "cell_type": "code",
   "execution_count": 22,
   "metadata": {},
   "outputs": [
    {
     "name": "stderr",
     "output_type": "stream",
     "text": [
      "/home/piotrek/.local/lib/python3.5/site-packages/ipykernel_launcher.py:3: SettingWithCopyWarning: \n",
      "A value is trying to be set on a copy of a slice from a DataFrame.\n",
      "Try using .loc[row_indexer,col_indexer] = value instead\n",
      "\n",
      "See the caveats in the documentation: http://pandas.pydata.org/pandas-docs/stable/indexing.html#indexing-view-versus-copy\n",
      "  This is separate from the ipykernel package so we can avoid doing imports until\n"
     ]
    },
    {
     "data": {
      "image/png": "[encoded data removed]",
      "text/plain": [
       "<Figure size 432x288 with 1 Axes>"
      ]
     },
     "metadata": {},
     "output_type": "display_data"
    }
   ],
   "source": [
    "import matplotlib.pyplot as plt\n",
    "df_aggr = df_train[['shop_id', 'item_price', 'item_cnt_day']]\n",
    "df_aggr['val'] = df_aggr['item_price'] * df_aggr['item_cnt_day']\n",
    "df_aggr_sorted = df_aggr.groupby('shop_id')['val'].mean().sort_values()\n",
    "df_aggr_sorted.index = map(str, df_aggr_sorted.index)\n",
    "df_aggr_sorted.plot(kind='bar', logy=True)\n",
    "plt.show()"
   ]
  },
  {
   "cell_type": "code",
   "execution_count": 28,
   "metadata": {},
   "outputs": [
    {
     "name": "stderr",
     "output_type": "stream",
     "text": [
      "/home/piotrek/.local/lib/python3.5/site-packages/ipykernel_launcher.py:3: SettingWithCopyWarning: \n",
      "A value is trying to be set on a copy of a slice from a DataFrame.\n",
      "Try using .loc[row_indexer,col_indexer] = value instead\n",
      "\n",
      "See the caveats in the documentation: http://pandas.pydata.org/pandas-docs/stable/indexing.html#indexing-view-versus-copy\n",
      "  This is separate from the ipykernel package so we can avoid doing imports until\n"
     ]
    },
    {
     "data": {
      "image/png": "[encoded data removed]",
      "text/plain": [
       "<Figure size 432x288 with 1 Axes>"
      ]
     },
     "metadata": {},
     "output_type": "display_data"
    }
   ],
   "source": [
    "import matplotlib.pyplot as plt\n",
    "df_aggr = df_train[['shop_id', 'item_price', 'item_cnt_day']]\n",
    "df_aggr['val'] = df_aggr['item_price'] * df_aggr['item_cnt_day']\n",
    "df_aggr_sorted = df_aggr.groupby('shop_id')['item_price'].mean().sort_values()\n",
    "df_aggr_sorted.index = map(str, df_aggr_sorted.index)\n",
    "df_aggr_sorted.plot(kind='bar')\n",
    "plt.show()"
   ]
  },
  {
   "cell_type": "code",
   "execution_count": 29,
   "metadata": {},
   "outputs": [
    {
     "data": {
      "image/png": "[encoded data removed]",
      "text/plain": [
       "<Figure size 432x288 with 1 Axes>"
      ]
     },
     "metadata": {},
     "output_type": "display_data"
    }
   ],
   "source": [
    "# Sklepy prawie nie różnią się ilością sprzedanych itemów dziennie \n",
    "\n",
    "df_aggr_sorted = df_aggr.groupby('shop_id')['item_cnt_day'].mean().sort_values()\n",
    "df_aggr_sorted.index = map(str, df_aggr_sorted.index)\n",
    "df_aggr_sorted.plot(kind='bar')\n",
    "plt.show()"
   ]
  },
  {
   "cell_type": "code",
   "execution_count": 30,
   "metadata": {},
   "outputs": [
    {
     "name": "stderr",
     "output_type": "stream",
     "text": [
      "/home/piotrek/.local/lib/python3.5/site-packages/ipykernel_launcher.py:1: SettingWithCopyWarning: \n",
      "A value is trying to be set on a copy of a slice from a DataFrame.\n",
      "Try using .loc[row_indexer,col_indexer] = value instead\n",
      "\n",
      "See the caveats in the documentation: http://pandas.pydata.org/pandas-docs/stable/indexing.html#indexing-view-versus-copy\n",
      "  \"\"\"Entry point for launching an IPython kernel.\n"
     ]
    },
    {
     "data": {
      "image/png": "[encoded data removed]",
      "text/plain": [
       "<Figure size 432x288 with 1 Axes>"
      ]
     },
     "metadata": {},
     "output_type": "display_data"
    }
   ],
   "source": [
    "df_aggr['returns'] = (df_aggr['item_cnt_day'] < 0) * df_aggr['item_cnt_day']\n",
    "df_aggr_sorted = (df_aggr.groupby('shop_id')['returns'].sum() / df_aggr.groupby('shop_id')['item_cnt_day'].mean()).sort_values()\n",
    "df_aggr_sorted.index = map(str, df_aggr_sorted.index)\n",
    "df_aggr_sorted.plot(kind='bar')\n",
    "plt.show()"
   ]
  },
  {
   "cell_type": "code",
   "execution_count": 25,
   "metadata": {},
   "outputs": [
    {
     "data": {
      "text/plain": [
       "0          False\n",
       "1          False\n",
       "2           True\n",
       "3          False\n",
       "4          False\n",
       "5          False\n",
       "6          False\n",
       "7          False\n",
       "8          False\n",
       "9          False\n",
       "10         False\n",
       "11         False\n",
       "12         False\n",
       "13         False\n",
       "14         False\n",
       "15         False\n",
       "16         False\n",
       "17         False\n",
       "18         False\n",
       "19         False\n",
       "20         False\n",
       "21         False\n",
       "22         False\n",
       "23         False\n",
       "24         False\n",
       "25         False\n",
       "26         False\n",
       "27         False\n",
       "28         False\n",
       "29         False\n",
       "           ...  \n",
       "2831717    False\n",
       "2831718    False\n",
       "2831719    False\n",
       "2831720    False\n",
       "2831721    False\n",
       "2831722    False\n",
       "2831723    False\n",
       "2831724    False\n",
       "2831725    False\n",
       "2831726    False\n",
       "2831727    False\n",
       "2831728    False\n",
       "2831729    False\n",
       "2831730    False\n",
       "2831731    False\n",
       "2831732    False\n",
       "2831733    False\n",
       "2831734    False\n",
       "2831735    False\n",
       "2831736    False\n",
       "2831737    False\n",
       "2831738    False\n",
       "2831739    False\n",
       "2831740    False\n",
       "2831741    False\n",
       "2831742    False\n",
       "2831743    False\n",
       "2831744    False\n",
       "2831745    False\n",
       "2831746    False\n",
       "Name: item_cnt_day, Length: 2831747, dtype: bool"
      ]
     },
     "execution_count": 25,
     "metadata": {},
     "output_type": "execute_result"
    }
   ],
   "source": [
    "(df_aggr['item_cnt_day'] < 0)"
   ]
  },
  {
   "cell_type": "code",
   "execution_count": 18,
   "metadata": {},
   "outputs": [
    {
     "data": {
      "text/plain": [
       "13     336.971116\n",
       "51     543.139580\n",
       "1      570.307679\n",
       "0      673.366136\n",
       "8      688.557444\n",
       "32     726.415503\n",
       "23     807.341835\n",
       "56     830.528410\n",
       "44     854.496465\n",
       "10     895.044294\n",
       "30     918.255238\n",
       "58     949.925603\n",
       "57     956.818571\n",
       "31     983.366024\n",
       "54     989.264518\n",
       "5      989.679812\n",
       "19    1004.439490\n",
       "40    1008.594515\n",
       "52    1025.071053\n",
       "11    1045.401082\n",
       "21    1051.316030\n",
       "4     1060.126215\n",
       "53    1061.326582\n",
       "59    1062.954309\n",
       "16    1067.133378\n",
       "41    1084.334402\n",
       "46    1102.832544\n",
       "28    1109.129044\n",
       "15    1129.556712\n",
       "45    1129.996929\n",
       "37    1132.705336\n",
       "25    1136.050506\n",
       "7     1139.995143\n",
       "29    1148.809253\n",
       "3     1161.927658\n",
       "6     1166.949108\n",
       "33    1183.429793\n",
       "50    1185.427585\n",
       "35    1188.848578\n",
       "17    1210.673129\n",
       "26    1222.823061\n",
       "55    1240.054008\n",
       "14    1244.738005\n",
       "49    1273.752348\n",
       "24    1276.898781\n",
       "48    1277.858301\n",
       "39    1305.623044\n",
       "47    1306.457646\n",
       "22    1311.348293\n",
       "27    1334.729503\n",
       "42    1354.209528\n",
       "38    1414.169408\n",
       "34    1456.924515\n",
       "18    1557.114429\n",
       "43    1583.873007\n",
       "2     1679.973081\n",
       "12    3148.458949\n",
       "20    3702.178836\n",
       "9     4286.530970\n",
       "Name: val, dtype: float64"
      ]
     },
     "execution_count": 18,
     "metadata": {},
     "output_type": "execute_result"
    }
   ],
   "source": [
    "df_aggr_sorted"
   ]
  },
  {
   "cell_type": "code",
   "execution_count": null,
   "metadata": {},
   "outputs": [],
   "source": []
  }
 ],
 "metadata": {
  "kernelspec": {
   "display_name": "Python 3",
   "language": "python",
   "name": "python3"
  },
  "language_info": {
   "codemirror_mode": {
    "name": "ipython",
    "version": 3
   },
   "file_extension": ".py",
   "mimetype": "text/x-python",
   "name": "python",
   "nbconvert_exporter": "python",
   "pygments_lexer": "ipython3",
   "version": "3.5.2"
  }
 },
 "nbformat": 4,
 "nbformat_minor": 2
}
