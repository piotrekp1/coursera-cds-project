{
 "cells": [
  {
   "cell_type": "code",
   "execution_count": 1,
   "metadata": {},
   "outputs": [],
   "source": [
    "import pandas as pd\n",
    "import xgboost as xgb\n",
    "import pickle \n",
    "model = pickle.load(open('../models/model_xgb.pck', 'rb'))\n"
   ]
  },
  {
   "cell_type": "code",
   "execution_count": 3,
   "metadata": {},
   "outputs": [],
   "source": [
    "from datetime import datetime\n",
    "df_valid = pd.read_hdf('../data/processed/validation/aggr_valid_25feat.hdf')\n",
    "threshold = datetime(2015, 9, 1)\n",
    "df_valid['date'] = pd.to_datetime(df_valid['year'].astype(str) + '-' + df_valid['month'].astype(str) + '-1')\n",
    "df_valid = df_valid[df_valid['date'] >= threshold]"
   ]
  },
  {
   "cell_type": "code",
   "execution_count": 4,
   "metadata": {},
   "outputs": [
    {
     "data": {
      "text/html": [
       "<div>\n",
       "<style scoped>\n",
       "    .dataframe tbody tr th:only-of-type {\n",
       "        vertical-align: middle;\n",
       "    }\n",
       "\n",
       "    .dataframe tbody tr th {\n",
       "        vertical-align: top;\n",
       "    }\n",
       "\n",
       "    .dataframe thead th {\n",
       "        text-align: right;\n",
       "    }\n",
       "</style>\n",
       "<table border=\"1\" class=\"dataframe\">\n",
       "  <thead>\n",
       "    <tr style=\"text-align: right;\">\n",
       "      <th></th>\n",
       "      <th>ID</th>\n",
       "      <th>shop_id</th>\n",
       "      <th>item_id</th>\n",
       "      <th>year</th>\n",
       "      <th>month</th>\n",
       "      <th>item_name</th>\n",
       "      <th>item_category_id</th>\n",
       "      <th>item_category_name</th>\n",
       "      <th>first_big_category</th>\n",
       "      <th>last_big_category</th>\n",
       "      <th>...</th>\n",
       "      <th>count_last_week_mall_first_big_category</th>\n",
       "      <th>count_last_week_mall_last_big_category</th>\n",
       "      <th>count_last_week_city_item_id</th>\n",
       "      <th>count_last_week_city_item_category_id</th>\n",
       "      <th>count_last_week_city_first_big_category</th>\n",
       "      <th>count_last_week_city_last_big_category</th>\n",
       "      <th>fridays</th>\n",
       "      <th>days_in_a_month</th>\n",
       "      <th>expected_sales</th>\n",
       "      <th>item_cnt_day</th>\n",
       "    </tr>\n",
       "  </thead>\n",
       "  <tbody>\n",
       "    <tr>\n",
       "      <th>0</th>\n",
       "      <td>0</td>\n",
       "      <td>5</td>\n",
       "      <td>5037</td>\n",
       "      <td>2014</td>\n",
       "      <td>10</td>\n",
       "      <td>NHL 15 [PS3, русские субтитры]</td>\n",
       "      <td>19</td>\n",
       "      <td>Игры - PS3</td>\n",
       "      <td>Игры</td>\n",
       "      <td>PS3</td>\n",
       "      <td>...</td>\n",
       "      <td>165.0</td>\n",
       "      <td>25.0</td>\n",
       "      <td>0.0</td>\n",
       "      <td>25.0</td>\n",
       "      <td>165.0</td>\n",
       "      <td>25.0</td>\n",
       "      <td>5</td>\n",
       "      <td>31</td>\n",
       "      <td>0.000000</td>\n",
       "      <td>0.0</td>\n",
       "    </tr>\n",
       "    <tr>\n",
       "      <th>1</th>\n",
       "      <td>2</td>\n",
       "      <td>5</td>\n",
       "      <td>5233</td>\n",
       "      <td>2014</td>\n",
       "      <td>10</td>\n",
       "      <td>Need for Speed Rivals (Essentials) [PS3, русск...</td>\n",
       "      <td>19</td>\n",
       "      <td>Игры - PS3</td>\n",
       "      <td>Игры</td>\n",
       "      <td>PS3</td>\n",
       "      <td>...</td>\n",
       "      <td>165.0</td>\n",
       "      <td>25.0</td>\n",
       "      <td>0.0</td>\n",
       "      <td>25.0</td>\n",
       "      <td>165.0</td>\n",
       "      <td>25.0</td>\n",
       "      <td>5</td>\n",
       "      <td>31</td>\n",
       "      <td>0.000000</td>\n",
       "      <td>0.0</td>\n",
       "    </tr>\n",
       "    <tr>\n",
       "      <th>2</th>\n",
       "      <td>15</td>\n",
       "      <td>5</td>\n",
       "      <td>4872</td>\n",
       "      <td>2014</td>\n",
       "      <td>10</td>\n",
       "      <td>Minecraft. Playstation 3 Edition [PS3, русская...</td>\n",
       "      <td>19</td>\n",
       "      <td>Игры - PS3</td>\n",
       "      <td>Игры</td>\n",
       "      <td>PS3</td>\n",
       "      <td>...</td>\n",
       "      <td>165.0</td>\n",
       "      <td>25.0</td>\n",
       "      <td>1.0</td>\n",
       "      <td>25.0</td>\n",
       "      <td>165.0</td>\n",
       "      <td>25.0</td>\n",
       "      <td>5</td>\n",
       "      <td>31</td>\n",
       "      <td>4.428571</td>\n",
       "      <td>3.0</td>\n",
       "    </tr>\n",
       "    <tr>\n",
       "      <th>3</th>\n",
       "      <td>21</td>\n",
       "      <td>5</td>\n",
       "      <td>5002</td>\n",
       "      <td>2014</td>\n",
       "      <td>10</td>\n",
       "      <td>NBA 2K16 [PS3, русская документация]</td>\n",
       "      <td>19</td>\n",
       "      <td>Игры - PS3</td>\n",
       "      <td>Игры</td>\n",
       "      <td>PS3</td>\n",
       "      <td>...</td>\n",
       "      <td>165.0</td>\n",
       "      <td>25.0</td>\n",
       "      <td>0.0</td>\n",
       "      <td>25.0</td>\n",
       "      <td>165.0</td>\n",
       "      <td>25.0</td>\n",
       "      <td>5</td>\n",
       "      <td>31</td>\n",
       "      <td>0.000000</td>\n",
       "      <td>0.0</td>\n",
       "    </tr>\n",
       "    <tr>\n",
       "      <th>4</th>\n",
       "      <td>23</td>\n",
       "      <td>5</td>\n",
       "      <td>5814</td>\n",
       "      <td>2014</td>\n",
       "      <td>10</td>\n",
       "      <td>Plants vs. Zombies Garden Warfare [PS3, русска...</td>\n",
       "      <td>19</td>\n",
       "      <td>Игры - PS3</td>\n",
       "      <td>Игры</td>\n",
       "      <td>PS3</td>\n",
       "      <td>...</td>\n",
       "      <td>165.0</td>\n",
       "      <td>25.0</td>\n",
       "      <td>1.0</td>\n",
       "      <td>25.0</td>\n",
       "      <td>165.0</td>\n",
       "      <td>25.0</td>\n",
       "      <td>5</td>\n",
       "      <td>31</td>\n",
       "      <td>4.428571</td>\n",
       "      <td>2.0</td>\n",
       "    </tr>\n",
       "  </tbody>\n",
       "</table>\n",
       "<p>5 rows × 153 columns</p>\n",
       "</div>"
      ],
      "text/plain": [
       "   ID  shop_id  item_id  year  month  \\\n",
       "0   0        5     5037  2014     10   \n",
       "1   2        5     5233  2014     10   \n",
       "2  15        5     4872  2014     10   \n",
       "3  21        5     5002  2014     10   \n",
       "4  23        5     5814  2014     10   \n",
       "\n",
       "                                           item_name  item_category_id  \\\n",
       "0                     NHL 15 [PS3, русские субтитры]                19   \n",
       "1  Need for Speed Rivals (Essentials) [PS3, русск...                19   \n",
       "2  Minecraft. Playstation 3 Edition [PS3, русская...                19   \n",
       "3               NBA 2K16 [PS3, русская документация]                19   \n",
       "4  Plants vs. Zombies Garden Warfare [PS3, русска...                19   \n",
       "\n",
       "  item_category_name first_big_category last_big_category      ...       \\\n",
       "0         Игры - PS3               Игры               PS3      ...        \n",
       "1         Игры - PS3               Игры               PS3      ...        \n",
       "2         Игры - PS3               Игры               PS3      ...        \n",
       "3         Игры - PS3               Игры               PS3      ...        \n",
       "4         Игры - PS3               Игры               PS3      ...        \n",
       "\n",
       "  count_last_week_mall_first_big_category  \\\n",
       "0                                   165.0   \n",
       "1                                   165.0   \n",
       "2                                   165.0   \n",
       "3                                   165.0   \n",
       "4                                   165.0   \n",
       "\n",
       "  count_last_week_mall_last_big_category count_last_week_city_item_id  \\\n",
       "0                                   25.0                          0.0   \n",
       "1                                   25.0                          0.0   \n",
       "2                                   25.0                          1.0   \n",
       "3                                   25.0                          0.0   \n",
       "4                                   25.0                          1.0   \n",
       "\n",
       "  count_last_week_city_item_category_id  \\\n",
       "0                                  25.0   \n",
       "1                                  25.0   \n",
       "2                                  25.0   \n",
       "3                                  25.0   \n",
       "4                                  25.0   \n",
       "\n",
       "  count_last_week_city_first_big_category  \\\n",
       "0                                   165.0   \n",
       "1                                   165.0   \n",
       "2                                   165.0   \n",
       "3                                   165.0   \n",
       "4                                   165.0   \n",
       "\n",
       "  count_last_week_city_last_big_category  fridays  days_in_a_month  \\\n",
       "0                                   25.0        5               31   \n",
       "1                                   25.0        5               31   \n",
       "2                                   25.0        5               31   \n",
       "3                                   25.0        5               31   \n",
       "4                                   25.0        5               31   \n",
       "\n",
       "   expected_sales  item_cnt_day  \n",
       "0        0.000000           0.0  \n",
       "1        0.000000           0.0  \n",
       "2        4.428571           3.0  \n",
       "3        0.000000           0.0  \n",
       "4        4.428571           2.0  \n",
       "\n",
       "[5 rows x 153 columns]"
      ]
     },
     "execution_count": 4,
     "metadata": {},
     "output_type": "execute_result"
    }
   ],
   "source": [
    "df.head()"
   ]
  },
  {
   "cell_type": "code",
   "execution_count": 4,
   "metadata": {},
   "outputs": [],
   "source": [
    "from sklearn import preprocessing\n",
    "def X(df):\n",
    "    df['day_of_year'] = df['date'].dt.dayofyear\n",
    "    date_cols = [\n",
    "        'month', 'year',\n",
    "        'fridays', 'day_of_year', 'days_in_a_month'\n",
    "    ]\n",
    "    one_hot_cols = [\n",
    "        'shop_id', 'mall', 'city',\n",
    "        'item_id', 'item_category_id', 'first_big_category', 'last_big_category',\n",
    "    ]\n",
    "    additional = [\n",
    "        'expected_sales'\n",
    "    ]\n",
    "\n",
    "    df_X = df[\n",
    "        [\n",
    "            col for col in df.columns\n",
    "            if col.startswith('count')\n",
    "        ]\n",
    "        + date_cols + one_hot_cols + additional\n",
    "        ]\n",
    "\n",
    "    # df_X = pd.get_dummies(df_X, columns=one_hot_cols)\n",
    "    # df_X = pd.get_dummies(df_X, columns=one_hot_cols + date_cols)\n",
    "    for f in df_X.columns:\n",
    "        if df_X[f].dtype == 'object':\n",
    "            lbl = preprocessing.LabelEncoder()\n",
    "            lbl.fit(list(df_X[f].values))\n",
    "            df_X[f] = lbl.transform(list(df_X[f].values))\n",
    "    return df_X\n",
    "\n",
    "def XY(df):\n",
    "    df_X = X(df)\n",
    "    df_y = df['item_cnt_day']\n",
    "    return df_X, df_y\n"
   ]
  },
  {
   "cell_type": "code",
   "execution_count": 5,
   "metadata": {},
   "outputs": [],
   "source": [
    "df_X_valid, df_y_valid = df_valid.drop(['item_cnt_day', 'date'], axis=1), df_valid['item_cnt_day']"
   ]
  },
  {
   "cell_type": "code",
   "execution_count": 6,
   "metadata": {},
   "outputs": [],
   "source": [
    "from sklearn.metrics import r2_score, mean_squared_error\n",
    "from math import sqrt\n",
    "def get_preds_trained_on_all(model, df_X):\n",
    "    return model.predict(xgb.DMatrix(df_X)).clip(0, 20)\n",
    "\n",
    "\n",
    "def previous_value_preds(df_X):\n",
    "    df_X = df_X.reindex(columns=df_X_train.columns, fill_value=0)\n",
    "    return df_X['count_aggr_1_month_ago_shop_id_item_id'].clip(0, 20)\n",
    "\n",
    "\n",
    "def validate(model, df_y_valid, df_X_valid):\n",
    "    df_y_valid = df_y_valid.copy().clip(0, 20)\n",
    "    df_y_valid_preds = get_preds_trained_on_all(model, df_X_valid)\n",
    "    # df_y_valid_preds = previous_value_preds(df_X_valid)\n",
    "    print('r2 score: ', r2_score(df_y_valid, df_y_valid_preds))\n",
    "    print('RMSE: ', sqrt(mean_squared_error(df_y_valid, df_y_valid_preds)))\n"
   ]
  },
  {
   "cell_type": "code",
   "execution_count": 7,
   "metadata": {},
   "outputs": [
    {
     "name": "stdout",
     "output_type": "stream",
     "text": [
      "r2 score:  0.3516786787299254\n",
      "RMSE:  0.8880534274597472\n"
     ]
    }
   ],
   "source": [
    "validate(model, df_y_valid, df_X_valid)"
   ]
  },
  {
   "cell_type": "code",
   "execution_count": 7,
   "metadata": {},
   "outputs": [
    {
     "name": "stdout",
     "output_type": "stream",
     "text": [
      "r2 score:  0.3357538987324741\n",
      "RMSE:  0.8988939337763231\n"
     ]
    }
   ],
   "source": [
    "validate(model, df_y_valid, df_X_valid)"
   ]
  },
  {
   "cell_type": "code",
   "execution_count": 21,
   "metadata": {},
   "outputs": [
    {
     "name": "stdout",
     "output_type": "stream",
     "text": [
      "linreg RMSE:  1.2656266149507325\n",
      "rf RMSE:  2.0776610156837596\n"
     ]
    }
   ],
   "source": [
    "\n",
    "df_test = pd.read_hdf('../data/processed/test/aggr_test_manual_feat.hdf')\n",
    "df_test_X = X(df_test)\n",
    "df_test['item_cnt_month'] = get_preds_trained_on_all(model, df_test_X)\n",
    "df_test[['ID', 'item_cnt_month']].to_csv('../data/submissions/submission_trained_on_year_xgb.csv', index=False)\n",
    "\n",
    "linreg_test = pd.read_csv('../data/submissions/if_sells_submission_linreg.csv')\n",
    "print('linreg RMSE: ', sqrt(mean_squared_error(linreg_test['item_cnt_month'], df_test['item_cnt_month'])))\n",
    "rf_test = pd.read_csv('../data/submissions/if_sells_submission_rf.csv')\n",
    "print('rf RMSE: ', sqrt(mean_squared_error(rf_test['item_cnt_month'], df_test['item_cnt_month'])))"
   ]
  },
  {
   "cell_type": "code",
   "execution_count": 8,
   "metadata": {},
   "outputs": [
    {
     "name": "stdout",
     "output_type": "stream",
     "text": [
      "linreg RMSE:  1.2704333560156416\n",
      "rf RMSE:  2.0807564524159243\n"
     ]
    }
   ],
   "source": [
    "\n",
    "df_test = pd.read_hdf('../data/processed/test/aggr_test.hdf')\n",
    "df_test_X = X(df_test)\n",
    "df_test['item_cnt_month'] = get_preds_trained_on_all(model, df_test_X)\n",
    "df_test[['ID', 'item_cnt_month']].to_csv('../data/submissions/submission_trained_on_year_xgb.csv', index=False)\n",
    "\n",
    "linreg_test = pd.read_csv('../data/submissions/if_sells_submission_linreg.csv')\n",
    "print('linreg RMSE: ', sqrt(mean_squared_error(linreg_test['item_cnt_month'], df_test['item_cnt_month'])))\n",
    "rf_test = pd.read_csv('../data/submissions/if_sells_submission_rf.csv')\n",
    "print('rf RMSE: ', sqrt(mean_squared_error(rf_test['item_cnt_month'], df_test['item_cnt_month'])))"
   ]
  },
  {
   "cell_type": "code",
   "execution_count": 12,
   "metadata": {},
   "outputs": [
    {
     "name": "stderr",
     "output_type": "stream",
     "text": [
      "/home/piotrek/.local/lib/python3.5/site-packages/ipykernel_launcher.py:30: SettingWithCopyWarning: \n",
      "A value is trying to be set on a copy of a slice from a DataFrame.\n",
      "Try using .loc[row_indexer,col_indexer] = value instead\n",
      "\n",
      "See the caveats in the documentation: http://pandas.pydata.org/pandas-docs/stable/indexing.html#indexing-view-versus-copy\n"
     ]
    },
    {
     "name": "stdout",
     "output_type": "stream",
     "text": [
      "linreg RMSE:  1.2822909100555244\n",
      "rf RMSE:  2.0878296879063654\n"
     ]
    }
   ],
   "source": [
    "\n",
    "df_test = pd.read_hdf('../data/processed/test/aggr_test.hdf')\n",
    "df_test_X = X(df_test)\n",
    "df_test['item_cnt_month'] = get_preds_trained_on_all(model, df_test_X)\n",
    "df_test[['ID', 'item_cnt_month']].to_csv('../data/submissions/submission_trained_on_year_xgb.csv', index=False)\n",
    "\n",
    "linreg_test = pd.read_csv('../data/submissions/if_sells_submission_linreg.csv')\n",
    "print('linreg RMSE: ', sqrt(mean_squared_error(linreg_test['item_cnt_month'], df_test['item_cnt_month'])))\n",
    "rf_test = pd.read_csv('../data/submissions/if_sells_submission_rf.csv')\n",
    "print('rf RMSE: ', sqrt(mean_squared_error(rf_test['item_cnt_month'], df_test['item_cnt_month'])))"
   ]
  },
  {
   "cell_type": "code",
   "execution_count": 8,
   "metadata": {},
   "outputs": [
    {
     "name": "stderr",
     "output_type": "stream",
     "text": [
      "/home/piotrek/.local/lib/python3.5/site-packages/ipykernel_launcher.py:30: SettingWithCopyWarning: \n",
      "A value is trying to be set on a copy of a slice from a DataFrame.\n",
      "Try using .loc[row_indexer,col_indexer] = value instead\n",
      "\n",
      "See the caveats in the documentation: http://pandas.pydata.org/pandas-docs/stable/indexing.html#indexing-view-versus-copy\n"
     ]
    },
    {
     "name": "stdout",
     "output_type": "stream",
     "text": [
      "linreg RMSE:  1.2891728673291027\n",
      "rf RMSE:  2.0926027080024925\n"
     ]
    }
   ],
   "source": [
    "\n",
    "df_test = pd.read_hdf('../data/processed/test/aggr_test.hdf')\n",
    "df_test_X = X(df_test)\n",
    "df_test['item_cnt_month'] = get_preds_trained_on_all(model, df_test_X)\n",
    "df_test[['ID', 'item_cnt_month']].to_csv('../data/submissions/submission_trained_on_year_xgb_10.csv', index=False)\n",
    "\n",
    "linreg_test = pd.read_csv('../data/submissions/if_sells_submission_linreg.csv')\n",
    "print('linreg RMSE: ', sqrt(mean_squared_error(linreg_test['item_cnt_month'], df_test['item_cnt_month'])))\n",
    "rf_test = pd.read_csv('../data/submissions/if_sells_submission_rf.csv')\n",
    "print('rf RMSE: ', sqrt(mean_squared_error(rf_test['item_cnt_month'], df_test['item_cnt_month'])))"
   ]
  },
  {
   "cell_type": "code",
   "execution_count": 12,
   "metadata": {},
   "outputs": [
    {
     "name": "stdout",
     "output_type": "stream",
     "text": [
      "linreg RMSE:  1.2832880455515667\n",
      "rf RMSE:  2.088641118528103\n"
     ]
    }
   ],
   "source": [
    "df_test = pd.read_hdf('../data/processed/test/aggr_test_25feat.hdf')\n",
    "df_test['item_cnt_month'] = get_preds_trained_on_all(model, df_test.drop('ID', axis=1))\n",
    "df_test[['ID', 'item_cnt_month']].to_csv('../data/submissions/submission_trained_on_year_xgb_10_25feat.csv', index=False)\n",
    "\n",
    "linreg_test = pd.read_csv('../data/submissions/if_sells_submission_linreg.csv')\n",
    "print('linreg RMSE: ', sqrt(mean_squared_error(linreg_test['item_cnt_month'], df_test['item_cnt_month'])))\n",
    "rf_test = pd.read_csv('../data/submissions/if_sells_submission_rf.csv')\n",
    "print('rf RMSE: ', sqrt(mean_squared_error(rf_test['item_cnt_month'], df_test['item_cnt_month'])))"
   ]
  },
  {
   "cell_type": "code",
   "execution_count": null,
   "metadata": {},
   "outputs": [],
   "source": []
  }
 ],
 "metadata": {
  "kernelspec": {
   "display_name": "Python 3",
   "language": "python",
   "name": "python3"
  },
  "language_info": {
   "codemirror_mode": {
    "name": "ipython",
    "version": 3
   },
   "file_extension": ".py",
   "mimetype": "text/x-python",
   "name": "python",
   "nbconvert_exporter": "python",
   "pygments_lexer": "ipython3",
   "version": "3.5.2"
  }
 },
 "nbformat": 4,
 "nbformat_minor": 2
}
