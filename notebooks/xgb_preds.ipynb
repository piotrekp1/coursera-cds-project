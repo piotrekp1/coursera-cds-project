{
 "cells": [
  {
   "cell_type": "code",
   "execution_count": 2,
   "metadata": {},
   "outputs": [],
   "source": [
    "import pandas as pd\n",
    "import xgboost as xgb\n",
    "import pickle \n",
    "model = pickle.load(open('../models/model_xgb.pck', 'rb'))\n"
   ]
  },
  {
   "cell_type": "code",
   "execution_count": 6,
   "metadata": {},
   "outputs": [],
   "source": [
    "from datetime import datetime\n",
    "\n",
    "df = pd.read_hdf('../data/processed/train/aggr_train_manual_feat.hdf')\n",
    "threshold = datetime(2015, 9, 1)\n",
    "df_valid['date'] = pd.to_datetime(df_valid['year'].astype(str) + '-' + df_valid['month'].astype(str) + '-1')\n",
    "df_valid = df[df['date'] >= threshold]"
   ]
  },
  {
   "cell_type": "code",
   "execution_count": 7,
   "metadata": {},
   "outputs": [],
   "source": [
    "\n",
    "def X(df):\n",
    "    df['day_of_year'] = df['date'].dt.dayofyear\n",
    "    date_cols = [\n",
    "        'month', 'year',\n",
    "        'fridays', 'day_of_year'\n",
    "    ]\n",
    "    one_hot_cols = [\n",
    "        'shop_id', 'mall', 'city',\n",
    "        'item_id', 'item_category_id', 'first_big_category', 'last_big_category',\n",
    "    ]\n",
    "    df_X = df[\n",
    "        [\n",
    "            col for col in df.columns\n",
    "            if col.startswith('count')\n",
    "        ]\n",
    "        + date_cols\n",
    "        ]\n",
    "\n",
    "    # df_X = pd.get_dummies(df_X, columns=one_hot_cols)\n",
    "    # df_X = pd.get_dummies(df_X, columns=one_hot_cols + date_cols)\n",
    "    return df_X\n",
    "\n",
    "\n",
    "def XY(df):\n",
    "    df_X = X(df)\n",
    "    df_y = df['item_cnt_day']\n",
    "    return df_X, df_y"
   ]
  },
  {
   "cell_type": "code",
   "execution_count": 8,
   "metadata": {},
   "outputs": [
    {
     "name": "stderr",
     "output_type": "stream",
     "text": [
      "/home/piotrek/.local/lib/python3.5/site-packages/ipykernel_launcher.py:3: SettingWithCopyWarning: \n",
      "A value is trying to be set on a copy of a slice from a DataFrame.\n",
      "Try using .loc[row_indexer,col_indexer] = value instead\n",
      "\n",
      "See the caveats in the documentation: http://pandas.pydata.org/pandas-docs/stable/indexing.html#indexing-view-versus-copy\n",
      "  This is separate from the ipykernel package so we can avoid doing imports until\n"
     ]
    }
   ],
   "source": [
    "\n",
    "df_X_valid, df_y_valid = XY(df_valid)"
   ]
  },
  {
   "cell_type": "code",
   "execution_count": 14,
   "metadata": {},
   "outputs": [],
   "source": [
    "from sklearn.metrics import r2_score, mean_squared_error\n",
    "from math import sqrt\n",
    "def get_preds_trained_on_all(model, df_X):\n",
    "    return model.predict(xgb.DMatrix(df_X)).clip(0, 20)\n",
    "\n",
    "\n",
    "def previous_value_preds(df_X):\n",
    "    df_X = df_X.reindex(columns=df_X_train.columns, fill_value=0)\n",
    "    return df_X['count_aggr_1_month_ago_shop_id_item_id'].clip(0, 20)\n",
    "\n",
    "\n",
    "def validate(model, df_y_valid, df_X_valid):\n",
    "    df_y_valid = df_y_valid.copy().clip(0, 20)\n",
    "    df_y_valid_preds = get_preds_trained_on_all(model, df_X_valid)\n",
    "    # df_y_valid_preds = previous_value_preds(df_X_valid)\n",
    "    print('r2 score: ', r2_score(df_y_valid, df_y_valid_preds))\n",
    "    print('RMSE: ', sqrt(mean_squared_error(df_y_valid, df_y_valid_preds)))\n"
   ]
  },
  {
   "cell_type": "code",
   "execution_count": 15,
   "metadata": {},
   "outputs": [
    {
     "name": "stdout",
     "output_type": "stream",
     "text": [
      "r2 score:  0.35349865676600745\n",
      "RMSE:  0.8868060725164463\n"
     ]
    }
   ],
   "source": [
    "validate(model, df_y_valid, df_X_valid)"
   ]
  },
  {
   "cell_type": "code",
   "execution_count": 21,
   "metadata": {},
   "outputs": [
    {
     "name": "stdout",
     "output_type": "stream",
     "text": [
      "linreg RMSE:  1.2656266149507325\n",
      "rf RMSE:  2.0776610156837596\n"
     ]
    }
   ],
   "source": [
    "\n",
    "df_test = pd.read_hdf('../data/processed/test/aggr_test_manual_feat.hdf')\n",
    "df_test_X = X(df_test)\n",
    "df_test['item_cnt_month'] = get_preds_trained_on_all(model, df_test_X)\n",
    "df_test[['ID', 'item_cnt_month']].to_csv('../data/submissions/submission_trained_on_year_xgb.csv', index=False)\n",
    "\n",
    "linreg_test = pd.read_csv('../data/submissions/if_sells_submission_linreg.csv')\n",
    "print('linreg RMSE: ', sqrt(mean_squared_error(linreg_test['item_cnt_month'], df_test['item_cnt_month'])))\n",
    "rf_test = pd.read_csv('../data/submissions/if_sells_submission_rf.csv')\n",
    "print('rf RMSE: ', sqrt(mean_squared_error(rf_test['item_cnt_month'], df_test['item_cnt_month'])))"
   ]
  },
  {
   "cell_type": "code",
   "execution_count": null,
   "metadata": {},
   "outputs": [],
   "source": []
  }
 ],
 "metadata": {
  "kernelspec": {
   "display_name": "Python 3",
   "language": "python",
   "name": "python3"
  },
  "language_info": {
   "codemirror_mode": {
    "name": "ipython",
    "version": 3
   },
   "file_extension": ".py",
   "mimetype": "text/x-python",
   "name": "python",
   "nbconvert_exporter": "python",
   "pygments_lexer": "ipython3",
   "version": "3.5.2"
  }
 },
 "nbformat": 4,
 "nbformat_minor": 2
}
