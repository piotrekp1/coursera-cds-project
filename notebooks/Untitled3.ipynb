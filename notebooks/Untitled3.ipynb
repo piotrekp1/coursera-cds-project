{
 "cells": [
  {
   "cell_type": "code",
   "execution_count": 1,
   "metadata": {},
   "outputs": [
    {
     "data": {
      "text/html": [
       "<div>\n",
       "<style scoped>\n",
       "    .dataframe tbody tr th:only-of-type {\n",
       "        vertical-align: middle;\n",
       "    }\n",
       "\n",
       "    .dataframe tbody tr th {\n",
       "        vertical-align: top;\n",
       "    }\n",
       "\n",
       "    .dataframe thead th {\n",
       "        text-align: right;\n",
       "    }\n",
       "</style>\n",
       "<table border=\"1\" class=\"dataframe\">\n",
       "  <thead>\n",
       "    <tr style=\"text-align: right;\">\n",
       "      <th></th>\n",
       "      <th>shop_name</th>\n",
       "      <th>shop_id</th>\n",
       "    </tr>\n",
       "  </thead>\n",
       "  <tbody>\n",
       "    <tr>\n",
       "      <th>0</th>\n",
       "      <td>!Якутск Орджоникидзе, 56 фран</td>\n",
       "      <td>0</td>\n",
       "    </tr>\n",
       "    <tr>\n",
       "      <th>1</th>\n",
       "      <td>!Якутск ТЦ \"Центральный\" фран</td>\n",
       "      <td>1</td>\n",
       "    </tr>\n",
       "    <tr>\n",
       "      <th>2</th>\n",
       "      <td>Адыгея ТЦ \"Мега\"</td>\n",
       "      <td>2</td>\n",
       "    </tr>\n",
       "    <tr>\n",
       "      <th>3</th>\n",
       "      <td>Балашиха ТРК \"Октябрь-Киномир\"</td>\n",
       "      <td>3</td>\n",
       "    </tr>\n",
       "    <tr>\n",
       "      <th>4</th>\n",
       "      <td>Волжский ТЦ \"Волга Молл\"</td>\n",
       "      <td>4</td>\n",
       "    </tr>\n",
       "  </tbody>\n",
       "</table>\n",
       "</div>"
      ],
      "text/plain": [
       "                        shop_name  shop_id\n",
       "0   !Якутск Орджоникидзе, 56 фран        0\n",
       "1   !Якутск ТЦ \"Центральный\" фран        1\n",
       "2                Адыгея ТЦ \"Мега\"        2\n",
       "3  Балашиха ТРК \"Октябрь-Киномир\"        3\n",
       "4        Волжский ТЦ \"Волга Молл\"        4"
      ]
     },
     "execution_count": 1,
     "metadata": {},
     "output_type": "execute_result"
    }
   ],
   "source": [
    "import pandas as pd \n",
    "shops = pd.read_csv('../data/raw/shops.csv')\n",
    "shops.head()"
   ]
  },
  {
   "cell_type": "code",
   "execution_count": 4,
   "metadata": {},
   "outputs": [
    {
     "data": {
      "text/plain": [
       "0     !Якутск Орджоникидзе, 56 фран\n",
       "1     !Якутск ТЦ \"Центральный\" фран\n",
       "2                  Адыгея ТЦ \"Мега\"\n",
       "3    Балашиха ТРК \"Октябрь-Киномир\"\n",
       "4          Волжский ТЦ \"Волга Молл\"\n",
       "Name: shop_name, dtype: object"
      ]
     },
     "execution_count": 4,
     "metadata": {},
     "output_type": "execute_result"
    }
   ],
   "source": [
    "shops['shop_name'].head()"
   ]
  },
  {
   "cell_type": "code",
   "execution_count": 5,
   "metadata": {},
   "outputs": [
    {
     "data": {
      "text/html": [
       "<div>\n",
       "<style scoped>\n",
       "    .dataframe tbody tr th:only-of-type {\n",
       "        vertical-align: middle;\n",
       "    }\n",
       "\n",
       "    .dataframe tbody tr th {\n",
       "        vertical-align: top;\n",
       "    }\n",
       "\n",
       "    .dataframe thead th {\n",
       "        text-align: right;\n",
       "    }\n",
       "</style>\n",
       "<table border=\"1\" class=\"dataframe\">\n",
       "  <thead>\n",
       "    <tr style=\"text-align: right;\">\n",
       "      <th></th>\n",
       "      <th>item_name</th>\n",
       "      <th>item_id</th>\n",
       "      <th>item_category_id</th>\n",
       "    </tr>\n",
       "  </thead>\n",
       "  <tbody>\n",
       "    <tr>\n",
       "      <th>0</th>\n",
       "      <td>! ВО ВЛАСТИ НАВАЖДЕНИЯ (ПЛАСТ.)         D</td>\n",
       "      <td>0</td>\n",
       "      <td>40</td>\n",
       "    </tr>\n",
       "    <tr>\n",
       "      <th>1</th>\n",
       "      <td>!ABBYY FineReader 12 Professional Edition Full...</td>\n",
       "      <td>1</td>\n",
       "      <td>76</td>\n",
       "    </tr>\n",
       "    <tr>\n",
       "      <th>2</th>\n",
       "      <td>***В ЛУЧАХ СЛАВЫ   (UNV)                    D</td>\n",
       "      <td>2</td>\n",
       "      <td>40</td>\n",
       "    </tr>\n",
       "    <tr>\n",
       "      <th>3</th>\n",
       "      <td>***ГОЛУБАЯ ВОЛНА  (Univ)                      D</td>\n",
       "      <td>3</td>\n",
       "      <td>40</td>\n",
       "    </tr>\n",
       "    <tr>\n",
       "      <th>4</th>\n",
       "      <td>***КОРОБКА (СТЕКЛО)                       D</td>\n",
       "      <td>4</td>\n",
       "      <td>40</td>\n",
       "    </tr>\n",
       "  </tbody>\n",
       "</table>\n",
       "</div>"
      ],
      "text/plain": [
       "                                           item_name  item_id  \\\n",
       "0          ! ВО ВЛАСТИ НАВАЖДЕНИЯ (ПЛАСТ.)         D        0   \n",
       "1  !ABBYY FineReader 12 Professional Edition Full...        1   \n",
       "2      ***В ЛУЧАХ СЛАВЫ   (UNV)                    D        2   \n",
       "3    ***ГОЛУБАЯ ВОЛНА  (Univ)                      D        3   \n",
       "4        ***КОРОБКА (СТЕКЛО)                       D        4   \n",
       "\n",
       "   item_category_id  \n",
       "0                40  \n",
       "1                76  \n",
       "2                40  \n",
       "3                40  \n",
       "4                40  "
      ]
     },
     "execution_count": 5,
     "metadata": {},
     "output_type": "execute_result"
    }
   ],
   "source": [
    "items = pd.read_csv('../data/raw/items.csv')\n",
    "item_categories = pd.read_csv('../data/raw/item_categories.csv')\n",
    "items.head()"
   ]
  },
  {
   "cell_type": "code",
   "execution_count": 6,
   "metadata": {},
   "outputs": [
    {
     "data": {
      "text/html": [
       "<div>\n",
       "<style scoped>\n",
       "    .dataframe tbody tr th:only-of-type {\n",
       "        vertical-align: middle;\n",
       "    }\n",
       "\n",
       "    .dataframe tbody tr th {\n",
       "        vertical-align: top;\n",
       "    }\n",
       "\n",
       "    .dataframe thead th {\n",
       "        text-align: right;\n",
       "    }\n",
       "</style>\n",
       "<table border=\"1\" class=\"dataframe\">\n",
       "  <thead>\n",
       "    <tr style=\"text-align: right;\">\n",
       "      <th></th>\n",
       "      <th>item_category_name</th>\n",
       "      <th>item_category_id</th>\n",
       "    </tr>\n",
       "  </thead>\n",
       "  <tbody>\n",
       "    <tr>\n",
       "      <th>0</th>\n",
       "      <td>PC - Гарнитуры/Наушники</td>\n",
       "      <td>0</td>\n",
       "    </tr>\n",
       "    <tr>\n",
       "      <th>1</th>\n",
       "      <td>Аксессуары - PS2</td>\n",
       "      <td>1</td>\n",
       "    </tr>\n",
       "    <tr>\n",
       "      <th>2</th>\n",
       "      <td>Аксессуары - PS3</td>\n",
       "      <td>2</td>\n",
       "    </tr>\n",
       "    <tr>\n",
       "      <th>3</th>\n",
       "      <td>Аксессуары - PS4</td>\n",
       "      <td>3</td>\n",
       "    </tr>\n",
       "    <tr>\n",
       "      <th>4</th>\n",
       "      <td>Аксессуары - PSP</td>\n",
       "      <td>4</td>\n",
       "    </tr>\n",
       "  </tbody>\n",
       "</table>\n",
       "</div>"
      ],
      "text/plain": [
       "        item_category_name  item_category_id\n",
       "0  PC - Гарнитуры/Наушники                 0\n",
       "1         Аксессуары - PS2                 1\n",
       "2         Аксессуары - PS3                 2\n",
       "3         Аксессуары - PS4                 3\n",
       "4         Аксессуары - PSP                 4"
      ]
     },
     "execution_count": 6,
     "metadata": {},
     "output_type": "execute_result"
    }
   ],
   "source": [
    "item_categories.head()"
   ]
  },
  {
   "cell_type": "code",
   "execution_count": 12,
   "metadata": {},
   "outputs": [
    {
     "data": {
      "text/plain": [
       "0                      PC - Гарнитуры/Наушники\n",
       "1                             Аксессуары - PS2\n",
       "2                             Аксессуары - PS3\n",
       "3                             Аксессуары - PS4\n",
       "4                             Аксессуары - PSP\n",
       "5                          Аксессуары - PSVita\n",
       "6                        Аксессуары - XBOX 360\n",
       "7                        Аксессуары - XBOX ONE\n",
       "8                               Билеты (Цифра)\n",
       "9                              Доставка товара\n",
       "10                       Игровые консоли - PS2\n",
       "11                       Игровые консоли - PS3\n",
       "12                       Игровые консоли - PS4\n",
       "13                       Игровые консоли - PSP\n",
       "14                    Игровые консоли - PSVita\n",
       "15                  Игровые консоли - XBOX 360\n",
       "16                  Игровые консоли - XBOX ONE\n",
       "17                    Игровые консоли - Прочие\n",
       "18                                  Игры - PS2\n",
       "19                                  Игры - PS3\n",
       "20                                  Игры - PS4\n",
       "21                                  Игры - PSP\n",
       "22                               Игры - PSVita\n",
       "23                             Игры - XBOX 360\n",
       "24                             Игры - XBOX ONE\n",
       "25                   Игры - Аксессуары для игр\n",
       "26                        Игры Android - Цифра\n",
       "27                            Игры MAC - Цифра\n",
       "28            Игры PC - Дополнительные издания\n",
       "29             Игры PC - Коллекционные издания\n",
       "                        ...                   \n",
       "54                               Книги - Цифра\n",
       "55         Музыка - CD локального производства\n",
       "56         Музыка - CD фирменного производства\n",
       "57                                Музыка - MP3\n",
       "58                              Музыка - Винил\n",
       "59                  Музыка - Музыкальное видео\n",
       "60                 Музыка - Подарочные издания\n",
       "61                        Подарки - Атрибутика\n",
       "62            Подарки - Гаджеты, роботы, спорт\n",
       "63                    Подарки - Мягкие игрушки\n",
       "64                   Подарки - Настольные игры\n",
       "65      Подарки - Настольные игры (компактные)\n",
       "66                Подарки - Открытки, наклейки\n",
       "67                          Подарки - Развитие\n",
       "68               Подарки - Сертификаты, услуги\n",
       "69                          Подарки - Сувениры\n",
       "70              Подарки - Сувениры (в навеску)\n",
       "71    Подарки - Сумки, Альбомы, Коврики д/мыши\n",
       "72                           Подарки - Фигурки\n",
       "73                Программы - 1С:Предприятие 8\n",
       "74                     Программы - MAC (Цифра)\n",
       "75                Программы - Для дома и офиса\n",
       "76        Программы - Для дома и офиса (Цифра)\n",
       "77                       Программы - Обучающие\n",
       "78               Программы - Обучающие (Цифра)\n",
       "79                                   Служебные\n",
       "80                          Служебные - Билеты\n",
       "81                     Чистые носители (шпиль)\n",
       "82                   Чистые носители (штучные)\n",
       "83                            Элементы питания\n",
       "Name: item_category_name, Length: 84, dtype: object"
      ]
     },
     "execution_count": 12,
     "metadata": {},
     "output_type": "execute_result"
    }
   ],
   "source": [
    "item_categories['item_category_name']"
   ]
  },
  {
   "cell_type": "code",
   "execution_count": 11,
   "metadata": {},
   "outputs": [
    {
     "data": {
      "text/plain": [
       "                                   7\n",
       " Цифра                             4\n",
       " PS4                               3\n",
       " PSVita                            3\n",
       " PS3                               3\n",
       " PS2                               3\n",
       " PSP                               3\n",
       " XBOX 360                          3\n",
       " Blu                               3\n",
       " XBOX ONE                          3\n",
       " Комиксы, манга                    1\n",
       " Подарочные издания                1\n",
       " Коллекционное                     1\n",
       " Дополнительные издания            1\n",
       " Артбуки, энциклопедии             1\n",
       " Аудиокниги (Цифра)                1\n",
       " Windows (Цифра)                   1\n",
       " DVD                               1\n",
       " Настольные игры                   1\n",
       " Винил                             1\n",
       " Сувениры                          1\n",
       " Бизнес литература                 1\n",
       " Развитие                          1\n",
       " Билеты                            1\n",
       " Компьютерная литература           1\n",
       " Live!                             1\n",
       " Гарнитуры/Наушники                1\n",
       " 1С:Предприятие 8                  1\n",
       " Аудиокниги 1С                     1\n",
       " Художественная литература         1\n",
       " Путеводители                      1\n",
       " Настольные игры (компактные)      1\n",
       " Сертификаты, услуги               1\n",
       " Аксессуары для игр                1\n",
       " Live! (Цифра)                     1\n",
       " Мягкие игрушки                    1\n",
       " Аудиокниги                        1\n",
       " Прочие                            1\n",
       " Стандартные издания               1\n",
       " Сувениры (в навеску)              1\n",
       " Методические материалы 1С         1\n",
       " Обучающие                         1\n",
       " Коллекционные издания             1\n",
       " CD локального производства        1\n",
       " MAC (Цифра)                       1\n",
       " Атрибутика                        1\n",
       " Сумки, Альбомы, Коврики д/мыши    1\n",
       " CD фирменного производства        1\n",
       " PSN                               1\n",
       " Обучающие (Цифра)                 1\n",
       " Для дома и офиса                  1\n",
       " MP3                               1\n",
       " Музыкальное видео                 1\n",
       " Открытки, наклейки                1\n",
       " Познавательная литература         1\n",
       " Фигурки                           1\n",
       " Открытки                          1\n",
       " Гаджеты, роботы, спорт            1\n",
       " Для дома и офиса (Цифра)          1\n",
       "Name: item_category_name, dtype: int64"
      ]
     },
     "execution_count": 11,
     "metadata": {},
     "output_type": "execute_result"
    }
   ],
   "source": [
    "item_categories['item_category_name'].str.split('-').apply(lambda x: '' if len(x) < 2 else x[1]).value_counts()"
   ]
  },
  {
   "cell_type": "code",
   "execution_count": null,
   "metadata": {},
   "outputs": [],
   "source": []
  }
 ],
 "metadata": {
  "kernelspec": {
   "display_name": "Python 3",
   "language": "python",
   "name": "python3"
  },
  "language_info": {
   "codemirror_mode": {
    "name": "ipython",
    "version": 3
   },
   "file_extension": ".py",
   "mimetype": "text/x-python",
   "name": "python",
   "nbconvert_exporter": "python",
   "pygments_lexer": "ipython3",
   "version": "3.5.2"
  }
 },
 "nbformat": 4,
 "nbformat_minor": 2
}
